{
 "cells": [
  {
   "cell_type": "markdown",
   "id": "66adc0d0",
   "metadata": {},
   "source": [
    "# importants programs"
   ]
  },
  {
   "cell_type": "code",
   "execution_count": null,
   "id": "fa08bb0a",
   "metadata": {},
   "outputs": [],
   "source": [
    "print('addition of a and b is =',d)# r string\n",
    "print('addition of',a,'and',b,'is=',d)\n",
    "print(f'addition of {a} and {b} is ={d}')# f string\n",
    "print('addition of {} and {} is {}'.format(a,b,d))# format string\n",
    "print('addition of a=%f and b=%d is d=%d'%(a,b,d))# percent format string"
   ]
  },
  {
   "cell_type": "code",
   "execution_count": null,
   "id": "c408cc28",
   "metadata": {},
   "outputs": [],
   "source": [
    "# My Questions \n",
    "\n",
    "a='akshay'\n",
    "#for i in a(len(a)): we can not use gives error\n",
    "list(range(10)) >> [1,2,3,4,5,6,7,8,9,10] it will create list. replace of list we can create tuple,set,frozenset.\n",
    "for i in range(a): i=0,1,2,3,4... it works only when there is only one number in a variable. a=23 not like a=12,34\n",
    "for i in range(1,a): i=1,2,3,4... it works only when there is only one number in a variable. a=123 not like a=12,34\n",
    "for i in range(len(a)):  i=0,1,2,3,4,5\n",
    "for i in range(1,len(a)): i=1,2,3,4,5\n",
    "for i in range(0,10): i=0,1,2,3,4,5,6,7,8,9\n",
    "for i in a: i=a,k,s,h,a,y\n",
    "print(i) i= a,k,s,h,a,y\n",
    "print a[i] i= a[0]=a, a[1]=k, a[2]=s, a[3]=h, a[4]=a, a[5]=y\n",
    "print[i] i= [0],[1],[2],[3],[4],[5]\n",
    "print len(i)\n",
    "print len[i]"
   ]
  },
  {
   "cell_type": "code",
   "execution_count": 4,
   "id": "883fcde7",
   "metadata": {},
   "outputs": [
    {
     "name": "stdout",
     "output_type": "stream",
     "text": [
      "a\n",
      "k\n",
      "s\n",
      "h\n",
      "a\n",
      "y\n"
     ]
    }
   ],
   "source": [
    "a=\"akshay\"\n",
    "for i in a:\n",
    "    print(i)"
   ]
  },
  {
   "cell_type": "code",
   "execution_count": 2,
   "id": "323c1d80",
   "metadata": {},
   "outputs": [
    {
     "name": "stdout",
     "output_type": "stream",
     "text": [
      "a\n",
      "k\n",
      "s\n",
      "h\n",
      "a\n",
      "y\n"
     ]
    }
   ],
   "source": [
    "a=\"akshay\"\n",
    "for i in range(len(a)):\n",
    "    print(a[i])"
   ]
  },
  {
   "cell_type": "code",
   "execution_count": 13,
   "id": "135f0120",
   "metadata": {},
   "outputs": [
    {
     "name": "stdout",
     "output_type": "stream",
     "text": [
      "a\n",
      "k\n",
      "s\n",
      "h\n",
      "a\n",
      "y\n"
     ]
    }
   ],
   "source": [
    "a='akshay'\n",
    "b=''\n",
    "for i in range(len(a)):\n",
    "    b=a[i]\n",
    "    print(b)"
   ]
  },
  {
   "cell_type": "code",
   "execution_count": 3,
   "id": "d55ecdff",
   "metadata": {},
   "outputs": [
    {
     "name": "stdout",
     "output_type": "stream",
     "text": [
      "a\n",
      "k\n",
      "s\n",
      "h\n",
      "a\n",
      "y\n"
     ]
    }
   ],
   "source": [
    "a='akshay'\n",
    "b=''\n",
    "for i in a:\n",
    "    b=i\n",
    "    print(b)"
   ]
  },
  {
   "cell_type": "code",
   "execution_count": 1,
   "id": "d7942d71",
   "metadata": {},
   "outputs": [
    {
     "name": "stdout",
     "output_type": "stream",
     "text": [
      "0\n",
      "1\n",
      "2\n",
      "3\n",
      "4\n",
      "5\n"
     ]
    }
   ],
   "source": [
    "a=\"akshay\"\n",
    "for i in range(0,len(a)):\n",
    "    print(i)"
   ]
  },
  {
   "cell_type": "code",
   "execution_count": 4,
   "id": "4b8b5d8f",
   "metadata": {},
   "outputs": [
    {
     "name": "stdout",
     "output_type": "stream",
     "text": [
      "[0]\n",
      "[1]\n",
      "[2]\n",
      "[3]\n",
      "[4]\n",
      "[5]\n"
     ]
    }
   ],
   "source": [
    "a=\"akshay\"\n",
    "for i in range(len(a)):\n",
    "    print([i])"
   ]
  },
  {
   "cell_type": "code",
   "execution_count": 4,
   "id": "88fbbb77",
   "metadata": {},
   "outputs": [
    {
     "name": "stdout",
     "output_type": "stream",
     "text": [
      "a\n",
      "ak\n",
      "aks\n",
      "aksh\n",
      "aksha\n",
      "akshay\n"
     ]
    }
   ],
   "source": [
    "a=\"akshay\"\n",
    "b=''\n",
    "for i in range(0,len(a)):\n",
    "    b=b+a[i]\n",
    "    print(b)"
   ]
  },
  {
   "cell_type": "code",
   "execution_count": 5,
   "id": "b031b3d7",
   "metadata": {},
   "outputs": [
    {
     "name": "stdout",
     "output_type": "stream",
     "text": [
      "a\n",
      "ak\n",
      "aks\n",
      "aksh\n",
      "aksha\n",
      "akshay\n"
     ]
    }
   ],
   "source": [
    "a=\"akshay\"\n",
    "b=''\n",
    "for i in range(len(a)):\n",
    "    b=b+(a[i])\n",
    "    print(b)"
   ]
  },
  {
   "cell_type": "code",
   "execution_count": 3,
   "id": "e5a477c7",
   "metadata": {},
   "outputs": [
    {
     "name": "stdout",
     "output_type": "stream",
     "text": [
      "a\n",
      "ak\n",
      "aks\n",
      "aksh\n",
      "aksha\n",
      "akshay\n"
     ]
    }
   ],
   "source": [
    "a='akshay'\n",
    "b=''\n",
    "for i in a:\n",
    "    b=b+i\n",
    "    print(b)"
   ]
  },
  {
   "cell_type": "code",
   "execution_count": 14,
   "id": "d9904858",
   "metadata": {},
   "outputs": [
    {
     "name": "stdout",
     "output_type": "stream",
     "text": [
      "[1]\n",
      "[1, 2]\n",
      "[1, 2, 3]\n",
      "[1, 2, 3, 4]\n",
      "[1, 2, 3, 4, 56]\n",
      "[1, 2, 3, 4, 56, 'ram']\n"
     ]
    }
   ],
   "source": [
    "a=[1,2,3,4,56,'ram']\n",
    "b=[]\n",
    "for i in a:\n",
    "    b.append(i)\n",
    "    print(b)"
   ]
  },
  {
   "cell_type": "code",
   "execution_count": 7,
   "id": "31dda6ea",
   "metadata": {},
   "outputs": [
    {
     "name": "stdout",
     "output_type": "stream",
     "text": [
      "[1]\n",
      "[1, 2]\n",
      "[1, 2, 3]\n",
      "[1, 2, 3, 4]\n",
      "[1, 2, 3, 4, 56]\n",
      "[1, 2, 3, 4, 56, 'ram']\n"
     ]
    }
   ],
   "source": [
    "a=[1,2,3,4,56,'ram']\n",
    "b=[]\n",
    "for i in range(len(a)):\n",
    "    b.append(a[i])\n",
    "    print(b)"
   ]
  },
  {
   "cell_type": "code",
   "execution_count": 6,
   "id": "c6797596",
   "metadata": {},
   "outputs": [
    {
     "name": "stdout",
     "output_type": "stream",
     "text": [
      "[0]\n",
      "[0, 1]\n",
      "[0, 1, 2]\n",
      "[0, 1, 2, 3]\n",
      "[0, 1, 2, 3, 4]\n",
      "[0, 1, 2, 3, 4, 5]\n"
     ]
    }
   ],
   "source": [
    "a=[1,2,3,4,56,'ram']\n",
    "b=[]\n",
    "for i in range(len(a)):\n",
    "    b.append(i)\n",
    "    print(b)"
   ]
  },
  {
   "cell_type": "code",
   "execution_count": 8,
   "id": "f51c6795",
   "metadata": {},
   "outputs": [
    {
     "ename": "TypeError",
     "evalue": "can only concatenate str (not \"list\") to str",
     "output_type": "error",
     "traceback": [
      "\u001b[1;31m---------------------------------------------------------------------------\u001b[0m",
      "\u001b[1;31mTypeError\u001b[0m                                 Traceback (most recent call last)",
      "Input \u001b[1;32mIn [8]\u001b[0m, in \u001b[0;36m<cell line: 3>\u001b[1;34m()\u001b[0m\n\u001b[0;32m      2\u001b[0m b\u001b[38;5;241m=\u001b[39m\u001b[38;5;124m'\u001b[39m\u001b[38;5;124m'\u001b[39m\n\u001b[0;32m      3\u001b[0m \u001b[38;5;28;01mfor\u001b[39;00m i \u001b[38;5;129;01min\u001b[39;00m a:\n\u001b[1;32m----> 4\u001b[0m     b\u001b[38;5;241m=\u001b[39m\u001b[43mb\u001b[49m\u001b[38;5;241;43m+\u001b[39;49m\u001b[43m[\u001b[49m\u001b[43mi\u001b[49m\u001b[43m]\u001b[49m\n\u001b[0;32m      5\u001b[0m     \u001b[38;5;28mprint\u001b[39m(b)\n",
      "\u001b[1;31mTypeError\u001b[0m: can only concatenate str (not \"list\") to str"
     ]
    }
   ],
   "source": [
    "a='akshay'\n",
    "b=''\n",
    "for i in a:\n",
    "    b=b+[i]\n",
    "    print(b)"
   ]
  },
  {
   "cell_type": "code",
   "execution_count": 5,
   "id": "16466f6a",
   "metadata": {},
   "outputs": [
    {
     "name": "stdout",
     "output_type": "stream",
     "text": [
      "1\n",
      "1\n",
      "1\n",
      "1\n",
      "1\n",
      "1\n"
     ]
    }
   ],
   "source": [
    "a=\"akshay\"\n",
    "for i in a:\n",
    "    print(len(i))"
   ]
  },
  {
   "cell_type": "code",
   "execution_count": 5,
   "id": "ed7806bd",
   "metadata": {},
   "outputs": [
    {
     "name": "stdout",
     "output_type": "stream",
     "text": [
      "6\n",
      "6\n",
      "6\n",
      "6\n",
      "6\n",
      "6\n"
     ]
    }
   ],
   "source": [
    "a=\"akshay\"\n",
    "for i in a:\n",
    "    print(len(a))"
   ]
  },
  {
   "cell_type": "code",
   "execution_count": 6,
   "id": "90ef97d4",
   "metadata": {},
   "outputs": [
    {
     "ename": "TypeError",
     "evalue": "'builtin_function_or_method' object is not subscriptable",
     "output_type": "error",
     "traceback": [
      "\u001b[1;31m---------------------------------------------------------------------------\u001b[0m",
      "\u001b[1;31mTypeError\u001b[0m                                 Traceback (most recent call last)",
      "Input \u001b[1;32mIn [6]\u001b[0m, in \u001b[0;36m<cell line: 2>\u001b[1;34m()\u001b[0m\n\u001b[0;32m      1\u001b[0m a\u001b[38;5;241m=\u001b[39m\u001b[38;5;124m\"\u001b[39m\u001b[38;5;124makshay\u001b[39m\u001b[38;5;124m\"\u001b[39m\n\u001b[0;32m      2\u001b[0m \u001b[38;5;28;01mfor\u001b[39;00m i \u001b[38;5;129;01min\u001b[39;00m a:\n\u001b[1;32m----> 3\u001b[0m     \u001b[38;5;28mprint\u001b[39m(\u001b[38;5;28;43mlen\u001b[39;49m\u001b[43m[\u001b[49m\u001b[43mi\u001b[49m\u001b[43m]\u001b[49m)\n",
      "\u001b[1;31mTypeError\u001b[0m: 'builtin_function_or_method' object is not subscriptable"
     ]
    }
   ],
   "source": [
    "a=\"akshay\"\n",
    "for i in a:\n",
    "    print(len[i])"
   ]
  },
  {
   "cell_type": "code",
   "execution_count": 6,
   "id": "17d27732",
   "metadata": {},
   "outputs": [
    {
     "ename": "TypeError",
     "evalue": "'builtin_function_or_method' object is not subscriptable",
     "output_type": "error",
     "traceback": [
      "\u001b[1;31m---------------------------------------------------------------------------\u001b[0m",
      "\u001b[1;31mTypeError\u001b[0m                                 Traceback (most recent call last)",
      "Input \u001b[1;32mIn [6]\u001b[0m, in \u001b[0;36m<cell line: 2>\u001b[1;34m()\u001b[0m\n\u001b[0;32m      1\u001b[0m a\u001b[38;5;241m=\u001b[39m\u001b[38;5;124m\"\u001b[39m\u001b[38;5;124makshay\u001b[39m\u001b[38;5;124m\"\u001b[39m\n\u001b[0;32m      2\u001b[0m \u001b[38;5;28;01mfor\u001b[39;00m i \u001b[38;5;129;01min\u001b[39;00m a:\n\u001b[1;32m----> 3\u001b[0m     \u001b[38;5;28mprint\u001b[39m(\u001b[38;5;28;43mlen\u001b[39;49m\u001b[43m[\u001b[49m\u001b[43ma\u001b[49m\u001b[43m]\u001b[49m)\n",
      "\u001b[1;31mTypeError\u001b[0m: 'builtin_function_or_method' object is not subscriptable"
     ]
    }
   ],
   "source": [
    "a=\"akshay\"\n",
    "for i in a:\n",
    "    print(len[a])"
   ]
  },
  {
   "cell_type": "code",
   "execution_count": 1,
   "id": "f3847525",
   "metadata": {},
   "outputs": [
    {
     "name": "stdout",
     "output_type": "stream",
     "text": [
      "50\n",
      "This is my function.\n",
      "Shamal\n"
     ]
    }
   ],
   "source": [
    "name ='Shamal' ## Global Variable\n",
    "y = 'This is a global variable' # global Variable.\n",
    "def my_fun():\n",
    "    x = 50 # Local variable\n",
    "    y = 'This is my function.' # local Variable\n",
    "    print(x)\n",
    "    print(y)\n",
    "    print(name)\n",
    "my_fun()    "
   ]
  },
  {
   "cell_type": "code",
   "execution_count": null,
   "id": "1e6a87b0",
   "metadata": {},
   "outputs": [],
   "source": [
    "Numeric : int, float, complex\n",
    "Text : str\n",
    "Sequence : list, tuple, range\n",
    "Mapping : dict\n",
    "Set : set, frozenset\n",
    "boolean : bool(true and false)"
   ]
  },
  {
   "cell_type": "code",
   "execution_count": 2,
   "id": "02df4842",
   "metadata": {},
   "outputs": [
    {
     "name": "stdout",
     "output_type": "stream",
     "text": [
      "yes ready is present at 60th position\n"
     ]
    }
   ],
   "source": [
    "str1='i would like to say that your awessome and clever boy so be ready with_my daddy and mummy to sya 1 my mom@ love you'\n",
    "\n",
    "locky=\"ready\"\n",
    "\n",
    "if locky in str1:\n",
    "    index=str1.index(locky)\n",
    "    print(f'yes {locky} is present at {index}th position')\n",
    "else:\n",
    "    print(f'no {locky} is not present')"
   ]
  },
  {
   "cell_type": "code",
   "execution_count": 4,
   "id": "217959d7",
   "metadata": {},
   "outputs": [
    {
     "name": "stdout",
     "output_type": "stream",
     "text": [
      "right sir programing is available at 21th place\n"
     ]
    }
   ],
   "source": [
    "madhu='python is high level programing language'\n",
    "madhusubstring='programing'\n",
    "if madhusubstring in madhu:\n",
    "    index=madhu.index(madhusubstring)\n",
    "    print(f\"right sir {madhusubstring} is available at {index}th place\")\n",
    "else:\n",
    "    print(f\"badly {madhusubstring} not available\")\n",
    "           "
   ]
  },
  {
   "cell_type": "code",
   "execution_count": 5,
   "id": "930a6518",
   "metadata": {},
   "outputs": [
    {
     "name": "stdout",
     "output_type": "stream",
     "text": [
      "length of my_love2 is 9\n"
     ]
    }
   ],
   "source": [
    "my_love2='then what'\n",
    "print('length of my_love2 is',len(my_love2))"
   ]
  },
  {
   "cell_type": "code",
   "execution_count": 7,
   "id": "6e7e41e5",
   "metadata": {},
   "outputs": [
    {
     "name": "stdout",
     "output_type": "stream",
     "text": [
      "yes python is real statement\n"
     ]
    }
   ],
   "source": [
    "string='python'\n",
    "if string.startswith('py'):\n",
    "    print(F'yes {string} is real statement')\n",
    "else:\n",
    "    print(f'no {string} is not real statement')"
   ]
  },
  {
   "cell_type": "code",
   "execution_count": 9,
   "id": "263b77cd",
   "metadata": {},
   "outputs": [
    {
     "name": "stdout",
     "output_type": "stream",
     "text": [
      "yes python is easy to code read, write, and run.and it has extensive libraries is real statement\n"
     ]
    }
   ],
   "source": [
    "d2_avA='python is easy to code read, write, and run.and it has extensive libraries'\n",
    "if d2_avA.endswith('es'):\n",
    "    print(F'yes {d2_avA} is real statement')\n",
    "else:\n",
    "    print(f'no {d2_avA} is not real statement')"
   ]
  },
  {
   "cell_type": "code",
   "execution_count": null,
   "id": "5efa5602",
   "metadata": {},
   "outputs": [],
   "source": [
    "+ >> addition\n",
    "- >> substraction\n",
    "* >> multiplication\n",
    "/ >> division\n",
    "% >> mod >> gives reminder ( bhagakar zalya nantarachi rahileli baki value dakhavate)\n",
    "// >> floor division quoshon  (bhagakar zalya nantarachi bhag geleli value dakhavat)\n",
    "** >> power  (power mhanaje ji bi value ghetali asel and techa powe jevada dila asel ghetaleli value tya \n",
    "power chya value evadi multiply karayachi eg.50**2=2500)\n",
    "even  numbers >> 2,4,6,8\n",
    "odd numbers >> 1,3,5,7,9\n",
    "\n",
    "+= >> a+=1 >> a=a+1\n",
    "-= >> a-=1 >> a=a-1\n",
    "*= >>\n",
    "/= >>\n",
    "%= >>\n",
    "//= >>\n",
    "**== >>\n",
    "\n",
    "and\n",
    "or\n",
    "not\n",
    "\n",
    "in\n",
    "not in\n",
    "\n",
    "is\n",
    "is not\n",
    "\n",
    "== >> equal to\n",
    "!= >> Not equal to\n",
    ">  >> Greater than\n",
    "<  >> Less than\n",
    ">= >> Geater than or equal to\n",
    "<= >> Less than or equal to\n"
   ]
  },
  {
   "cell_type": "code",
   "execution_count": 17,
   "id": "335bbaa4",
   "metadata": {},
   "outputs": [
    {
     "name": "stdout",
     "output_type": "stream",
     "text": [
      "a and b are not same\n"
     ]
    }
   ],
   "source": [
    "if a==b:\n",
    "    print('a and b are same')\n",
    "else:\n",
    "    print('a and b are not same')"
   ]
  },
  {
   "cell_type": "code",
   "execution_count": 16,
   "id": "9ae62cfd",
   "metadata": {},
   "outputs": [
    {
     "name": "stdout",
     "output_type": "stream",
     "text": [
      "78 and 87 are not same\n"
     ]
    }
   ],
   "source": [
    "if a is not b:\n",
    "    print(f'{a} and {b} are not same')\n",
    "else:\n",
    "    print(f'{a} and {b} are same same')"
   ]
  },
  {
   "cell_type": "code",
   "execution_count": 15,
   "id": "18d4d0f9",
   "metadata": {},
   "outputs": [
    {
     "name": "stdout",
     "output_type": "stream",
     "text": [
      "a and b are not same\n"
     ]
    }
   ],
   "source": [
    "a=78\n",
    "b=87\n",
    "if a is b:\n",
    "    print('a and b are same')\n",
    "else:\n",
    "    print('a and b are not same')"
   ]
  },
  {
   "cell_type": "code",
   "execution_count": 13,
   "id": "1bd9d171",
   "metadata": {},
   "outputs": [
    {
     "name": "stdout",
     "output_type": "stream",
     "text": [
      "yes a = xyz is there\n"
     ]
    }
   ],
   "source": [
    "a='xyz'\n",
    "if not a:\n",
    "    print('no tell us')\n",
    "else:\n",
    "    print(f'yes a = {a} is there')"
   ]
  },
  {
   "cell_type": "code",
   "execution_count": 11,
   "id": "3486212e",
   "metadata": {},
   "outputs": [
    {
     "name": "stdout",
     "output_type": "stream",
     "text": [
      "0\n",
      "1\n",
      "2\n",
      "3\n",
      "4\n",
      "5\n",
      "6\n",
      "7\n",
      "8\n",
      "9\n",
      "10\n",
      "11\n",
      "12\n",
      "13\n",
      "14\n",
      "15\n",
      "16\n",
      "17\n",
      "18\n",
      "19\n"
     ]
    }
   ],
   "source": [
    "cc='bhai kya hal hai2 #@'\n",
    "length=0\n",
    "for letter in cc:\n",
    "    print(length)\n",
    "    length+=1"
   ]
  },
  {
   "cell_type": "code",
   "execution_count": 12,
   "id": "2e27657d",
   "metadata": {},
   "outputs": [
    {
     "name": "stdout",
     "output_type": "stream",
     "text": [
      "b\n",
      "h\n",
      "a\n",
      "i\n",
      " \n",
      "k\n",
      "y\n",
      "a\n",
      " \n",
      "h\n",
      "a\n",
      "l\n",
      " \n",
      "h\n",
      "a\n",
      "i\n",
      "2\n",
      " \n",
      "#\n",
      "@\n"
     ]
    }
   ],
   "source": [
    "cc='bhai kya hal hai2 #@'\n",
    "length=1\n",
    "for letter in cc:\n",
    "    length+=1\n",
    "    print(letter)"
   ]
  },
  {
   "cell_type": "code",
   "execution_count": null,
   "id": "00312351",
   "metadata": {},
   "outputs": [],
   "source": [
    "Syntax:\n",
    "\n",
    "if condition: #whether it is true / false.\n",
    "    statement/ block of code\n",
    "#####################\n",
    "\n",
    "if condition: # whether it is true / false.\n",
    "    statement1/Block of code\n",
    "else:\n",
    "    statement2/block of code\n",
    "# if statement can not be empty.\n",
    "\n",
    "######################\n",
    "\n",
    "if condition1: # whether it is true / false.\n",
    "    statement1/block of code\n",
    "elif condition2:\n",
    "    statement2\n",
    "elif condition3:\n",
    "    statement3\n",
    "else:\n",
    "    statement4\n"
   ]
  },
  {
   "cell_type": "code",
   "execution_count": 19,
   "id": "401c9989",
   "metadata": {},
   "outputs": [
    {
     "name": "stdout",
     "output_type": "stream",
     "text": [
      "a and b are not same\n"
     ]
    }
   ],
   "source": [
    "if a!=b:#true so it goes to dire 2nd statement\n",
    "    print('a and b are not same')\n",
    "else:\n",
    "    print('a and b are same')"
   ]
  },
  {
   "cell_type": "code",
   "execution_count": 18,
   "id": "ae51eeff",
   "metadata": {},
   "outputs": [
    {
     "name": "stdout",
     "output_type": "stream",
     "text": [
      "a annd b are not same\n"
     ]
    }
   ],
   "source": [
    "if a==b:#false so it excecute statement 1\n",
    "    print('a and b are same')\n",
    "else:\n",
    "    print('a annd b are not same')"
   ]
  },
  {
   "cell_type": "code",
   "execution_count": 20,
   "id": "b1b75a30",
   "metadata": {},
   "outputs": [
    {
     "name": "stdout",
     "output_type": "stream",
     "text": [
      "doing is in mummy variable as a string is there\n"
     ]
    }
   ],
   "source": [
    "mummy='are you doing well mom'\n",
    "if 'doing'not in mummy:\n",
    "    print('doing is not in mummy variable not present as a string')\n",
    "else:\n",
    "    print('doing is in mummy variable as a string is there')"
   ]
  },
  {
   "cell_type": "code",
   "execution_count": 22,
   "id": "472ef6dd",
   "metadata": {},
   "outputs": [
    {
     "name": "stdout",
     "output_type": "stream",
     "text": [
      "87\n",
      "greater\n"
     ]
    }
   ],
   "source": [
    "var1=56\n",
    "var2=65\n",
    "var3=int(input())\n",
    "if var3>var2:\n",
    "    print('greater')\n",
    "elif var3<var2:\n",
    "    print(\"lower\")\n",
    "else:\n",
    "    print('equal')"
   ]
  },
  {
   "cell_type": "code",
   "execution_count": 23,
   "id": "a768328a",
   "metadata": {},
   "outputs": [
    {
     "name": "stdout",
     "output_type": "stream",
     "text": [
      "[23, 34, 45, 56, 67, 78]\n",
      "no 24 it is not in the list\n"
     ]
    }
   ],
   "source": [
    "list1=[23,34,45,56,67,78]\n",
    "print(list1)\n",
    "if 24 not in list1:\n",
    "    print(\"no 24 it is not in the list\")\n",
    "elif 24 in list1:\n",
    "    print(\"it is in list\")\n",
    "else:\n",
    "    print(\"happy birthday bhai\")"
   ]
  },
  {
   "cell_type": "code",
   "execution_count": 24,
   "id": "c80f183c",
   "metadata": {},
   "outputs": [
    {
     "name": "stdout",
     "output_type": "stream",
     "text": [
      "what is your age\n",
      "56\n",
      "rada rada\n"
     ]
    }
   ],
   "source": [
    "print(\"what is your age\")\n",
    "age=int(input())\n",
    "if age>56:\n",
    "    print(\"your genious\")\n",
    "elif age<56:\n",
    "    print(\"you are aesome\")\n",
    "else:\n",
    "    print(\"rada rada\")\n"
   ]
  },
  {
   "cell_type": "code",
   "execution_count": 25,
   "id": "ffce9c6f",
   "metadata": {},
   "outputs": [
    {
     "name": "stdout",
     "output_type": "stream",
     "text": [
      "enter the Math marks:0\n",
      "enter the science marks:76\n",
      "enter the english marks:567\n",
      "enter the social science marks:89\n",
      "You alloted for Humanities\n"
     ]
    }
   ],
   "source": [
    "math=int(input('enter the Math marks:'))\n",
    "science=int(input('enter the science marks:'))\n",
    "english=int(input('enter the english marks:'))\n",
    "social_studies=int(input('enter the social science marks:'))\n",
    "\n",
    "if math>80 and science>80 and english>80 and social_studies>80:\n",
    "        print('You alloted for Science stream')\n",
    "elif math and science<80 and english>80 and social_studies>80:\n",
    "        print('You alloted for Commerce Stream')\n",
    "elif math<80 and science<80 and english>80 and social_studies>80:\n",
    "        print('You alloted for Humanities')\n",
    "else:\n",
    "    print('Your marks are too less to be alloted')"
   ]
  },
  {
   "cell_type": "code",
   "execution_count": 26,
   "id": "99c44739",
   "metadata": {},
   "outputs": [
    {
     "name": "stdout",
     "output_type": "stream",
     "text": [
      "Enter Your Percentage:\n",
      "87\n",
      "You got 'B' Grade\n"
     ]
    }
   ],
   "source": [
    "print('Enter Your Percentage:')\n",
    "num=eval(input())\n",
    "if num>90:\n",
    "    print('You got \\'A\\' Grade')\n",
    "elif num>80 and num<=90:\n",
    "    print('You got \\'B\\' Grade')\n",
    "elif num>=60 and num<=80:\n",
    "    print('You got \\'C\\' Grade')\n",
    "elif num<60:\n",
    "    print('You got \\'D\\' Grade')"
   ]
  },
  {
   "cell_type": "code",
   "execution_count": 27,
   "id": "ba5bb153",
   "metadata": {},
   "outputs": [
    {
     "name": "stdout",
     "output_type": "stream",
     "text": [
      "number is odd\n"
     ]
    }
   ],
   "source": [
    "a=6%5\n",
    "if a%5==0:\n",
    "    print('number is even')\n",
    "else:\n",
    "    print('number is odd')"
   ]
  },
  {
   "cell_type": "code",
   "execution_count": 28,
   "id": "9f98ede7",
   "metadata": {},
   "outputs": [
    {
     "name": "stdout",
     "output_type": "stream",
     "text": [
      "enter the your choice number: 6\n",
      "a is even number: 6\n"
     ]
    }
   ],
   "source": [
    "a=eval(input('enter the your choice number: '))\n",
    "if a%2==0:\n",
    "    print('a is even number:',a)\n",
    "else:\n",
    "    print('a is odd number:',a)"
   ]
  },
  {
   "cell_type": "code",
   "execution_count": 30,
   "id": "599a1d1e",
   "metadata": {},
   "outputs": [
    {
     "name": "stdout",
     "output_type": "stream",
     "text": [
      "enter the your choice number: 21\n",
      "a is odd number: 21\n"
     ]
    }
   ],
   "source": [
    "a=eval(input('enter the your choice number: '))\n",
    "if a%2==1:\n",
    "    print('a is odd number:',a)\n",
    "else:\n",
    "    print('a is even number:',a)"
   ]
  },
  {
   "cell_type": "code",
   "execution_count": 32,
   "id": "2e48f238",
   "metadata": {},
   "outputs": [
    {
     "name": "stdout",
     "output_type": "stream",
     "text": [
      "enter the no 47\n",
      "no is prime number beacuse,it is divisble by 1 and itself 47\n"
     ]
    }
   ],
   "source": [
    "a=eval(input('enter the no ', ))\n",
    "if type(a)==float:\n",
    "    print('number is float can\\'t accept')\n",
    "elif a==1:\n",
    "    print('it is a prime number')\n",
    "elif a%2==0:\n",
    "    print('no is divsible by 2')\n",
    "elif a%3==0:\n",
    "    print('no is divisible by 3')\n",
    "elif a%5==0:\n",
    "    print('no is divisble by 5')\n",
    "elif a%7==0:\n",
    "    print('no is divisble by 7')   \n",
    "else:\n",
    "    print(f'no is prime number beacuse,it is divisble by 1 and itself {a}')\n"
   ]
  },
  {
   "cell_type": "code",
   "execution_count": 2,
   "id": "423c998a",
   "metadata": {},
   "outputs": [
    {
     "name": "stdout",
     "output_type": "stream",
     "text": [
      "Enter the number: 47\n",
      "The number 47 is a prime number\n"
     ]
    }
   ],
   "source": [
    "a = eval(input('Enter the number: '))\n",
    "\n",
    "if type(a) == float:\n",
    "    print(f'The number {a} is a float')\n",
    "elif a<=0:\n",
    "    print(f'The number {a} is less than or equal to zero')\n",
    "elif a==1:\n",
    "    print(f'The number {a} prime number')\n",
    "else:\n",
    "    for i in range(2,a):\n",
    "        if a%i == 0:\n",
    "            print(f'The number {a} is a not prime number')\n",
    "            break\n",
    "    else:\n",
    "        print(f'The number {a} is a prime number')"
   ]
  },
  {
   "cell_type": "code",
   "execution_count": 1,
   "id": "55380813",
   "metadata": {},
   "outputs": [
    {
     "name": "stdout",
     "output_type": "stream",
     "text": [
      "[44, 56, 76, 8]\n",
      "[13, 11, 17, 47]\n"
     ]
    }
   ],
   "source": [
    "l = [13,11,17,47,44,56,76,8]\n",
    "notprime =[]\n",
    "prime = []\n",
    "for i in l:\n",
    "    for j in list(range(2,i)):#it will create a list of 2,....12 like thhat\n",
    "        if i%j==0:#13/2,3,4,...13\n",
    "            notprime.append(i)\n",
    "            break\n",
    "            #l.remove(i)\n",
    "    else:\n",
    "        prime.append(i)\n",
    "            \n",
    "print(notprime)\n",
    "print(prime)"
   ]
  },
  {
   "cell_type": "code",
   "execution_count": 9,
   "id": "47d42726",
   "metadata": {},
   "outputs": [
    {
     "data": {
      "text/plain": [
       "range(0, 10)"
      ]
     },
     "execution_count": 9,
     "metadata": {},
     "output_type": "execute_result"
    }
   ],
   "source": [
    "range(10)"
   ]
  },
  {
   "cell_type": "code",
   "execution_count": 6,
   "id": "ab8a0cbc",
   "metadata": {},
   "outputs": [
    {
     "data": {
      "text/plain": [
       "[0, 1, 2, 3, 4, 5, 6, 7, 8, 9]"
      ]
     },
     "execution_count": 6,
     "metadata": {},
     "output_type": "execute_result"
    }
   ],
   "source": [
    "list(range(10))"
   ]
  },
  {
   "cell_type": "code",
   "execution_count": 33,
   "id": "602bf5f6",
   "metadata": {},
   "outputs": [
    {
     "name": "stdout",
     "output_type": "stream",
     "text": [
      "Enter how many numbers you want to enter:3\n",
      "Enter the number: 2\n",
      "Enter the number: 3\n",
      "Enter the number: 5\n",
      "The greatest number is 5.0\n"
     ]
    }
   ],
   "source": [
    "n = int(input('Enter how many numbers you want to enter:'))\n",
    "a = float(input('Enter the number: '))\n",
    "x = 0\n",
    "\n",
    "for i in range(1,n):\n",
    "    b = float(input('Enter the number: '))\n",
    "    if b >= a:\n",
    "        x = b\n",
    "        a = b\n",
    "    else:\n",
    "        x = a\n",
    "        \n",
    "    n-=1\n",
    "    \n",
    "print(f'The greatest number is {x}')"
   ]
  },
  {
   "cell_type": "code",
   "execution_count": 34,
   "id": "9c105f77",
   "metadata": {},
   "outputs": [
    {
     "name": "stdout",
     "output_type": "stream",
     "text": [
      "percentage marks obtained 67\n",
      "1st class\n"
     ]
    }
   ],
   "source": [
    "perc=eval(input('percentage marks obtained '))\n",
    "\n",
    "if perc>=70.00 and perc<=100.00: \n",
    "    print('1st class with dist')\n",
    "elif perc>=60.00 and perc<70.00: \n",
    "    print('1st class')\n",
    "elif perc>=50.00 and perc<60.00:\n",
    "    print('2nd class')\n",
    "elif perc>=40.00 and perc<50.00:\n",
    "    print('3rd class')\n",
    "elif perc>=00.00 and perc<40.00:\n",
    "    print('fail')"
   ]
  },
  {
   "cell_type": "code",
   "execution_count": 35,
   "id": "f50cdb4c",
   "metadata": {},
   "outputs": [
    {
     "name": "stdout",
     "output_type": "stream",
     "text": [
      "a is greater than b\n"
     ]
    }
   ],
   "source": [
    "print('a is less than b')if a<b else print('a is greater than b')"
   ]
  },
  {
   "cell_type": "code",
   "execution_count": 37,
   "id": "5b935fe5",
   "metadata": {},
   "outputs": [
    {
     "name": "stdout",
     "output_type": "stream",
     "text": [
      "right a is greater than 30\n"
     ]
    }
   ],
   "source": [
    "if a<30:print('right a is greater than 30')"
   ]
  },
  {
   "cell_type": "code",
   "execution_count": null,
   "id": "f0b3c659",
   "metadata": {},
   "outputs": [],
   "source": [
    "for nested if else\n",
    "if condition: #if this statement true it will go in next if statement.otherwise if statement wrong it will go direct last else.\n",
    "    statement1\n",
    "    if condition:\n",
    "        statement2\n",
    "    else:\n",
    "        statement3\n",
    "else:\n",
    "    statement4"
   ]
  },
  {
   "cell_type": "code",
   "execution_count": 38,
   "id": "58bc2b43",
   "metadata": {},
   "outputs": [
    {
     "name": "stdout",
     "output_type": "stream",
     "text": [
      "a is greater than 50\n",
      "a is less than 60\n"
     ]
    }
   ],
   "source": [
    "a = 60\n",
    "if a>50:#true\n",
    "    print('a is greater than 50')\n",
    "    if a<60:#false\n",
    "        print('a is either equal to 60 or greater than 60')\n",
    "        if a>50:#true\n",
    "            print('a is greater or than 50')\n",
    "    else:\n",
    "        print('a is less than 60')\n",
    "elif a>50:\n",
    "    print('a is less than 50')\n",
    "    if a>=40:\n",
    "        print('a is either equal to 40 or greater than 40')\n",
    "else:\n",
    "    print('a is equal to 60')\n",
    "        "
   ]
  },
  {
   "cell_type": "code",
   "execution_count": 39,
   "id": "4a9ea134",
   "metadata": {},
   "outputs": [
    {
     "name": "stdout",
     "output_type": "stream",
     "text": [
      "[0, 1, 2, 3, 4, 5, 6, 7, 8, 9]\n"
     ]
    }
   ],
   "source": [
    "print(list(range(0,10)))"
   ]
  },
  {
   "cell_type": "code",
   "execution_count": 40,
   "id": "f3b72d5c",
   "metadata": {},
   "outputs": [
    {
     "name": "stdout",
     "output_type": "stream",
     "text": [
      "m 0\n",
      "y 1\n",
      "  2\n",
      "n 3\n",
      "a 4\n",
      "m 5\n",
      "e 6\n"
     ]
    }
   ],
   "source": [
    "a='my name'\n",
    "index=0\n",
    "for i in a:\n",
    "    print(i,index)\n",
    "    index=index+1"
   ]
  },
  {
   "cell_type": "code",
   "execution_count": 41,
   "id": "f8a16d02",
   "metadata": {},
   "outputs": [
    {
     "name": "stdout",
     "output_type": "stream",
     "text": [
      "2\n",
      "1\n",
      "1\n",
      "1\n",
      "1\n",
      "2\n",
      "1\n"
     ]
    }
   ],
   "source": [
    "a='my name'\n",
    "for i in a:\n",
    "    print(a.count(i))  "
   ]
  },
  {
   "cell_type": "code",
   "execution_count": 42,
   "id": "b926a4c4",
   "metadata": {},
   "outputs": [
    {
     "name": "stdout",
     "output_type": "stream",
     "text": [
      "m 1\n",
      "y 1\n",
      "  1\n",
      "n 1\n",
      "a 1\n",
      "m 1\n",
      "e 1\n"
     ]
    }
   ],
   "source": [
    "a='my name'\n",
    "for i in a:\n",
    "    print(i,len(i))              "
   ]
  },
  {
   "cell_type": "code",
   "execution_count": 43,
   "id": "abce1a2c",
   "metadata": {},
   "outputs": [
    {
     "name": "stdout",
     "output_type": "stream",
     "text": [
      "m y   n a m e "
     ]
    }
   ],
   "source": [
    "a='my name'\n",
    "for i in a:\n",
    "    print(i,end=' ')"
   ]
  },
  {
   "cell_type": "code",
   "execution_count": 44,
   "id": "fd1e24f8",
   "metadata": {},
   "outputs": [
    {
     "name": "stdout",
     "output_type": "stream",
     "text": [
      "0 1 2 3 4 5 6 "
     ]
    }
   ],
   "source": [
    "a='my name'\n",
    "for i in range(0,len(a)):\n",
    "    print(i,end=' ')"
   ]
  },
  {
   "cell_type": "code",
   "execution_count": 45,
   "id": "479463e8",
   "metadata": {},
   "outputs": [
    {
     "name": "stdout",
     "output_type": "stream",
     "text": [
      "enter your string ramadas\n",
      "0 1 2 3 4 5 6 "
     ]
    }
   ],
   "source": [
    "a=str(input('enter your string '))\n",
    "for i in range(0,len(a)):\n",
    "    print(i,end=' ')"
   ]
  },
  {
   "cell_type": "code",
   "execution_count": 46,
   "id": "235b4ddc",
   "metadata": {},
   "outputs": [
    {
     "name": "stdout",
     "output_type": "stream",
     "text": [
      "enter your number 6\n",
      "1 2 3 4 5 "
     ]
    }
   ],
   "source": [
    "a=eval(input('enter your number '))\n",
    "for i in range(1,a):\n",
    "    print(i,end=' ')"
   ]
  },
  {
   "cell_type": "code",
   "execution_count": 47,
   "id": "a2b23859",
   "metadata": {},
   "outputs": [
    {
     "name": "stdout",
     "output_type": "stream",
     "text": [
      "0 1 2 3 "
     ]
    }
   ],
   "source": [
    "a=34,4,35,6\n",
    "for i in range(len(a)):\n",
    "    print(i,end=' ')"
   ]
  },
  {
   "cell_type": "code",
   "execution_count": 48,
   "id": "fe7a7aa4",
   "metadata": {},
   "outputs": [
    {
     "name": "stdout",
     "output_type": "stream",
     "text": [
      "laxman value of 1th position is l\n",
      "laxman value of 8th position is a\n",
      "laxman value of 15th position is x\n",
      "laxman value of 22th position is m\n",
      "laxman value of 29th position is a\n",
      "laxman value of 36th position is n\n"
     ]
    }
   ],
   "source": [
    "index=1\n",
    "for letter in 'laxman':\n",
    "    print(f'laxman value of {index}th position is {letter}')\n",
    "    index=index+7"
   ]
  },
  {
   "cell_type": "code",
   "execution_count": 49,
   "id": "f8ceeaef",
   "metadata": {},
   "outputs": [
    {
     "name": "stdout",
     "output_type": "stream",
     "text": [
      "even number: [2, 6, 8]\n",
      "odd number: [1, 4.5, 3, 5.1, 2.2, 4.3, 7]\n"
     ]
    }
   ],
   "source": [
    "list1 = [1,4.5,2,3,5.1,6,2.2,4.3,7,8]\n",
    "even_number=[]\n",
    "odd_number=[]\n",
    "for i in list1:\n",
    "    if i%2==0:\n",
    "        even_number.append(i)\n",
    "    else:\n",
    "        odd_number.append(i)\n",
    "print(f'even number: {even_number}')\n",
    "print('odd number:',odd_number)\n"
   ]
  },
  {
   "cell_type": "code",
   "execution_count": 50,
   "id": "c6eb5882",
   "metadata": {},
   "outputs": [
    {
     "name": "stdout",
     "output_type": "stream",
     "text": [
      "list of integer is [1, 2, 3, 6, 7, 8]\n",
      "list of float is [4.5, 5.1, 2.2, 4.3]\n"
     ]
    }
   ],
   "source": [
    "int_list=[]\n",
    "float_list=[]\n",
    "for i in list1:\n",
    "    if type(i)==int:\n",
    "        int_list.append(i)\n",
    "    else:\n",
    "        float_list.append(i)\n",
    "print('list of integer is',int_list)\n",
    "print('list of float is',float_list)\n",
    "        "
   ]
  },
  {
   "cell_type": "code",
   "execution_count": 51,
   "id": "8d4b7f70",
   "metadata": {},
   "outputs": [
    {
     "name": "stdout",
     "output_type": "stream",
     "text": [
      "list of positive is [12, 5, 45, 7]\n",
      "list of negative is [-32, -5, -45, -76]\n"
     ]
    }
   ],
   "source": [
    "list=[12,-32,5,45,-5,-45,-76,7]\n",
    "positive_list=[]\n",
    "negative_list=[]\n",
    "for i in list:\n",
    "    if i>=0:\n",
    "        positive_list.append(i)\n",
    "    else:\n",
    "        negative_list.append(i)\n",
    "print('list of positive is',positive_list)\n",
    "print('list of negative is',negative_list)\n",
    "        "
   ]
  },
  {
   "cell_type": "code",
   "execution_count": 53,
   "id": "81bc952d",
   "metadata": {},
   "outputs": [
    {
     "name": "stdout",
     "output_type": "stream",
     "text": [
      "Enter the string: ra md as34 5$gg%\n",
      "2\n",
      "6\n",
      "3\n",
      "3\n"
     ]
    }
   ],
   "source": [
    "st = input('Enter the string: ')\n",
    "vowels = 0\n",
    "consonants = 0\n",
    "digit = 0\n",
    "space = 0\n",
    "\n",
    "for i in st:\n",
    "    if (i =='a' or i =='e' or i =='i' or i =='o' or i =='u'or i =='A' or i =='E' or i =='I' or i =='O' or i =='U'):\n",
    "        vowels = vowels+1\n",
    "    elif((ord(i)>=97 and ord(i)<=123)):\n",
    "        consonants = consonants+1\n",
    "        \n",
    "    elif i.isdigit():\n",
    "        digit = digit + 1\n",
    "    else:\n",
    "        if (i.isspace() == True):\n",
    "            space = space + 1\n",
    "              \n",
    "        \n",
    "        \n",
    "        \n",
    "print(vowels)\n",
    "print(consonants)\n",
    "print(digit)\n",
    "print(space)"
   ]
  },
  {
   "cell_type": "code",
   "execution_count": 54,
   "id": "0b6a77a1",
   "metadata": {},
   "outputs": [
    {
     "name": "stdout",
     "output_type": "stream",
     "text": [
      "list before [1, 4.5, 2, 3, 5.1, 6, 2.2, 4.3, 7, 8]\n",
      "10\n",
      "list after [1, 4.5, 2, 3, 5.1, 6, 2.2, 4.3, 7]\n",
      "list after [1, 4.5, 2, 3, 5.1, 6, 2.2, 4.3]\n",
      "list after [1, 4.5, 2, 3, 5.1, 6, 2.2]\n",
      "list after [1, 4.5, 2, 3, 5.1, 6]\n",
      "list after [1, 4.5, 2, 3, 5.1]\n",
      "list after [1, 4.5, 2, 3]\n",
      "list after [1, 4.5, 2]\n",
      "list after [1, 4.5]\n",
      "list after [1]\n",
      "list after []\n"
     ]
    }
   ],
   "source": [
    "print('list before',list1)\n",
    "j=len(list1)\n",
    "print(j)\n",
    "for i in range(0,j): # range(0,7), 0,1,2,3,4,5,6\n",
    "    list1.pop()\n",
    "    print('list after',list1)"
   ]
  },
  {
   "cell_type": "code",
   "execution_count": 55,
   "id": "f1215b37",
   "metadata": {},
   "outputs": [
    {
     "name": "stdout",
     "output_type": "stream",
     "text": [
      "d 2\n",
      "y 3\n",
      "n 1\n",
      "a 2\n",
      "m 1\n",
      "i 1\n",
      "c 1\n",
      "a 2\n",
      "l 2\n",
      "l 2\n",
      "y 3\n",
      "  1\n",
      "t 1\n",
      "y 3\n",
      "p 1\n",
      "e 1\n",
      "d 2\n"
     ]
    }
   ],
   "source": [
    "a='dynamically typed'\n",
    "for i in a:\n",
    "    print(i,a.count(i))"
   ]
  },
  {
   "cell_type": "code",
   "execution_count": 56,
   "id": "c7d2aa40",
   "metadata": {},
   "outputs": [
    {
     "name": "stdout",
     "output_type": "stream",
     "text": [
      "list updated [5, 'Python', 'Data Science', 10, 25, 4, 30]\n",
      "list updated [5, 'Data Science', 10, 25, 4, 30]\n",
      "list updated [5, 'Data Science', 25, 4, 30]\n",
      "list updated [5, 'Data Science', 25, 30]\n"
     ]
    }
   ],
   "source": [
    "list2 = [2,5,'Python','Data Science',10,25,4,30]\n",
    "for i in list2:# [5,'Python','Data Science',10,25,4,30], [5,'Data Science',10,25,4,30], [5,'Data Science',25,4,30],[5,'Data Science',25,30]\n",
    "    #print(i)\n",
    "    list2.remove(i)\n",
    "    print('list updated',list2)"
   ]
  },
  {
   "cell_type": "code",
   "execution_count": 57,
   "id": "a0ce8c04",
   "metadata": {},
   "outputs": [
    {
     "name": "stdout",
     "output_type": "stream",
     "text": [
      "4\n",
      "4\n",
      "4\n",
      "4\n",
      "2\n",
      "1\n",
      "1\n",
      "0\n"
     ]
    }
   ],
   "source": [
    "list1 = [4,5,7,8,2,1,9,0]\n",
    "min1=list1[0]\n",
    "for i in list1:\n",
    " #   print(i)\n",
    "    if i<min1:\n",
    "        min1=i\n",
    "    print(min1)"
   ]
  },
  {
   "cell_type": "code",
   "execution_count": 58,
   "id": "5d1e1391",
   "metadata": {},
   "outputs": [
    {
     "name": "stdout",
     "output_type": "stream",
     "text": [
      "[10]\n",
      "[10, 30]\n",
      "[10, 30, 50]\n",
      "[10, 30, 50, 40]\n",
      "[10, 30, 50, 40, 20]\n"
     ]
    }
   ],
   "source": [
    "list1=[1,3,5,4,2] # [10,30,50,40,20]\n",
    "list2=[]\n",
    "for i in list1:\n",
    "    list2.append(i*10)\n",
    "    print(list2)\n",
    "    "
   ]
  },
  {
   "cell_type": "code",
   "execution_count": 59,
   "id": "9cd63529",
   "metadata": {},
   "outputs": [
    {
     "data": {
      "text/plain": [
       "[1, 3, 5, 4, 2]"
      ]
     },
     "execution_count": 59,
     "metadata": {},
     "output_type": "execute_result"
    }
   ],
   "source": [
    "[i for i in list1]  #[result   for loop  if statement]"
   ]
  },
  {
   "cell_type": "code",
   "execution_count": 60,
   "id": "1d2e6a1d",
   "metadata": {},
   "outputs": [
    {
     "data": {
      "text/plain": [
       "[10, 30, 50, 40, 20]"
      ]
     },
     "execution_count": 60,
     "metadata": {},
     "output_type": "execute_result"
    }
   ],
   "source": [
    "[i*10 for i in list1]"
   ]
  },
  {
   "cell_type": "code",
   "execution_count": 61,
   "id": "21e33aaf",
   "metadata": {},
   "outputs": [
    {
     "name": "stdout",
     "output_type": "stream",
     "text": [
      "[4]\n",
      "[4, 2]\n"
     ]
    }
   ],
   "source": [
    "list1=[1,3,5,4,2,3]\n",
    "list2=[]\n",
    "for i in list1:\n",
    "    if i%2==0:\n",
    "        list2.append(i)\n",
    "        print(list2)"
   ]
  },
  {
   "cell_type": "code",
   "execution_count": 62,
   "id": "e7a11659",
   "metadata": {},
   "outputs": [
    {
     "data": {
      "text/plain": [
       "[4, 2]"
      ]
     },
     "execution_count": 62,
     "metadata": {},
     "output_type": "execute_result"
    }
   ],
   "source": [
    "[i for i in list1 if i%2==0]"
   ]
  },
  {
   "cell_type": "code",
   "execution_count": 63,
   "id": "9a946958",
   "metadata": {},
   "outputs": [
    {
     "ename": "SyntaxError",
     "evalue": "invalid syntax (1621806743.py, line 1)",
     "output_type": "error",
     "traceback": [
      "\u001b[1;36m  Input \u001b[1;32mIn [63]\u001b[1;36m\u001b[0m\n\u001b[1;33m    Nested list is nothing but a list or lists inside or within another list.\u001b[0m\n\u001b[1;37m           ^\u001b[0m\n\u001b[1;31mSyntaxError\u001b[0m\u001b[1;31m:\u001b[0m invalid syntax\n"
     ]
    }
   ],
   "source": [
    "Nested list is nothing but a list or lists inside or within another list.\n",
    "for eg. [2,3,[3,4,[3,4,5,]5,6,],4,5,6,6] its total length is >> 7"
   ]
  },
  {
   "cell_type": "code",
   "execution_count": null,
   "id": "61084a8a",
   "metadata": {},
   "outputs": [],
   "source": [
    "Syntax:\n",
    "    for element in sequence:\n",
    "        print(element)\n",
    "        statement1\n",
    "        statement2"
   ]
  },
  {
   "cell_type": "code",
   "execution_count": null,
   "id": "7784f094",
   "metadata": {},
   "outputs": [],
   "source": [
    "Syntax:\n",
    "    for index, element in enumerate(sequence):\n",
    "        print(element)\n",
    "        print(index)\n",
    "        print(index, element)\n",
    "        statement1\n",
    "        statement2"
   ]
  },
  {
   "cell_type": "code",
   "execution_count": 64,
   "id": "f3c6a91e",
   "metadata": {},
   "outputs": [
    {
     "name": "stdout",
     "output_type": "stream",
     "text": [
      "r\n",
      "o\n",
      "b\n",
      "o\n",
      "t\n",
      "i\n",
      "c\n",
      "s\n"
     ]
    }
   ],
   "source": [
    "re=\"robotics\"\n",
    "for letter in re:\n",
    "    print(letter)"
   ]
  },
  {
   "cell_type": "code",
   "execution_count": 65,
   "id": "6379374e",
   "metadata": {},
   "outputs": [
    {
     "name": "stdout",
     "output_type": "stream",
     "text": [
      "robotics\n",
      "robotics\n",
      "robotics\n",
      "robotics\n",
      "robotics\n",
      "robotics\n",
      "robotics\n",
      "robotics\n"
     ]
    }
   ],
   "source": [
    "re='robotics'\n",
    "for letter in re:\n",
    "    print(re)"
   ]
  },
  {
   "cell_type": "code",
   "execution_count": 66,
   "id": "f2c7d8bf",
   "metadata": {},
   "outputs": [
    {
     "name": "stdout",
     "output_type": "stream",
     "text": [
      "ugly\n",
      "ugly\n",
      "ugly\n",
      "ugly\n",
      "ugly\n",
      "ugly\n",
      "ugly\n",
      "ugly\n"
     ]
    }
   ],
   "source": [
    "re='robotics'\n",
    "for i in 'robotics':\n",
    "    print('ugly')"
   ]
  },
  {
   "cell_type": "code",
   "execution_count": 67,
   "id": "25c190ab",
   "metadata": {},
   "outputs": [
    {
     "name": "stdout",
     "output_type": "stream",
     "text": [
      "20\n",
      "30\n",
      "40\n",
      "50\n",
      "340\n",
      "20\n",
      "40\n",
      "560\n",
      "760\n",
      "-60\n",
      "5.0\n"
     ]
    }
   ],
   "source": [
    "list=[2,3,4,5,34,2,4,56,76,-6,0.5]\n",
    "for i in list:\n",
    "    print(i*10)"
   ]
  },
  {
   "cell_type": "code",
   "execution_count": 68,
   "id": "bbb4e511",
   "metadata": {},
   "outputs": [
    {
     "name": "stdout",
     "output_type": "stream",
     "text": [
      "monday 6\n",
      "tuesday 7\n",
      "wednessday 10\n",
      "thursday 8\n",
      "friday 6\n",
      "saturday 8\n",
      "sunday 6\n"
     ]
    }
   ],
   "source": [
    "list2='monday','tuesday','wednessday','thursday','friday','saturday','sunday'\n",
    "for day in list2:\n",
    "    print(day,len(day))"
   ]
  },
  {
   "cell_type": "code",
   "execution_count": 69,
   "id": "94688367",
   "metadata": {},
   "outputs": [
    {
     "name": "stdout",
     "output_type": "stream",
     "text": [
      "0\n",
      "1\n",
      "2\n",
      "3\n",
      "4\n",
      "5\n",
      "6\n",
      "7\n",
      "8\n",
      "9\n",
      "10\n",
      "11\n",
      "12\n",
      "13\n",
      "14\n",
      "15\n",
      "16\n",
      "17\n",
      "18\n",
      "19\n"
     ]
    }
   ],
   "source": [
    "i=range(20)\n",
    "for j in i:\n",
    "    print(j)"
   ]
  },
  {
   "cell_type": "code",
   "execution_count": 70,
   "id": "fdbc2e70",
   "metadata": {},
   "outputs": [
    {
     "name": "stdout",
     "output_type": "stream",
     "text": [
      "0\n",
      "1\n",
      "2\n",
      "3\n",
      "4\n",
      "5\n",
      "6\n",
      "7\n",
      "8\n",
      "9\n",
      "10\n",
      "11\n",
      "12\n",
      "13\n",
      "14\n",
      "15\n",
      "16\n",
      "17\n",
      "18\n",
      "19\n"
     ]
    }
   ],
   "source": [
    "for i in range(0,20):\n",
    "    print(i)"
   ]
  },
  {
   "cell_type": "code",
   "execution_count": null,
   "id": "ee118802",
   "metadata": {},
   "outputs": [],
   "source": [
    "range(5) = range(0,5) = range(0,5,1) # all are same"
   ]
  },
  {
   "cell_type": "code",
   "execution_count": 71,
   "id": "6d38f4c2",
   "metadata": {},
   "outputs": [
    {
     "data": {
      "text/plain": [
       "[0, 2, 4, 6, 8, 10, 12, 14, 16, 18, 20]"
      ]
     },
     "execution_count": 71,
     "metadata": {},
     "output_type": "execute_result"
    }
   ],
   "source": [
    "[i for i in range(0,21,2)]"
   ]
  },
  {
   "cell_type": "code",
   "execution_count": 72,
   "id": "30acf6b0",
   "metadata": {},
   "outputs": [
    {
     "data": {
      "text/plain": [
       "[1, 3, 5, 7, 9, 11, 13, 15, 17, 19]"
      ]
     },
     "execution_count": 72,
     "metadata": {},
     "output_type": "execute_result"
    }
   ],
   "source": [
    "[i for i in range(1,21,2)]"
   ]
  },
  {
   "cell_type": "code",
   "execution_count": 73,
   "id": "a2a74248",
   "metadata": {},
   "outputs": [
    {
     "data": {
      "text/plain": [
       "[3, 5, 7, 9, 11, 13, 15, 17, 19, 21, 23, 25, 27, 29, 31, 33]"
      ]
     },
     "execution_count": 73,
     "metadata": {},
     "output_type": "execute_result"
    }
   ],
   "source": [
    "[i for i in range(3,34,2)]"
   ]
  },
  {
   "cell_type": "code",
   "execution_count": 74,
   "id": "2bd02b28",
   "metadata": {},
   "outputs": [
    {
     "name": "stdout",
     "output_type": "stream",
     "text": [
      "[0]\n",
      "[0, 2]\n",
      "[0, 2, 4]\n",
      "[0, 2, 4, 6]\n",
      "[0, 2, 4, 6, 8]\n",
      "[0, 2, 4, 6, 8, 10]\n",
      "[0, 2, 4, 6, 8, 10, 12]\n",
      "[0, 2, 4, 6, 8, 10, 12, 14]\n",
      "[0, 2, 4, 6, 8, 10, 12, 14, 16]\n",
      "[0, 2, 4, 6, 8, 10, 12, 14, 16, 18]\n",
      "[0, 2, 4, 6, 8, 10, 12, 14, 16, 18, 20]\n"
     ]
    }
   ],
   "source": [
    "even_list=[]\n",
    "for i in range(0,21,2):\n",
    "    even_list.append(i)\n",
    "    print(even_list)"
   ]
  },
  {
   "cell_type": "code",
   "execution_count": 75,
   "id": "c601df82",
   "metadata": {},
   "outputs": [
    {
     "name": "stdout",
     "output_type": "stream",
     "text": [
      "[1, 3, 5, 7, 9, 11, 13, 15, 17, 19]\n"
     ]
    }
   ],
   "source": [
    "list1=[1,2,3,4,5,6,7,8,9,10,11,12,13,14,15,16,17,18,19,20]\n",
    "odd_list=[]\n",
    "for i in list1:\n",
    "    if i%2==1:\n",
    "        odd_list.append(i)\n",
    "print(odd_list)"
   ]
  },
  {
   "cell_type": "code",
   "execution_count": 76,
   "id": "3aa6a15f",
   "metadata": {},
   "outputs": [
    {
     "name": "stdout",
     "output_type": "stream",
     "text": [
      "[2, 4, 6, 8, 10, 12, 14, 16, 18, 20]\n"
     ]
    }
   ],
   "source": [
    "list1=[1,2,3,4,5,6,7,8,9,10,11,12,13,14,15,16,17,18,19,20]\n",
    "even_list=[]\n",
    "for i in list1:\n",
    "    if i%2==0:\n",
    "        even_list.append(i)\n",
    "print(even_list)"
   ]
  },
  {
   "cell_type": "code",
   "execution_count": 77,
   "id": "6e01df39",
   "metadata": {},
   "outputs": [
    {
     "name": "stdout",
     "output_type": "stream",
     "text": [
      "\n",
      "iteration number is 0\n",
      "[0]\n",
      "\n",
      "iteration number is 2\n",
      "[0, 2]\n",
      "\n",
      "iteration number is 4\n",
      "[0, 2, 4]\n",
      "\n",
      "iteration number is 6\n",
      "[0, 2, 4, 6]\n",
      "\n",
      "iteration number is 8\n",
      "[0, 2, 4, 6, 8]\n",
      "\n",
      "iteration number is 10\n",
      "[0, 2, 4, 6, 8, 10]\n",
      "\n",
      "iteration number is 12\n",
      "[0, 2, 4, 6, 8, 10, 12]\n",
      "\n",
      "iteration number is 14\n",
      "[0, 2, 4, 6, 8, 10, 12, 14]\n",
      "\n",
      "iteration number is 16\n",
      "[0, 2, 4, 6, 8, 10, 12, 14, 16]\n",
      "\n",
      "iteration number is 18\n",
      "[0, 2, 4, 6, 8, 10, 12, 14, 16, 18]\n",
      "\n",
      "iteration number is 20\n",
      "[0, 2, 4, 6, 8, 10, 12, 14, 16, 18, 20]\n"
     ]
    }
   ],
   "source": [
    "even_list=[]\n",
    "for i in range(0,21,2):\n",
    "#   print(i)\n",
    "    print()\n",
    "    print('iteration number is',i)\n",
    "    even_list.append(i)\n",
    "    print(even_list)"
   ]
  },
  {
   "cell_type": "code",
   "execution_count": 78,
   "id": "05e9c35c",
   "metadata": {},
   "outputs": [
    {
     "name": "stdout",
     "output_type": "stream",
     "text": [
      "even_list [2, 4, 6, 8, 10, 12, 14, 16, 18, 20]\n",
      "odd_list [1, 3, 5, 7, 9, 11, 13, 15, 17, 19]\n"
     ]
    }
   ],
   "source": [
    "list1=[1,2,3,4,5,6,7,8,9,10,11,12,13,14,15,16,17,18,19,20]\n",
    "odd_list=[]\n",
    "even_list=[]\n",
    "for i in list1:\n",
    "    if i%2==0:\n",
    "        even_list.append(i)\n",
    "    else:\n",
    "        odd_list.append(i)\n",
    "print('even_list',even_list)\n",
    "print('odd_list',odd_list)"
   ]
  },
  {
   "cell_type": "code",
   "execution_count": 80,
   "id": "008ad7c4",
   "metadata": {},
   "outputs": [
    {
     "name": "stdout",
     "output_type": "stream",
     "text": [
      "enter your number45\n",
      "even_list [0, 2, 4, 6, 8, 10, 12, 14, 16, 18, 20, 22, 24, 26, 28, 30, 32, 34, 36, 38, 40, 42, 44]\n",
      "odd_list [1, 3, 5, 7, 9, 11, 13, 15, 17, 19, 21, 23, 25, 27, 29, 31, 33, 35, 37, 39, 41, 43]\n"
     ]
    }
   ],
   "source": [
    "a=int(input('enter your number'))\n",
    "even_list=[]\n",
    "odd_list=[]\n",
    "for i in range(0,a):\n",
    "    if i%2==0:\n",
    "        even_list.append(i)\n",
    "    else:\n",
    "        odd_list.append(i)\n",
    "print('even_list',even_list)\n",
    "print('odd_list',odd_list)"
   ]
  },
  {
   "cell_type": "code",
   "execution_count": 81,
   "id": "e8fcc981",
   "metadata": {},
   "outputs": [
    {
     "name": "stdout",
     "output_type": "stream",
     "text": [
      "enter your number54,67,89,54\n"
     ]
    },
    {
     "ename": "ValueError",
     "evalue": "invalid literal for int() with base 10: '54,67,89,54'",
     "output_type": "error",
     "traceback": [
      "\u001b[1;31m---------------------------------------------------------------------------\u001b[0m",
      "\u001b[1;31mValueError\u001b[0m                                Traceback (most recent call last)",
      "Input \u001b[1;32mIn [81]\u001b[0m, in \u001b[0;36m<cell line: 1>\u001b[1;34m()\u001b[0m\n\u001b[1;32m----> 1\u001b[0m a\u001b[38;5;241m=\u001b[39m\u001b[38;5;28;43mint\u001b[39;49m\u001b[43m(\u001b[49m\u001b[38;5;28;43minput\u001b[39;49m\u001b[43m(\u001b[49m\u001b[38;5;124;43m'\u001b[39;49m\u001b[38;5;124;43menter your number\u001b[39;49m\u001b[38;5;124;43m'\u001b[39;49m\u001b[43m)\u001b[49m\u001b[43m)\u001b[49m\n\u001b[0;32m      2\u001b[0m even_list\u001b[38;5;241m=\u001b[39m[]\n\u001b[0;32m      3\u001b[0m odd_list\u001b[38;5;241m=\u001b[39m[]\n",
      "\u001b[1;31mValueError\u001b[0m: invalid literal for int() with base 10: '54,67,89,54'"
     ]
    }
   ],
   "source": [
    "a=int(input('enter your number'))\n",
    "even_list=[]\n",
    "odd_list=[]\n",
    "for i in range(0,a):\n",
    "    if i%2==0:\n",
    "        even_list.append(i)\n",
    "    else:\n",
    "        odd_list.append(i)\n",
    "print('even_list',even_list)\n",
    "print('odd_list',odd_list)"
   ]
  },
  {
   "cell_type": "code",
   "execution_count": 82,
   "id": "ecf61a57",
   "metadata": {},
   "outputs": [
    {
     "name": "stdout",
     "output_type": "stream",
     "text": [
      "Iteration no. is 1\n",
      "We are learning Python\n",
      "We are in for loop\n",
      "\n",
      "Iteration no. is 2\n",
      "We are learning Python\n",
      "We are in for loop\n",
      "\n",
      "Iteration no. is 3\n",
      "We are learning Python\n",
      "We are in for loop\n",
      "\n",
      "Iteration no. is 4\n",
      "We are learning Python\n",
      "We are in for loop\n",
      "\n",
      "Iteration no. is 5\n",
      "We are learning Python\n",
      "We are in for loop\n",
      "\n"
     ]
    }
   ],
   "source": [
    "for i in range(5):# 0,1,2,3,4\n",
    "    print(f'Iteration no. is {i+1}')\n",
    "    print('We are learning Python')\n",
    "    print('We are in for loop')\n",
    "    print()"
   ]
  },
  {
   "cell_type": "code",
   "execution_count": 83,
   "id": "509e6abf",
   "metadata": {},
   "outputs": [
    {
     "name": "stdout",
     "output_type": "stream",
     "text": [
      "0 r\n",
      "1 a\n",
      "2 m\n",
      "3 d\n",
      "4 a\n",
      "5 s\n"
     ]
    }
   ],
   "source": [
    "str2='ramdas'\n",
    "for index,element in enumerate(str2):\n",
    "    print(index,element)"
   ]
  },
  {
   "cell_type": "code",
   "execution_count": 84,
   "id": "a038e5bc",
   "metadata": {},
   "outputs": [
    {
     "name": "stdout",
     "output_type": "stream",
     "text": [
      "Unique is: [1, 2, 3, 4]\n",
      "Unique is: [1, 1, 3, 4]\n"
     ]
    }
   ],
   "source": [
    "list2 = [1,2,1,3,1,4,3,4]\n",
    "\n",
    "dup=[]# the elements which are getting repeat in our list\n",
    "new=[]\n",
    "for i in list2:\n",
    "    if i not in new:\n",
    "        new.append(i)\n",
    "    else:\n",
    "        dup.append(i)\n",
    "print(\"Unique is:\",new)\n",
    "print(\"Unique is:\",dup)"
   ]
  },
  {
   "cell_type": "code",
   "execution_count": 85,
   "id": "9543caab",
   "metadata": {},
   "outputs": [
    {
     "name": "stdout",
     "output_type": "stream",
     "text": [
      "1\n",
      "2\n",
      "1\n",
      "3\n",
      "1\n",
      "4\n",
      "3\n",
      "4\n"
     ]
    }
   ],
   "source": [
    "for i in list2:\n",
    "    print(i) # print before has taken so its showing 5.3 beacuse first it is printing and then its compare and\n",
    "                                         #at certain point condition matches its breaking the loop at that printed value\n",
    "    if i == 5.3:\n",
    "        break"
   ]
  },
  {
   "cell_type": "code",
   "execution_count": 86,
   "id": "c04124a6",
   "metadata": {},
   "outputs": [
    {
     "name": "stdout",
     "output_type": "stream",
     "text": [
      "1\n",
      "2\n",
      "1\n",
      "3\n",
      "1\n",
      "4\n",
      "3\n",
      "4\n"
     ]
    }
   ],
   "source": [
    "for i in list2:\n",
    "    if i==5.3:\n",
    "        break\n",
    "    print(i) # print after has taken so its not showing 5.3 beacuse first it is compare and then printing\n",
    "                                         #at certain point condition matches its breaking the loop at that printed value"
   ]
  },
  {
   "cell_type": "code",
   "execution_count": 87,
   "id": "f3cef4a4",
   "metadata": {},
   "outputs": [
    {
     "name": "stdout",
     "output_type": "stream",
     "text": [
      "[1, 2, 1, 3, 1, 4, 3, 4, 1]\n",
      "[1, 2, 1, 3, 1, 4, 3, 4, 1, 1]\n",
      "[1, 2, 1, 3, 1, 4, 3, 4, 1, 1, 1]\n",
      "[1, 2, 1, 3, 1, 4, 3, 4, 1, 1, 1, 1]\n",
      "[1, 2, 1, 3, 1, 4, 3, 4, 1, 1, 1, 1, 1]\n",
      "[1, 2, 1, 3, 1, 4, 3, 4, 1, 1, 1, 1, 1, 1]\n",
      "[1, 2, 1, 3, 1, 4, 3, 4, 1, 1, 1, 1, 1, 1, 1]\n",
      "[1, 2, 1, 3, 1, 4, 3, 4, 1, 1, 1, 1, 1, 1, 1, 1]\n"
     ]
    }
   ],
   "source": [
    "for i in range(len(list2)):\n",
    "    list2.append(1)\n",
    "    print(list2)"
   ]
  },
  {
   "cell_type": "code",
   "execution_count": 90,
   "id": "497c619c",
   "metadata": {},
   "outputs": [
    {
     "name": "stdout",
     "output_type": "stream",
     "text": [
      "2.5\n",
      "2\n",
      "1\n",
      "Python\n",
      "6\n",
      "Velocity\n"
     ]
    }
   ],
   "source": [
    "list2 = [2.5,2,1,5.3,'Python',6, 'Velocity']\n",
    "for i in list2:\n",
    "    if i==5.3:\n",
    "        continue\n",
    "    print(i)"
   ]
  },
  {
   "cell_type": "code",
   "execution_count": 91,
   "id": "999acf41",
   "metadata": {},
   "outputs": [
    {
     "name": "stdout",
     "output_type": "stream",
     "text": [
      "2.5\n",
      "2\n",
      "1\n",
      "5.3\n",
      "Python\n",
      "6\n",
      "Velocity\n"
     ]
    }
   ],
   "source": [
    "for i in list2:\n",
    "    print(i)\n",
    "    if i==5.3:\n",
    "        continue"
   ]
  },
  {
   "cell_type": "code",
   "execution_count": 92,
   "id": "9ae1e84e",
   "metadata": {},
   "outputs": [
    {
     "name": "stdout",
     "output_type": "stream",
     "text": [
      "0\n",
      "1\n",
      "2\n",
      "3\n",
      "4\n",
      "5\n",
      "6\n",
      "7\n",
      "8\n",
      "9\n"
     ]
    }
   ],
   "source": [
    "for i in range(10):\n",
    "    if i%2==0:\n",
    "        pass\n",
    "    print(i)"
   ]
  },
  {
   "cell_type": "code",
   "execution_count": 93,
   "id": "0ceedcfd",
   "metadata": {},
   "outputs": [
    {
     "name": "stdout",
     "output_type": "stream",
     "text": [
      "1 3 5 7 9 "
     ]
    }
   ],
   "source": [
    "for i in range(10):\n",
    "    if i%2==0:\n",
    "        pass\n",
    "    else:\n",
    "        print(i, end=' ')"
   ]
  },
  {
   "cell_type": "code",
   "execution_count": 94,
   "id": "6c46cc5f",
   "metadata": {},
   "outputs": [
    {
     "name": "stdout",
     "output_type": "stream",
     "text": [
      "0\n",
      "1\n",
      "2\n",
      "yes i =3 is not printing\n",
      "4\n"
     ]
    }
   ],
   "source": [
    "for i in range(5):\n",
    "    if i==3:\n",
    "        print(F'yes i ={i} is not printing')\n",
    "        continue\n",
    "    print(i)"
   ]
  },
  {
   "cell_type": "code",
   "execution_count": 95,
   "id": "0f48ccc9",
   "metadata": {},
   "outputs": [
    {
     "name": "stdout",
     "output_type": "stream",
     "text": [
      "yes i iscompletely divisible my 2,or 5\n",
      "1\n",
      "yes i iscompletely divisible my 2,or 5\n",
      "3\n",
      "yes i iscompletely divisible my 2,or 5\n",
      "yes i iscompletely divisible my 2,or 5\n",
      "yes i iscompletely divisible my 2,or 5\n",
      "7\n",
      "yes i iscompletely divisible my 2,or 5\n",
      "9\n",
      "yes i iscompletely divisible my 2,or 5\n",
      "11\n",
      "yes i iscompletely divisible my 2,or 5\n",
      "13\n",
      "yes i iscompletely divisible my 2,or 5\n",
      "yes i iscompletely divisible my 2,or 5\n",
      "yes i iscompletely divisible my 2,or 5\n",
      "17\n",
      "yes i iscompletely divisible my 2,or 5\n",
      "19\n",
      "yes i iscompletely divisible my 2,or 5\n",
      "21\n",
      "yes i iscompletely divisible my 2,or 5\n",
      "23\n",
      "yes i iscompletely divisible my 2,or 5\n"
     ]
    }
   ],
   "source": [
    "for i in range(25):\n",
    "    if i%2==0 or i%5==0:\n",
    "        print(f'yes i iscompletely divisible my {2},or {5}')\n",
    "        continue\n",
    "    print(i)"
   ]
  },
  {
   "cell_type": "code",
   "execution_count": 96,
   "id": "f850564e",
   "metadata": {},
   "outputs": [
    {
     "name": "stdout",
     "output_type": "stream",
     "text": [
      "i = 0\n",
      "loop is completed\n",
      "i = 1\n",
      "loop is completed\n",
      "i = 2\n",
      "loop is completed\n",
      "i = 3\n",
      "loop is completed\n",
      "i = 4\n",
      "loop is completed\n"
     ]
    }
   ],
   "source": [
    "for i in range(5):\n",
    "    print(f'i = {i}')\n",
    "    print('loop is completed')"
   ]
  },
  {
   "cell_type": "code",
   "execution_count": 97,
   "id": "1e751c29",
   "metadata": {},
   "outputs": [
    {
     "name": "stdout",
     "output_type": "stream",
     "text": [
      "i = 0\n",
      "i = 1\n",
      "i = 2\n",
      "i = 3\n",
      "i = 4\n",
      "loop is completed\n"
     ]
    }
   ],
   "source": [
    "for i in range(5):\n",
    "    print(f'i = {i}')\n",
    "print('loop is completed')"
   ]
  },
  {
   "cell_type": "code",
   "execution_count": 98,
   "id": "6ec060c1",
   "metadata": {},
   "outputs": [
    {
     "name": "stdout",
     "output_type": "stream",
     "text": [
      "0\n",
      "1\n",
      "2\n"
     ]
    }
   ],
   "source": [
    "for i in range(5):\n",
    "    if i==3:\n",
    "        break\n",
    "    print(i)\n",
    "else:\n",
    "    print('loop is completed')"
   ]
  },
  {
   "cell_type": "code",
   "execution_count": 99,
   "id": "31fb2cb5",
   "metadata": {},
   "outputs": [
    {
     "name": "stdout",
     "output_type": "stream",
     "text": [
      " i=1\n",
      " i=2\n",
      " i=4\n",
      "loop has completed\n"
     ]
    }
   ],
   "source": [
    "for i in range(1,5):\n",
    "    if i==3:\n",
    "        continue\n",
    "    print(f' i={i}')\n",
    "else:\n",
    "    print('loop has completed')"
   ]
  },
  {
   "cell_type": "code",
   "execution_count": 100,
   "id": "73eab598",
   "metadata": {},
   "outputs": [
    {
     "name": "stdout",
     "output_type": "stream",
     "text": [
      "120\n"
     ]
    }
   ],
   "source": [
    "fact=1\n",
    "for i in range(1,6):\n",
    "    fact*=i\n",
    "print(fact)"
   ]
  },
  {
   "cell_type": "code",
   "execution_count": 101,
   "id": "c49ba416",
   "metadata": {},
   "outputs": [
    {
     "name": "stdout",
     "output_type": "stream",
     "text": [
      "1\n",
      "2\n",
      "6\n",
      "24\n",
      "120\n"
     ]
    }
   ],
   "source": [
    "fact=1\n",
    "for i in range(1,6):\n",
    "    fact*=i\n",
    "    print(fact)"
   ]
  },
  {
   "cell_type": "code",
   "execution_count": 103,
   "id": "df918243",
   "metadata": {},
   "outputs": [
    {
     "name": "stdout",
     "output_type": "stream",
     "text": [
      "enter your number programer 6\n",
      "list of factorial number is [1]\n",
      "list of factorial number is [1, 2]\n",
      "list of factorial number is [1, 2, 6]\n",
      "list of factorial number is [1, 2, 6, 24]\n",
      "list of factorial number is [1, 2, 6, 24, 120]\n",
      "list of factorial number is [1, 2, 6, 24, 120, 720]\n"
     ]
    }
   ],
   "source": [
    "a=int(input('enter your number programer ',))\n",
    "b=1\n",
    "c=[]\n",
    "for i in range(1,a+1):\n",
    "    b*=i# b=b*i same meaning\n",
    "    c.append(b)\n",
    "    print(\"list of factorial number is\",c)"
   ]
  },
  {
   "cell_type": "code",
   "execution_count": 104,
   "id": "1d2c1058",
   "metadata": {},
   "outputs": [
    {
     "name": "stdout",
     "output_type": "stream",
     "text": [
      "Enter any integer value for which you want to the factorial: 8\n",
      "factorial of number  is 40320\n"
     ]
    }
   ],
   "source": [
    "num = int(input('Enter any integer value for which you want to the factorial: '))\n",
    "fact = 1\n",
    "if num == 0:\n",
    "    print('Factorial is 1')\n",
    "elif num < 0:\n",
    "    print('No Factorial')\n",
    "else:\n",
    "    for i in range(1,num+1):\n",
    "        fact=fact*i\n",
    "    print(f'factorial of number  is',fact)"
   ]
  },
  {
   "cell_type": "code",
   "execution_count": 1,
   "id": "49297c40",
   "metadata": {},
   "outputs": [
    {
     "name": "stdout",
     "output_type": "stream",
     "text": [
      "Enter the length of fibonacci series: 12\n",
      "Fibonacci Series is :\n",
      " 0 \n",
      " 1\n",
      "1\n",
      "2\n",
      "3\n",
      "5\n",
      "8\n",
      "13\n",
      "21\n",
      "34\n",
      "55\n",
      "89\n",
      "144\n",
      "233\n"
     ]
    }
   ],
   "source": [
    "n = int(input('Enter the length of fibonacci series: ')) # 6 >>0 1 1 2 3 5\n",
    "first = 0 # 1, 1, 2, 3\n",
    "second = 1 # 1, 2, 3, 5\n",
    "print(f'Fibonacci Series is :\\n', first, '\\n', second)\n",
    "for i in range(0,n):# range(0,4), 0,1,2,3\n",
    "    new = first + second #0+1, 1+1, 1+2, 2+3\n",
    "    first = second #1,1,2,3\n",
    "    second = new #1,2,3,5\n",
    "    print(new)"
   ]
  },
  {
   "cell_type": "code",
   "execution_count": 4,
   "id": "39cb6575",
   "metadata": {},
   "outputs": [
    {
     "name": "stdout",
     "output_type": "stream",
     "text": [
      "i==0\n",
      "\n",
      " this is second loop\n",
      "\n",
      "this is third loop\n",
      "the end\n",
      "this is third loop\n",
      "the end\n",
      "this is third loop\n",
      "the end\n",
      " this is second loop\n",
      "\n",
      "this is third loop\n",
      "the end\n",
      "this is third loop\n",
      "the end\n",
      "this is third loop\n",
      "the end\n",
      "i==1\n",
      "\n",
      " this is second loop\n",
      "\n",
      "this is third loop\n",
      "the end\n",
      "this is third loop\n",
      "the end\n",
      "this is third loop\n",
      "the end\n",
      " this is second loop\n",
      "\n",
      "this is third loop\n",
      "the end\n",
      "this is third loop\n",
      "the end\n",
      "this is third loop\n",
      "the end\n",
      "i==2\n",
      "\n",
      " this is second loop\n",
      "\n",
      "this is third loop\n",
      "the end\n",
      "this is third loop\n",
      "the end\n",
      "this is third loop\n",
      "the end\n",
      " this is second loop\n",
      "\n",
      "this is third loop\n",
      "the end\n",
      "this is third loop\n",
      "the end\n",
      "this is third loop\n",
      "the end\n"
     ]
    }
   ],
   "source": [
    "for i in range(3):\n",
    "    print(f'i=={i}')\n",
    "    print()\n",
    "    for i in range(2):\n",
    "        print(f' this is second loop')\n",
    "        print()\n",
    "        for z in range(3):\n",
    "            print('this is third loop')\n",
    "            print('the end')"
   ]
  },
  {
   "cell_type": "code",
   "execution_count": 5,
   "id": "6d043a59",
   "metadata": {},
   "outputs": [
    {
     "name": "stdout",
     "output_type": "stream",
     "text": [
      "* * * \n",
      "* * * \n"
     ]
    }
   ],
   "source": [
    "for i in range(2): # It decides our rows >>0,1\n",
    "    for j in range(3): # It decides our column >> 0,1,2\n",
    "        print('*', end=' ')\n",
    "    print()"
   ]
  },
  {
   "cell_type": "code",
   "execution_count": 6,
   "id": "387b79db",
   "metadata": {},
   "outputs": [
    {
     "name": "stdout",
     "output_type": "stream",
     "text": [
      "* \n",
      "* * \n",
      "* * * \n",
      "* * * * \n",
      "* * * * * \n"
     ]
    }
   ],
   "source": [
    "for i in range(1,6):\n",
    "    for j in range(i):\n",
    "        print('*',end=' ')\n",
    "    print()"
   ]
  },
  {
   "cell_type": "code",
   "execution_count": 7,
   "id": "d3548735",
   "metadata": {},
   "outputs": [
    {
     "name": "stdout",
     "output_type": "stream",
     "text": [
      "* * * * * \n",
      "* * * * \n",
      "* * * \n",
      "* * \n",
      "* \n"
     ]
    }
   ],
   "source": [
    "for i in range(1,6):\n",
    "    for j in range(6-i):\n",
    "        print('*',end=' ')\n",
    "    print()"
   ]
  },
  {
   "cell_type": "code",
   "execution_count": 8,
   "id": "6f9c6a03",
   "metadata": {},
   "outputs": [
    {
     "name": "stdout",
     "output_type": "stream",
     "text": [
      "0\n",
      "1\n",
      "2\n",
      "3\n",
      "4\n"
     ]
    }
   ],
   "source": [
    "i = 0\n",
    "while i < 5: # i<5 is our condition\n",
    "    print(i) # block of code\n",
    "    i = i+1  # increment"
   ]
  },
  {
   "cell_type": "code",
   "execution_count": 9,
   "id": "d2f5e9b4",
   "metadata": {},
   "outputs": [
    {
     "name": "stdout",
     "output_type": "stream",
     "text": [
      "2\n",
      "3\n",
      "4\n",
      "5\n"
     ]
    }
   ],
   "source": [
    "i=1\n",
    "while i<5:\n",
    "    i=i+1\n",
    "    print(i)"
   ]
  },
  {
   "cell_type": "code",
   "execution_count": 10,
   "id": "41518df1",
   "metadata": {},
   "outputs": [
    {
     "name": "stdout",
     "output_type": "stream",
     "text": [
      "we are in while loop\n",
      "we are in while loop\n",
      "we are in while loop\n",
      "we are in while loop\n",
      "we are in while loop\n"
     ]
    }
   ],
   "source": [
    "i=0\n",
    "while i<5:\n",
    "    print('we are in while loop')\n",
    "    i=i+1"
   ]
  },
  {
   "cell_type": "code",
   "execution_count": 11,
   "id": "3774c3d5",
   "metadata": {},
   "outputs": [
    {
     "name": "stdout",
     "output_type": "stream",
     "text": [
      "in loop\n",
      "in loop\n",
      "in loop\n",
      "in loop\n",
      "in loop\n"
     ]
    }
   ],
   "source": [
    "i=4\n",
    "while i >=0: # 4>=0,3>=0,2>=0,1>=0 true, 0>=0 it is false\n",
    "    print('in loop')\n",
    "    i=i-1"
   ]
  },
  {
   "cell_type": "code",
   "execution_count": 12,
   "id": "8079e281",
   "metadata": {},
   "outputs": [
    {
     "name": "stdout",
     "output_type": "stream",
     "text": [
      "23\n",
      "67\n",
      "45\n",
      "23\n"
     ]
    }
   ],
   "source": [
    "a=[23,45,67,23]\n",
    "l=len(a)\n",
    "while l>0:\n",
    "    print(a[l-1]) # 3-1,2-1,1-1\n",
    "    l=l-1 #4-1,3-1,2-1,"
   ]
  },
  {
   "cell_type": "code",
   "execution_count": 13,
   "id": "b959d5d5",
   "metadata": {},
   "outputs": [
    {
     "name": "stdout",
     "output_type": "stream",
     "text": [
      "3628800\n"
     ]
    }
   ],
   "source": [
    "a=1 # increment\n",
    "b=1 # result\n",
    "while a<11:# 1,2,3,4,5,6,7,8,9,10\n",
    "    b=b*a# 1*1,1*2,2*3,.......\n",
    "    a=a+1\n",
    "print(b) "
   ]
  },
  {
   "cell_type": "code",
   "execution_count": 14,
   "id": "750c99e1",
   "metadata": {},
   "outputs": [
    {
     "name": "stdout",
     "output_type": "stream",
     "text": [
      "fact 120\n"
     ]
    }
   ],
   "source": [
    "fact = 1\n",
    "a = 0\n",
    "while a<5:\n",
    "    a = a+1\n",
    "    fact = fact * a\n",
    "print('fact', fact)"
   ]
  },
  {
   "cell_type": "code",
   "execution_count": 15,
   "id": "f0a85bca",
   "metadata": {},
   "outputs": [
    {
     "name": "stdout",
     "output_type": "stream",
     "text": [
      "0\n",
      "1\n",
      "2\n",
      "3\n",
      "4\n",
      "loop is completed\n"
     ]
    }
   ],
   "source": [
    "i=0\n",
    "while i<5:\n",
    "    print(i)\n",
    "    i=i+1\n",
    "else:\n",
    "    print('loop is completed')"
   ]
  },
  {
   "cell_type": "code",
   "execution_count": 1,
   "id": "fe5cd260",
   "metadata": {},
   "outputs": [
    {
     "data": {
      "text/plain": [
       "{'name': 'Arti', 'age': 24, 'Marks': 95, 'Place': 'Pune'}"
      ]
     },
     "execution_count": 1,
     "metadata": {},
     "output_type": "execute_result"
    }
   ],
   "source": [
    "dict2 = {'name':'Arti', 'age':24, 'Marks':95, 'Place':'Pune'}\n",
    "dict2"
   ]
  },
  {
   "cell_type": "code",
   "execution_count": 2,
   "id": "ce46ae80",
   "metadata": {},
   "outputs": [
    {
     "name": "stdout",
     "output_type": "stream",
     "text": [
      "('name', 'Arti')\n",
      "('age', 24)\n",
      "('Marks', 95)\n",
      "('Place', 'Pune')\n"
     ]
    }
   ],
   "source": [
    "for i in dict2.items():\n",
    "    print(i)"
   ]
  },
  {
   "cell_type": "code",
   "execution_count": 4,
   "id": "3113c832",
   "metadata": {},
   "outputs": [
    {
     "data": {
      "text/plain": [
       "dict_items([('name', 'Arti'), ('age', 24), ('Marks', 95), ('Place', 'Pune')])"
      ]
     },
     "execution_count": 4,
     "metadata": {},
     "output_type": "execute_result"
    }
   ],
   "source": [
    "list1 = dict2.items()\n",
    "list1"
   ]
  },
  {
   "cell_type": "code",
   "execution_count": 6,
   "id": "61edc93b",
   "metadata": {},
   "outputs": [
    {
     "name": "stdout",
     "output_type": "stream",
     "text": [
      "name : Arti\n",
      "age : 24\n",
      "Marks : 95\n",
      "Place : Pune\n"
     ]
    }
   ],
   "source": [
    "for k,m in list1:\n",
    "    print(k,':', m)"
   ]
  },
  {
   "cell_type": "code",
   "execution_count": 7,
   "id": "977ceb41",
   "metadata": {},
   "outputs": [
    {
     "name": "stdout",
     "output_type": "stream",
     "text": [
      "name\n",
      "age\n",
      "Marks\n",
      "Place\n"
     ]
    }
   ],
   "source": [
    "for key in dict2.keys():\n",
    "    print(key)"
   ]
  },
  {
   "cell_type": "code",
   "execution_count": 8,
   "id": "0045ad48",
   "metadata": {},
   "outputs": [
    {
     "name": "stdout",
     "output_type": "stream",
     "text": [
      "Arti\n",
      "24\n",
      "95\n",
      "Pune\n"
     ]
    }
   ],
   "source": [
    "for values in dict2.values():\n",
    "    print(values)"
   ]
  },
  {
   "cell_type": "code",
   "execution_count": 9,
   "id": "70c1c624",
   "metadata": {},
   "outputs": [
    {
     "name": "stdout",
     "output_type": "stream",
     "text": [
      "('name', 'Arti')\n",
      "('age', 24)\n",
      "('Marks', 95)\n",
      "('Place', 'Pune')\n"
     ]
    }
   ],
   "source": [
    "for items in dict2.items():\n",
    "    print(items)"
   ]
  },
  {
   "cell_type": "code",
   "execution_count": 10,
   "id": "bcb85c89",
   "metadata": {},
   "outputs": [
    {
     "name": "stdout",
     "output_type": "stream",
     "text": [
      "{'ram': 23}\n",
      "{'sham': 43}\n",
      "{'ganesh': 56}\n",
      "{'ramesh': 54}\n",
      "{'akshay': 67}\n"
     ]
    }
   ],
   "source": [
    "list1=['ram','sham','ganesh','ramesh','akshay']\n",
    "list2=[23,43,56,54,67]\n",
    "for i,element in enumerate(list1):\n",
    "    dict2={}\n",
    "    dict2[element]=list2[i]\n",
    "    print(dict2)"
   ]
  },
  {
   "cell_type": "code",
   "execution_count": 11,
   "id": "c49367ed",
   "metadata": {},
   "outputs": [
    {
     "name": "stdout",
     "output_type": "stream",
     "text": [
      "{'ram': 23, 'sham': 43, 'ganesh': 56, 'ramesh': 54, 'akshay': 67}\n"
     ]
    }
   ],
   "source": [
    "list1=['ram','sham','ganesh','ramesh','akshay']\n",
    "list2=[23,43,56,54,67]\n",
    "dict1={}\n",
    "for i, name in enumerate(list1):\n",
    "    dict1.update({name:list2[i]})\n",
    "print(dict1)"
   ]
  },
  {
   "cell_type": "code",
   "execution_count": 12,
   "id": "c131a6a5",
   "metadata": {},
   "outputs": [
    {
     "name": "stdout",
     "output_type": "stream",
     "text": [
      "{'Ayesha': 95}\n",
      "{'Ayesha': 95, 'Akash': 95}\n",
      "{'Ayesha': 95, 'Akash': 95, 'Ayub': 95}\n",
      "{'Ayesha': 95, 'Akash': 95, 'Ayub': 95, 'Abhijit': 95}\n"
     ]
    }
   ],
   "source": [
    "name = ['Ayesha', 'Akash','Ayub','Abhijit']\n",
    "dict4 = {}\n",
    "# {'Ayesha': 95, 'Akash': 95, 'Ayub': 95, 'Abhijit': 95}\n",
    "for i in name:\n",
    "    dict4[i]=95\n",
    "    print(dict4)"
   ]
  },
  {
   "cell_type": "code",
   "execution_count": 13,
   "id": "1c6868ad",
   "metadata": {},
   "outputs": [
    {
     "name": "stdout",
     "output_type": "stream",
     "text": [
      "{'Ayesha': 95, 'Akash': 95, 'Ayub': 95, 'Abhijit': 95}\n"
     ]
    }
   ],
   "source": [
    "name = ['Ayesha', 'Akash','Ayub','Abhijit']\n",
    "dict4 = {}\n",
    "for i in name:\n",
    "    dict4.update({i:95})\n",
    "print(dict4)"
   ]
  },
  {
   "cell_type": "code",
   "execution_count": 14,
   "id": "082def96",
   "metadata": {},
   "outputs": [
    {
     "name": "stdout",
     "output_type": "stream",
     "text": [
      "{1: 1, 2: 4, 3: 9, 4: 16, 5: 25, 6: 36, 7: 49, 8: 64, 9: 81, 10: 100}\n",
      "{1: 1, 2: 8, 3: 27, 4: 64, 5: 125, 6: 216, 7: 343, 8: 512, 9: 729, 10: 1000}\n"
     ]
    }
   ],
   "source": [
    "#dict3 = {1:1,2:8,...,10:1000}\n",
    "#dict4 = {1:1,2:4,....,10:100}\n",
    "dict1={}\n",
    "dict2={}\n",
    "for i in range(1,11):# 1,2,3,.....,10\n",
    "    dict1[i]=i*i # dict1[1] = 1*1\n",
    "    dict2[i]=i*i*i # dict2[1]= 1*1*1\n",
    "print(dict1)\n",
    "print(dict2)"
   ]
  },
  {
   "cell_type": "code",
   "execution_count": 15,
   "id": "d46696d3",
   "metadata": {},
   "outputs": [
    {
     "name": "stdout",
     "output_type": "stream",
     "text": [
      "{1: 1, 2: 4, 3: 9, 4: 16, 5: 25, 6: 36, 7: 49, 8: 64, 9: 81, 10: 100}\n"
     ]
    }
   ],
   "source": [
    "dict1 = {}\n",
    "for i in  range(1,11):\n",
    "    dict1.update({i:i**2})\n",
    "print(dict1)"
   ]
  },
  {
   "cell_type": "code",
   "execution_count": 16,
   "id": "4c345a12",
   "metadata": {},
   "outputs": [
    {
     "name": "stdout",
     "output_type": "stream",
     "text": [
      "{1: 1, 2: 4, 3: 9, 4: 16, 5: 25, 6: 36, 7: 49, 8: 64, 9: 81, 10: 100}\n"
     ]
    }
   ],
   "source": [
    "dict1 = {}\n",
    "for i in  range(1,11):\n",
    "    dict1.update({i:i*i})\n",
    "print(dict1)"
   ]
  },
  {
   "cell_type": "code",
   "execution_count": 17,
   "id": "69246ac2",
   "metadata": {},
   "outputs": [
    {
     "name": "stdout",
     "output_type": "stream",
     "text": [
      "{1: 1, 2: 8, 3: 27, 4: 64, 5: 125, 6: 216, 7: 343, 8: 512, 9: 729, 10: 1000}\n"
     ]
    }
   ],
   "source": [
    "dict1 = {}\n",
    "for i in  range(1,11):\n",
    "    dict1.update({i:i*i*i})\n",
    "print(dict1)"
   ]
  },
  {
   "cell_type": "code",
   "execution_count": 18,
   "id": "586b7491",
   "metadata": {},
   "outputs": [
    {
     "name": "stdout",
     "output_type": "stream",
     "text": [
      "{1: 1, 2: 8, 3: 27, 4: 64, 5: 125, 6: 216, 7: 343, 8: 512, 9: 729, 10: 1000}\n"
     ]
    }
   ],
   "source": [
    "dict1 = {}\n",
    "for i in  range(1,11):\n",
    "    dict1.update({i:i**3})\n",
    "print(dict1)"
   ]
  },
  {
   "cell_type": "code",
   "execution_count": 19,
   "id": "22a9d11a",
   "metadata": {},
   "outputs": [
    {
     "name": "stdout",
     "output_type": "stream",
     "text": [
      "{1: 1, 2: 8, 3: 27, 4: 64, 5: 125, 6: 216, 7: 343, 8: 512, 9: 729, 10: 1000}\n"
     ]
    }
   ],
   "source": [
    "dic={}\n",
    "for i in range(1,11):\n",
    "    b=i*i*i\n",
    "    dic[i]=b\n",
    "print(dic)"
   ]
  },
  {
   "cell_type": "code",
   "execution_count": 20,
   "id": "6dcff4e8",
   "metadata": {},
   "outputs": [
    {
     "name": "stdout",
     "output_type": "stream",
     "text": [
      "{'machine': 2, 'learning': 3, 'is': 2, 'a': 2, 'field': 1, 'of': 3, 'inquiry': 1, 'devoted': 1, 'to': 2, 'understanding': 1, 'and': 1, 'building': 1, 'methods': 2, 'that': 3, \"'learn',\": 1, 'is,': 1, 'leverage': 1, 'data': 1, 'improve': 1, 'performance': 1, 'on': 1, 'some': 1, 'set': 1, 'tasks.': 1, 'It': 1, 'seen': 1, 'as': 1, 'part': 1, 'artificial': 1, 'intelllst1igence.': 1, 'We': 1, 'are': 1}\n"
     ]
    }
   ],
   "source": [
    "string = '''machine learning is a field of inquiry devoted to understanding and building \n",
    "methods that 'learn', that is, methods that leverage data to improve performance on some set of tasks. \n",
    "It is seen as a part of artificial intelllst1igence. We are learning machine learning '''\n",
    "lst1=string.split()\n",
    "dict1={}\n",
    "for i in lst1:\n",
    "    dict1.update({i:lst1.count(i)})\n",
    "lst1=' '.join(lst1)\n",
    "print(dict1)"
   ]
  },
  {
   "cell_type": "code",
   "execution_count": 21,
   "id": "2e76a7de",
   "metadata": {},
   "outputs": [
    {
     "name": "stdout",
     "output_type": "stream",
     "text": [
      "{'machine': 2, 'learning': 3, 'is': 2, 'a': 2, 'field': 1, 'of': 3, 'inquiry': 1, 'devoted': 1, 'to': 2, 'understanding': 1, 'and': 1, 'building': 1, 'methods': 2, 'that': 3, \"'learn',\": 1, 'is,': 1, 'leverage': 1, 'data': 1, 'improve': 1, 'performance': 1, 'on': 1, 'some': 1, 'set': 1, 'tasks.': 1, 'It': 1, 'seen': 1, 'as': 1, 'part': 1, 'artificial': 1, 'intelllst1igence.': 1, 'We': 1, 'are': 1}\n"
     ]
    }
   ],
   "source": [
    "lst1=string.split()\n",
    "dict1={}\n",
    "for i in lst1:\n",
    "    dict1.update({i:lst1.count(i)})\n",
    "print(dict1)"
   ]
  },
  {
   "cell_type": "code",
   "execution_count": 22,
   "id": "3dcc9fbe",
   "metadata": {},
   "outputs": [
    {
     "name": "stdout",
     "output_type": "stream",
     "text": [
      "{'Bio': 90}\n",
      "{'Bio': 90, 'Che': 85}\n",
      "{'Bio': 90, 'Che': 85, 'Eng': 84}\n",
      "{'Bio': 90, 'Che': 85, 'Eng': 84, 'Math': 95}\n",
      "{'Bio': 90, 'Che': 85, 'Eng': 84, 'Math': 95, 'Phy': 80}\n"
     ]
    }
   ],
   "source": [
    "sub_marks = {'Math':95, 'Phy':80, 'Che':85, 'Bio':90, 'Eng':84}\n",
    "result = {}\n",
    "sub_marks.keys()\n",
    "sorted(sub_marks.keys())\n",
    "for i in sorted(sub_marks.keys()):\n",
    "    result.update({i :sub_marks[i]})\n",
    "    print(result)"
   ]
  },
  {
   "cell_type": "code",
   "execution_count": 23,
   "id": "1198104d",
   "metadata": {},
   "outputs": [
    {
     "name": "stdout",
     "output_type": "stream",
     "text": [
      "{'age': 24, 'marks': 95, 'name': 'Arti', 'place': 'Pune'}\n"
     ]
    }
   ],
   "source": [
    "dict2 = {'name':'Arti', 'age':24, 'marks':95, 'place':'Pune'}\n",
    "dict3={}\n",
    "dict2.keys()\n",
    "a=sorted(dict2.keys())\n",
    "for i in a:\n",
    "    dict3.update({i:dict2[i]})\n",
    "print(dict3)"
   ]
  },
  {
   "cell_type": "code",
   "execution_count": 24,
   "id": "8ad9ca30",
   "metadata": {},
   "outputs": [
    {
     "name": "stdout",
     "output_type": "stream",
     "text": [
      "{'Phy': 80, 'Eng': 84, 'Che': 85, 'Bio': 90, 'Math': 95}\n"
     ]
    }
   ],
   "source": [
    "sub_marks = {'Math':95, 'Phy':80, 'Che':85, 'Bio':90, 'Eng':84}\n",
    "Result = {}\n",
    "for marks in sorted(sub_marks.values()): #[80, 84, 85, 90, 95]\n",
    "    for sub in sub_marks:\n",
    "        if marks == sub_marks[sub]: # 80 == 95, 80 == 80\n",
    "            Result.update({sub : marks})\n",
    "print(Result)"
   ]
  },
  {
   "cell_type": "code",
   "execution_count": 25,
   "id": "c0f1a0b4",
   "metadata": {},
   "outputs": [
    {
     "name": "stdout",
     "output_type": "stream",
     "text": [
      "{'name': -2, 'place': 0.5, 'age': 24, 'marks': 95}\n"
     ]
    }
   ],
   "source": [
    "dict2 = {'name':-2, 'age':24, 'marks':95, 'place':0.5}\n",
    "dict3={}\n",
    "dict2.values()\n",
    "b=sorted(dict2.values())\n",
    "for i in b:\n",
    "    for j in dict2:\n",
    "        if i==dict2[j]:\n",
    "            dict3.update({j:i})\n",
    "print(dict3)"
   ]
  },
  {
   "cell_type": "code",
   "execution_count": 26,
   "id": "0b4aae99",
   "metadata": {},
   "outputs": [
    {
     "name": "stdout",
     "output_type": "stream",
     "text": [
      "{'A': 65, 'B': 66, 'C': 67, 'D': 68, 'E': 69, 'F': 70, 'G': 71, 'H': 72, 'I': 73, 'J': 74, 'K': 75, 'L': 76, 'M': 77, 'N': 78, 'O': 79, 'P': 80, 'Q': 81, 'R': 82, 'S': 83, 'T': 84, 'U': 85, 'V': 86, 'W': 87, 'X': 88, 'Y': 89, 'Z': 90}\n"
     ]
    }
   ],
   "source": [
    "dict1 = {}\n",
    "\n",
    "for i in range(65,91):\n",
    "    dict1.update({chr(i):i}) # {chr(65):65} {'A':65}\n",
    "\n",
    "print(dict1)"
   ]
  },
  {
   "cell_type": "code",
   "execution_count": 27,
   "id": "debc704c",
   "metadata": {},
   "outputs": [
    {
     "name": "stdout",
     "output_type": "stream",
     "text": [
      "{'a': 97, 'b': 98, 'c': 99, 'd': 100, 'e': 101, 'f': 102, 'g': 103, 'h': 104, 'i': 105, 'j': 106, 'k': 107, 'l': 108, 'm': 109, 'n': 110, 'o': 111, 'p': 112, 'q': 113, 'r': 114, 's': 115, 't': 116, 'u': 117, 'v': 118, 'w': 119, 'x': 120, 'y': 121, 'z': 122}\n"
     ]
    }
   ],
   "source": [
    "dict2={}\n",
    "for i in range(97,123):\n",
    "    dict2.update({chr(i):i})\n",
    "print(dict2)"
   ]
  },
  {
   "cell_type": "code",
   "execution_count": 1,
   "id": "d8d7318f",
   "metadata": {},
   "outputs": [
    {
     "name": "stdout",
     "output_type": "stream",
     "text": [
      "['s', 'h', 'r', 'i', 'k', 'a', 'n', 't']\n"
     ]
    }
   ],
   "source": [
    "l1=['shrikant']\n",
    "l2=' '.join(l1)\n",
    "a=[]\n",
    "for i in range(len(l2)):\n",
    "    a.append(l2[i])\n",
    "print(a)"
   ]
  },
  {
   "cell_type": "code",
   "execution_count": 1,
   "id": "bd2f0e82",
   "metadata": {},
   "outputs": [
    {
     "name": "stdout",
     "output_type": "stream",
     "text": [
      "[('Akshay', 25, 'Latur'), ('Gajanan', 53, 'Pune')]\n"
     ]
    }
   ],
   "source": [
    "l1=['Akshay',\"Gajanan\"]\n",
    "l2=[25,53]\n",
    "l3=['Latur','Pune']\n",
    "a= list(zip(l1,l2,l3))\n",
    "print(a)"
   ]
  },
  {
   "cell_type": "code",
   "execution_count": null,
   "id": "5e360150",
   "metadata": {},
   "outputs": [],
   "source": []
  }
 ],
 "metadata": {
  "kernelspec": {
   "display_name": "Python 3 (ipykernel)",
   "language": "python",
   "name": "python3"
  },
  "language_info": {
   "codemirror_mode": {
    "name": "ipython",
    "version": 3
   },
   "file_extension": ".py",
   "mimetype": "text/x-python",
   "name": "python",
   "nbconvert_exporter": "python",
   "pygments_lexer": "ipython3",
   "version": "3.9.12"
  }
 },
 "nbformat": 4,
 "nbformat_minor": 5
}
