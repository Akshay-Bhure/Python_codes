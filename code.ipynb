{
 "cells": [
  {
   "cell_type": "code",
   "execution_count": 1,
   "id": "8ceb1e24-8960-4141-90b7-8a74fd4439d6",
   "metadata": {},
   "outputs": [],
   "source": [
    "# 5. Sorting"
   ]
  },
  {
   "cell_type": "code",
   "execution_count": 3,
   "id": "0765a63f-b4eb-48c2-ba78-a142a2d3dd5c",
   "metadata": {},
   "outputs": [
    {
     "data": {
      "text/plain": [
       "[3, 4, 5, 33, 45, 64, 73]"
      ]
     },
     "execution_count": 3,
     "metadata": {},
     "output_type": "execute_result"
    }
   ],
   "source": [
    "lst=[3,4,73,45,5,64,33]\n",
    "lst.sort()  # ascending order\n",
    "lst"
   ]
  },
  {
   "cell_type": "code",
   "execution_count": 7,
   "id": "6702a73c-b9b7-444b-853e-954a3e924d33",
   "metadata": {},
   "outputs": [
    {
     "name": "stdout",
     "output_type": "stream",
     "text": [
      "=======> 2876347653440\n",
      "##########> 2876347653440\n"
     ]
    }
   ],
   "source": [
    "lst=[3,4,73,45,5,64,33]\n",
    "print(\"=======>\",id(lst))\n",
    "lst.sort(reverse=True)  # descending order\n",
    "lst\n",
    "print(\"##########>\",id(lst))"
   ]
  },
  {
   "cell_type": "code",
   "execution_count": 5,
   "id": "9cfd6f41-a27e-44d9-89ec-3cf44c9557d8",
   "metadata": {},
   "outputs": [
    {
     "data": {
      "text/plain": [
       "[3, 4, 5, 33, 45, 64, 73]"
      ]
     },
     "execution_count": 5,
     "metadata": {},
     "output_type": "execute_result"
    }
   ],
   "source": [
    "#sorted\n",
    "lst=[3,4,73,45,5,64,33]\n",
    "lst1=sorted(lst)\n",
    "lst1"
   ]
  },
  {
   "cell_type": "code",
   "execution_count": 8,
   "id": "306c7e92-4c74-4af5-a987-b2af67ac7bf7",
   "metadata": {},
   "outputs": [
    {
     "name": "stdout",
     "output_type": "stream",
     "text": [
      "=======> 2876347898944\n",
      "##########> 2876347851328\n"
     ]
    }
   ],
   "source": [
    "#sorted\n",
    "lst=[3,4,73,45,5,64,33]\n",
    "print(\"=======>\",id(lst))\n",
    "lst1=sorted(lst,reverse=True)\n",
    "lst1\n",
    "print(\"##########>\",id(lst1))"
   ]
  },
  {
   "cell_type": "code",
   "execution_count": 14,
   "id": "7fff838e-2045-4229-9098-576315e5d5dc",
   "metadata": {},
   "outputs": [
    {
     "name": "stdout",
     "output_type": "stream",
     "text": [
      "before [3, 4, 73, 45, 5, 64, 33]\n",
      "2876349660992\n",
      "2876349660992\n"
     ]
    },
    {
     "data": {
      "text/plain": [
       "[33, 64, 5, 45, 73, 4, 3]"
      ]
     },
     "execution_count": 14,
     "metadata": {},
     "output_type": "execute_result"
    }
   ],
   "source": [
    "# reverse\n",
    "lst=[3,4,73,45,5,64,33]\n",
    "print(\"before\",lst)\n",
    "print(id(lst))\n",
    "lst.reverse()\n",
    "print(id(lst))\n",
    "lst"
   ]
  },
  {
   "cell_type": "code",
   "execution_count": 15,
   "id": "bb254f8b-584c-4adf-9b34-794fa1b58f2d",
   "metadata": {},
   "outputs": [
    {
     "data": {
      "text/plain": [
       "[3, 4, 73, 45, 5, 64, 33]"
      ]
     },
     "execution_count": 15,
     "metadata": {},
     "output_type": "execute_result"
    }
   ],
   "source": [
    "lst[::-1]"
   ]
  },
  {
   "cell_type": "code",
   "execution_count": 18,
   "id": "63eddc5a-7584-4c2b-96f6-a64a2ac2de4f",
   "metadata": {},
   "outputs": [
    {
     "name": "stdin",
     "output_type": "stream",
     "text": [
      "enter number :  77\n"
     ]
    },
    {
     "name": "stdout",
     "output_type": "stream",
     "text": [
      "value not foiund\n"
     ]
    }
   ],
   "source": [
    "lst=[3,4,73,45,5,64,33]\n",
    "value=int(input(\"enter number : \"))\n",
    "if value in lst:\n",
    "    print(\"Index \",lst.index(value))\n",
    "else:\n",
    "    print(\"value not foiund\")   "
   ]
  },
  {
   "cell_type": "code",
   "execution_count": 19,
   "id": "e5bff945-f6de-4d3b-b74d-fab0d6a615e6",
   "metadata": {},
   "outputs": [
    {
     "data": {
      "text/plain": [
       "2"
      ]
     },
     "execution_count": 19,
     "metadata": {},
     "output_type": "execute_result"
    }
   ],
   "source": [
    "lst=[3,4,73,45,5,64,33,5]\n",
    "lst.count(5)"
   ]
  },
  {
   "cell_type": "code",
   "execution_count": 20,
   "id": "ef4fe68c-78d0-4840-88e0-0609cb61dcd6",
   "metadata": {},
   "outputs": [
    {
     "data": {
      "text/plain": [
       "232"
      ]
     },
     "execution_count": 20,
     "metadata": {},
     "output_type": "execute_result"
    }
   ],
   "source": [
    "lst=[3,4,73,45,5,64,33,5]\n",
    "sum(lst)"
   ]
  },
  {
   "cell_type": "code",
   "execution_count": 2,
   "id": "46d79ec0-9458-4ad7-91eb-5e2a11fde1bc",
   "metadata": {},
   "outputs": [
    {
     "name": "stdout",
     "output_type": "stream",
     "text": [
      "232\n"
     ]
    }
   ],
   "source": [
    "lst=[3,4,73,45,5,64,33,5]\n",
    "sum1=0\n",
    "for i in lst:\n",
    "    sum1+=i\n",
    "print(sum1)"
   ]
  },
  {
   "cell_type": "code",
   "execution_count": 22,
   "id": "e0088002-2e29-4f06-a1f1-2f2e9a8b4d28",
   "metadata": {},
   "outputs": [
    {
     "data": {
      "text/plain": [
       "[2, 4, 6]"
      ]
     },
     "execution_count": 22,
     "metadata": {},
     "output_type": "execute_result"
    }
   ],
   "source": [
    "# list Comprehension\n",
    "lst=[2,3,4,5,6]\n",
    "new_lst=[i for i in lst if i%2==0]\n",
    "new_lst"
   ]
  },
  {
   "cell_type": "code",
   "execution_count": 23,
   "id": "5429e992-dadd-4189-a081-75ed94681da8",
   "metadata": {},
   "outputs": [
    {
     "data": {
      "text/plain": [
       "[3, 5]"
      ]
     },
     "execution_count": 23,
     "metadata": {},
     "output_type": "execute_result"
    }
   ],
   "source": [
    "lst=[2,3,4,5,6]\n",
    "new_lst=[i for i in lst if i%2!=0]\n",
    "new_lst"
   ]
  },
  {
   "cell_type": "code",
   "execution_count": 24,
   "id": "de23b3e9-2cfd-4197-8697-e55dcaef3ffc",
   "metadata": {},
   "outputs": [
    {
     "data": {
      "text/plain": [
       "[4, 9, 16, 25, 36]"
      ]
     },
     "execution_count": 24,
     "metadata": {},
     "output_type": "execute_result"
    }
   ],
   "source": [
    "lst=[2,3,4,5,6]\n",
    "new_lst=[i*i for i in lst]\n",
    "new_lst"
   ]
  },
  {
   "cell_type": "code",
   "execution_count": 27,
   "id": "5237c5b4-4dad-4390-83f6-4896775d4732",
   "metadata": {},
   "outputs": [
    {
     "name": "stdout",
     "output_type": "stream",
     "text": [
      "[6, 5, 4, 3, 2]\n"
     ]
    }
   ],
   "source": [
    "lst=[2,3,4,5,6]\n",
    "count=-1\n",
    "new_lst=[]\n",
    "for i in lst:\n",
    "    new_lst.append(lst[count])\n",
    "    count-=1\n",
    "print(new_lst)"
   ]
  },
  {
   "cell_type": "code",
   "execution_count": 4,
   "id": "62e3edd9-0fe9-4fb8-80f1-f8fe50fc60e4",
   "metadata": {},
   "outputs": [
    {
     "data": {
      "text/plain": [
       "[6, 5, 4, 3, 2]"
      ]
     },
     "execution_count": 4,
     "metadata": {},
     "output_type": "execute_result"
    }
   ],
   "source": [
    "lst=[2,3,4,5,6]\n",
    "lst1=[lst[i] for i in range(len(lst)-1,-1,-1)]\n",
    "lst1"
   ]
  },
  {
   "cell_type": "code",
   "execution_count": 31,
   "id": "ed6b875d-cb23-45df-9034-529b14bc9975",
   "metadata": {},
   "outputs": [
    {
     "name": "stdout",
     "output_type": "stream",
     "text": [
      "[6, 5, 4, 3, 2]\n"
     ]
    }
   ],
   "source": [
    "lst1=[2,3,4,5,6]\n",
    "new_lst1=[]\n",
    "for i in range(len(lst1)):\n",
    "    new_lst1.append(lst1.pop())\n",
    "print(new_lst1)"
   ]
  },
  {
   "cell_type": "code",
   "execution_count": 35,
   "id": "7ef40781-f782-4669-a7a4-3ad9276f5df4",
   "metadata": {},
   "outputs": [
    {
     "name": "stdout",
     "output_type": "stream",
     "text": [
      "4\n"
     ]
    }
   ],
   "source": [
    "# check longest valid paranthesis\n",
    "\n",
    "# Given a string containing just the characters '(' and ')', return the length of the longest valid (well-formed) parentheses \n",
    "# substring.\n",
    "# Example 1:\n",
    "# ==========\n",
    "# Input: s = \"(()\"\n",
    "# Output: 2\n",
    "# Explanation: The longest valid parentheses substring is \"()\".\n",
    "# Example 2:\n",
    "# ==========\n",
    "# Input: s = \")()())\"\n",
    "# Output: 4\n",
    "# Explanation: The longest valid parentheses substring is \"()()\".\n",
    "# Example 3:\n",
    "# =========\n",
    "# Input: s = \"\"\n",
    "# Output: 0\n",
    "\n",
    "\n",
    "def longest_valid_paranthesis(s):\n",
    "    lst=list(s)\n",
    "    index1=[]\n",
    "    for i in range(int(len(lst)/2)):\n",
    "        if lst[0]==\"(\":\n",
    "            index1.append(lst.index(\"(\"))\n",
    "            break\n",
    "        else:\n",
    "            lst.remove(lst[0])\n",
    "    for i in range(int(len(lst)/2)):\n",
    "        if lst[-1]==\")\":\n",
    "            index1.append(len(lst))\n",
    "            break\n",
    "        else:\n",
    "            lst.remove(lst[-1])\n",
    "    if len(s)==0:\n",
    "        print(0)\n",
    "    else:\n",
    "        print(len(lst)-1)\n",
    " \n",
    "\n",
    "\n",
    "s=\")()())\"\n",
    "longest_valid_paranthesis(s)   "
   ]
  },
  {
   "cell_type": "code",
   "execution_count": 36,
   "id": "ef5597ec-15a0-4f70-941c-f0b811f27586",
   "metadata": {},
   "outputs": [
    {
     "name": "stdout",
     "output_type": "stream",
     "text": [
      "2\n"
     ]
    }
   ],
   "source": [
    "s = \"(()\"\n",
    "longest_valid_paranthesis(s)"
   ]
  },
  {
   "cell_type": "code",
   "execution_count": 37,
   "id": "a32b84ab-ab67-47de-8cbb-7c969fd3e8a6",
   "metadata": {},
   "outputs": [
    {
     "name": "stdout",
     "output_type": "stream",
     "text": [
      "0\n"
     ]
    }
   ],
   "source": [
    "s = \"\"\n",
    "longest_valid_paranthesis(s)"
   ]
  },
  {
   "cell_type": "code",
   "execution_count": 42,
   "id": "11980e7b-f33a-494f-b42f-18f2c53c57ac",
   "metadata": {},
   "outputs": [
    {
     "name": "stdout",
     "output_type": "stream",
     "text": [
      "0\n"
     ]
    }
   ],
   "source": [
    "# str1 = \")()()()()()()()()()())))((()()()()()((()))))\"\n",
    "str1 = \"\"\n",
    "# str1=\")()())\"\n",
    "count = 0\n",
    "for i,j in enumerate(str1):\n",
    "    if j == \"(\" and str1[i+1] == \")\":\n",
    "        count+=2\n",
    "print(count)"
   ]
  },
  {
   "cell_type": "code",
   "execution_count": 39,
   "id": "0af6f3f2-97a4-424a-b4e9-df218c1420d9",
   "metadata": {},
   "outputs": [
    {
     "name": "stdout",
     "output_type": "stream",
     "text": [
      "42\n"
     ]
    }
   ],
   "source": [
    "s = \")()()()()()()()()()())))((()()()()()((()))))\"\n",
    "longest_valid_paranthesis(s)"
   ]
  },
  {
   "cell_type": "code",
   "execution_count": 11,
   "id": "652dd5cc-8119-4845-a2d8-0c11a130fc28",
   "metadata": {},
   "outputs": [
    {
     "name": "stdout",
     "output_type": "stream",
     "text": [
      "39\n",
      "['ISRO Chandrayaan 3', 'Chandrayaan 3 Moon', '3 Moon Landing', 'Moon Landing Live', 'Landing Live Updates:', 'Live Updates: Isro’s', 'Updates: Isro’s third', 'Isro’s third lunar', 'third lunar mission', 'lunar mission Chandrayaan-3', 'mission Chandrayaan-3 made', 'Chandrayaan-3 made a', 'made a soft-landing', 'a soft-landing on', 'soft-landing on the', 'on the Moon', 'the Moon on', 'Moon on Wednesday.', 'on Wednesday. With', 'Wednesday. With this,', 'With this, India', 'this, India joined', 'India joined the', 'joined the short', 'the short list', 'short list of', 'list of countries', 'of countries in', 'countries in the', 'in the world', 'the world to', 'world to land', 'to land a', 'land a rover', 'a rover on', 'rover on the', 'on the Moon.']\n"
     ]
    }
   ],
   "source": [
    "# python program for trigram\n",
    "str1=\"\"\"ISRO Chandrayaan 3 Moon Landing Live Updates: Isro’s third lunar mission \n",
    "Chandrayaan-3 made a soft-landing on the Moon on Wednesday. With this, \n",
    "India joined the short list of countries in the world to \n",
    "land a rover on the Moon.\"\"\"\n",
    "\n",
    "lst=[]\n",
    "lst1=str1.split()\n",
    "a=len(lst1)\n",
    "print(a)\n",
    "for i in range(len(lst1)-2):\n",
    "    lst.append(lst1[i]+\" \"+lst1[i+1]+\" \"+lst1[i+2])\n",
    "print(lst)\n",
    "    "
   ]
  },
  {
   "cell_type": "code",
   "execution_count": 10,
   "id": "8acc7e2a-a433-476c-aab5-637a25da4469",
   "metadata": {},
   "outputs": [
    {
     "name": "stdout",
     "output_type": "stream",
     "text": [
      "['ISRO Chandrayaan 3', 'Chandrayaan 3 Moon', '3 Moon Landing', 'Moon Landing Live', 'Landing Live Updates:', 'Live Updates: Isro’s', 'Updates: Isro’s third', 'Isro’s third lunar', 'third lunar mission', 'lunar mission Chandrayaan-3', 'mission Chandrayaan-3 made', 'Chandrayaan-3 made a', 'made a soft-landing', 'a soft-landing on', 'soft-landing on the', 'on the Moon', 'the Moon on', 'Moon on Wednesday.', 'on Wednesday. With', 'Wednesday. With this,', 'With this, India', 'this, India joined', 'India joined the', 'joined the short', 'the short list', 'short list of', 'list of countries', 'of countries in', 'countries in the', 'in the world', 'the world to', 'world to land', 'to land a', 'land a rover', 'a rover on', 'rover on the', 'on the Moon.']\n"
     ]
    }
   ],
   "source": [
    "str1=\"\"\"ISRO Chandrayaan 3 Moon Landing Live Updates: Isro’s third lunar mission \n",
    "Chandrayaan-3 made a soft-landing on the Moon on Wednesday. With this, \n",
    "India joined the short list of countries in the world to \n",
    "land a rover on the Moon.\"\"\"\n",
    "\n",
    "def tri_gram(str1):\n",
    "    \n",
    "    a=str1.split()\n",
    "    lst=[]\n",
    "    for i in range(len(a)):\n",
    "        if len(a)>=3:\n",
    "            lst.append(' '.join(a[:3]))\n",
    "            a.pop(0)\n",
    "    print(lst)\n",
    "            \n",
    "tri_gram(str1)\n"
   ]
  },
  {
   "cell_type": "code",
   "execution_count": 21,
   "id": "aa680573",
   "metadata": {},
   "outputs": [
    {
     "name": "stdout",
     "output_type": "stream",
     "text": [
      "Heighest number  73\n"
     ]
    }
   ],
   "source": [
    "# find highest number without max and sorted function\n",
    "def highest_number(lst):\n",
    "    a1 = float(\"-inf\") \n",
    "    a2 = float(\"-inf\") \n",
    "    \n",
    "    for num in lst:\n",
    "        if num>a1: #3  \n",
    "            a2=a1 #- infy\n",
    "            a1=num #3\n",
    "    print(\"Heighest number \",a1)\n",
    "\n",
    "lst=[3,4,73,45,5,64,33,5]\n",
    "highest_number(lst)"
   ]
  },
  {
   "cell_type": "code",
   "execution_count": 15,
   "id": "41f79209-8bab-4fa4-b44f-69b1172b12e4",
   "metadata": {},
   "outputs": [
    {
     "name": "stdout",
     "output_type": "stream",
     "text": [
      "The second highest number is: 64\n"
     ]
    }
   ],
   "source": [
    "def second_highest_number(lst):\n",
    "    a1 = float(\"-inf\") \n",
    "    a2 = float(\"-inf\") \n",
    "    \n",
    "    for num in lst:\n",
    "        if num > a1:\n",
    "            a2 = a1\n",
    "            a1 = num\n",
    "        elif num > a2:\n",
    "            a2 = num\n",
    "            \n",
    "    return a2\n",
    "\n",
    "lst = [3, 4, 73, 45, 5, 64, 33, 5]\n",
    "result = second_highest_number(lst)\n",
    "print(\"The second highest number is:\", result)\n"
   ]
  },
  {
   "cell_type": "code",
   "execution_count": null,
   "id": "4fe5482b-7164-44f7-aa75-cc1870944baa",
   "metadata": {},
   "outputs": [],
   "source": []
  }
 ],
 "metadata": {
  "kernelspec": {
   "display_name": "Python 3 (ipykernel)",
   "language": "python",
   "name": "python3"
  },
  "language_info": {
   "codemirror_mode": {
    "name": "ipython",
    "version": 3
   },
   "file_extension": ".py",
   "mimetype": "text/x-python",
   "name": "python",
   "nbconvert_exporter": "python",
   "pygments_lexer": "ipython3",
   "version": "3.9.12"
  }
 },
 "nbformat": 4,
 "nbformat_minor": 5
}
