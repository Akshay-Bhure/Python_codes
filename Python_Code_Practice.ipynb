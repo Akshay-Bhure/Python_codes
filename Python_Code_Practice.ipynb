{
 "cells": [
  {
   "cell_type": "code",
   "execution_count": 14,
   "id": "d88b1e27",
   "metadata": {},
   "outputs": [
    {
     "name": "stdout",
     "output_type": "stream",
     "text": [
      "9\n"
     ]
    }
   ],
   "source": [
    "# find given sum from the list of numbers (pair)\n",
    "# lst=[2,4,6,18,7,19,21]\n",
    "# sum=13\n",
    "\n",
    "lst1=[2,4,6,18,7,19,21]\n",
    "lst=sorted(lst1)\n",
    "sum1=9\n",
    "for i in range(len(lst)+1):\n",
    "    if (lst[0]+lst[-1])>sum1:\n",
    "        lst.remove(lst[-1])\n",
    "    if (lst[0]+lst[-1])<sum1:\n",
    "        lst.remove(lst[0])\n",
    "    if (lst[0]+lst[-1])==sum1:\n",
    "        print(lst[0]+lst[-1])\n",
    "        break\n",
    "    "
   ]
  },
  {
   "cell_type": "code",
   "execution_count": 20,
   "id": "daa00b4e",
   "metadata": {},
   "outputs": [
    {
     "name": "stdout",
     "output_type": "stream",
     "text": [
      "[-2, -1, 2, 3, 5]\n",
      "Length of list is : 5\n"
     ]
    }
   ],
   "source": [
    "# #given a list of integer , find largest subarray with fixed sum\n",
    "# nums=[5,8,-4,-2,6,-1,3,2]\n",
    "# target=7\n",
    "\n",
    "nums=[5,8,-4,-2,6,-1,3,2]\n",
    "b=sorted(nums)\n",
    "target=7\n",
    "\n",
    "for i in range(len(b)):\n",
    "    total_sum=sum(b)\n",
    "    if total_sum>target:\n",
    "        b.remove(b[-1])\n",
    "    if total_sum<target:\n",
    "        b.remove(b[0])\n",
    "    if total_sum==target:\n",
    "        print(b)\n",
    "        print('Length of list is :',len(b))\n",
    "        break\n",
    "    "
   ]
  },
  {
   "cell_type": "code",
   "execution_count": 43,
   "id": "66356403",
   "metadata": {},
   "outputs": [
    {
     "name": "stdout",
     "output_type": "stream",
     "text": [
      "0 10\n",
      "1 15\n",
      "2 4\n",
      "3 23\n",
      "4 0\n"
     ]
    }
   ],
   "source": [
    "# number with its index and value without e numerate function\n",
    "lst=[10,15,4,23,0]\n",
    "for i in range(len(lst)):\n",
    "    print(i,end=' ')\n",
    "    print(lst[i])\n",
    "    "
   ]
  },
  {
   "cell_type": "code",
   "execution_count": 40,
   "id": "e7def3e3",
   "metadata": {},
   "outputs": [
    {
     "name": "stdout",
     "output_type": "stream",
     "text": [
      "0 10\n",
      "1 15\n",
      "2 4\n",
      "3 23\n",
      "4 0\n"
     ]
    }
   ],
   "source": [
    "# number with its index and value with e numerate function\n",
    "for index,value in enumerate(lst):\n",
    "    print(index,value)"
   ]
  },
  {
   "cell_type": "code",
   "execution_count": 44,
   "id": "0df9c4f0",
   "metadata": {},
   "outputs": [
    {
     "name": "stdout",
     "output_type": "stream",
     "text": [
      "[0, 4, 10, 15, 23]\n"
     ]
    }
   ],
   "source": [
    "lst=[10,15,4,23,0]\n",
    "\n",
    "for i in range(len(lst)):\n",
    "    for j in range (len(lst)-i-1):\n",
    "        if lst[j]>lst[j+1]:\n",
    "            lst[j],lst[j+1]=lst[j+1],lst[j]\n",
    "print(lst)"
   ]
  },
  {
   "cell_type": "code",
   "execution_count": 48,
   "id": "8494faf1",
   "metadata": {},
   "outputs": [
    {
     "name": "stdout",
     "output_type": "stream",
     "text": [
      "Enter your stringlongest substring without repeating alphabet\n",
      "longest ubriwhpa\n"
     ]
    }
   ],
   "source": [
    "# longest substring without repeating alphabet\n",
    "def longest_substring(str1):\n",
    "    s=''\n",
    "    for i in str1:\n",
    "        if i not in s:\n",
    "            s+=i\n",
    "    print(s)\n",
    "str1=input('Enter your string')\n",
    "longest_substring(str1)"
   ]
  },
  {
   "cell_type": "code",
   "execution_count": 56,
   "id": "982cb7c1",
   "metadata": {},
   "outputs": [
    {
     "name": "stdout",
     "output_type": "stream",
     "text": [
      "enter the company name : Tata\n",
      "Total sales of Tata is 515\n"
     ]
    }
   ],
   "source": [
    "sales_data={'Tata':{'jan':100,\n",
    "                   'feb':150,\n",
    "                   'march':265},\n",
    "           'Mahindra':{'jan':60,\n",
    "                      'feb':130,\n",
    "                      'march':165},\n",
    "           'Scoda':{'jan':200,\n",
    "                   'feb':50,\n",
    "                   'march':234}}\n",
    "\n",
    "def calculate_total_sales(company):\n",
    "    if company in sales_data:\n",
    "        total_sales=sum(sales_data[company].values())\n",
    "        print(f'Total sales of {company} is {total_sales}')\n",
    "    else:\n",
    "        Print(f'company {company} is not present')\n",
    "\n",
    "def cod():\n",
    "    company=input(\"enter the company name : \")\n",
    "    calculate_total_sales(company)\n",
    "\n",
    "    \n",
    "if __name__=='__main__':\n",
    "     cod()\n",
    "    "
   ]
  },
  {
   "cell_type": "code",
   "execution_count": 7,
   "id": "5e42da26",
   "metadata": {},
   "outputs": [
    {
     "name": "stdout",
     "output_type": "stream",
     "text": [
      "Enter your stringdata science\n",
      "dt scnc\n"
     ]
    }
   ],
   "source": [
    "# python program to remove vowels from the string \n",
    "# taking the input string from the user.\n",
    "\n",
    "s=input('Enter your string')\n",
    "s1=''\n",
    "for i in s:\n",
    "    if i not in 'aeiou':\n",
    "        s1+=i\n",
    "print(s1)\n",
    "        "
   ]
  },
  {
   "cell_type": "code",
   "execution_count": 17,
   "id": "05624b8a",
   "metadata": {},
   "outputs": [
    {
     "name": "stdout",
     "output_type": "stream",
     "text": [
      "enter string : data science\n",
      "d$t$ sc$$nc$\n"
     ]
    }
   ],
   "source": [
    "# python program to replace vowels with special char ($)\n",
    "string=input(\"enter string : \")\n",
    "vowels=list(\"aeiou\")\n",
    "result=\"\"\n",
    "for i in string:\n",
    "    if i in vowels:\n",
    "        i=\"$\"\n",
    "    result+=i\n",
    "print(result)"
   ]
  },
  {
   "cell_type": "code",
   "execution_count": 23,
   "id": "abace1b1",
   "metadata": {},
   "outputs": [
    {
     "name": "stdout",
     "output_type": "stream",
     "text": [
      "Please put string :data science\n",
      "removed characters are {'s', ' ', 'n', 'i', 'e', 'a', 't', 'c', 'd'}\n",
      "string after removed dat scien\n"
     ]
    }
   ],
   "source": [
    "# python program to remove repeated characters from the string by using set\n",
    "str1=input('Please put string :')\n",
    "set1=set()\n",
    "str2=''\n",
    "for char in str1:\n",
    "    if char not in set1:\n",
    "        set1.add(char)\n",
    "        str2+=char\n",
    "print('removed characters are',set1)\n",
    "print('string after removed',str2)"
   ]
  },
  {
   "cell_type": "code",
   "execution_count": 28,
   "id": "c3d443bd",
   "metadata": {},
   "outputs": [
    {
     "name": "stdout",
     "output_type": "stream",
     "text": [
      "Please put string :data science\n",
      "removed characters are ['d', 'a', 't', ' ', 's', 'c', 'i', 'e', 'n']\n",
      "string after removed dat scien\n"
     ]
    }
   ],
   "source": [
    "# python program to remove repeated characters from the string by using list\n",
    "str1=input('Please put string :')\n",
    "lst1=[]\n",
    "str2=''\n",
    "for char in str1:\n",
    "    if char not in lst1:\n",
    "        lst1.append(char)\n",
    "        str2+=char\n",
    "print('removed characters are',lst1)\n",
    "print('string after removed',str2)"
   ]
  },
  {
   "cell_type": "code",
   "execution_count": 29,
   "id": "96df3d1c",
   "metadata": {},
   "outputs": [
    {
     "name": "stdout",
     "output_type": "stream",
     "text": [
      "Please put string :data science\n",
      "removed characters are ['d', 'a', 't', ' ', 's', 'c', 'i', 'e', 'n']\n",
      "string after removed dat scien\n"
     ]
    }
   ],
   "source": [
    "# python program to remove repeated characters from the string by using list\n",
    "str1=input('Please put string :')\n",
    "lst1=[]\n",
    "str2=''\n",
    "for char in str1:\n",
    "    if char not in lst1:\n",
    "        lst1.append(char)\n",
    "        str2=''.join(lst1)\n",
    "print('removed characters are',lst1)\n",
    "print('string after removed',str2)"
   ]
  },
  {
   "cell_type": "code",
   "execution_count": 40,
   "id": "f60a1319",
   "metadata": {},
   "outputs": [
    {
     "name": "stdout",
     "output_type": "stream",
     "text": [
      "Enter your string data science\n",
      "5\n",
      "6\n"
     ]
    }
   ],
   "source": [
    "# python program to count vowels and consonent in string\n",
    "# taking input from the user\n",
    "str1=input('Enter your string ')\n",
    "vowels=0\n",
    "cons=0\n",
    "for i in str1:\n",
    "    if i in list('aeiou'):\n",
    "        vowels+=1\n",
    "    elif i.isalpha():\n",
    "        cons+=1\n",
    "print(vowels)\n",
    "print(cons)\n",
    "    \n",
    "    "
   ]
  },
  {
   "cell_type": "code",
   "execution_count": 49,
   "id": "d04ab09c",
   "metadata": {},
   "outputs": [
    {
     "name": "stdout",
     "output_type": "stream",
     "text": [
      "Enter your string :madam\n",
      "True\n"
     ]
    }
   ],
   "source": [
    "# check string is a palendrome or not and give output as true or false\n",
    "str1=input('Enter your string :')\n",
    "s=str1.lower()\n",
    "for i in str1:\n",
    "    if i.isalnum():\n",
    "        print(s==s[::-1])\n",
    "        break\n",
    "        \n",
    "        "
   ]
  },
  {
   "cell_type": "code",
   "execution_count": 54,
   "id": "e5f9bed5",
   "metadata": {},
   "outputs": [
    {
     "name": "stdout",
     "output_type": "stream",
     "text": [
      "Enter your string :madaam\n",
      "it is not a palindrome  madaam\n"
     ]
    }
   ],
   "source": [
    "# check string is a palendrome or not\n",
    "str1=input('Enter your string :')\n",
    "s=str1.lower()\n",
    "for i in str1:\n",
    "    if s==s[::-1]:\n",
    "        print('it is palindrome ',s)\n",
    "        break\n",
    "    else:\n",
    "        print('it is not a palindrome ',s)\n",
    "        break"
   ]
  },
  {
   "cell_type": "code",
   "execution_count": 68,
   "id": "18637336",
   "metadata": {},
   "outputs": [
    {
     "name": "stdout",
     "output_type": "stream",
     "text": [
      "enter start number : 12\n",
      "enter end number : 100\n",
      "number of even numbers :  44\n",
      "number of odd numbers :  44\n"
     ]
    }
   ],
   "source": [
    "# find even and odd number count in given range\n",
    "even=[]\n",
    "odd=[]\n",
    "start=int(input(\"enter start number : \"))\n",
    "end=int(input(\"enter end number : \"))\n",
    "for i in range(start,end):\n",
    "    if i%2==0:\n",
    "        even.append(i)\n",
    "    else:\n",
    "        odd.append(i)\n",
    "print(\"number of even numbers : \",len(even))\n",
    "print(\"number of odd numbers : \",len(odd))"
   ]
  },
  {
   "cell_type": "code",
   "execution_count": 69,
   "id": "92ad93a9",
   "metadata": {},
   "outputs": [
    {
     "name": "stdout",
     "output_type": "stream",
     "text": [
      "enter start number : 12\n",
      "enter end number : 100\n",
      "number of even numbers :  [12, 14, 16, 18, 20, 22, 24, 26, 28, 30, 32, 34, 36, 38, 40, 42, 44, 46, 48, 50, 52, 54, 56, 58, 60, 62, 64, 66, 68, 70, 72, 74, 76, 78, 80, 82, 84, 86, 88, 90, 92, 94, 96, 98]\n",
      "number of odd numbers :  [13, 15, 17, 19, 21, 23, 25, 27, 29, 31, 33, 35, 37, 39, 41, 43, 45, 47, 49, 51, 53, 55, 57, 59, 61, 63, 65, 67, 69, 71, 73, 75, 77, 79, 81, 83, 85, 87, 89, 91, 93, 95, 97, 99]\n"
     ]
    }
   ],
   "source": [
    "# find even and odd numbers by given user input\n",
    "even=[]\n",
    "odd=[]\n",
    "start=int(input(\"enter start number : \"))\n",
    "end=int(input(\"enter end number : \"))\n",
    "for i in range(start,end):\n",
    "    if i%2==0:\n",
    "        even.append(i)\n",
    "    else:\n",
    "        odd.append(i)\n",
    "print(\"number of even numbers : \",even)\n",
    "print(\"number of odd numbers : \",odd)"
   ]
  },
  {
   "cell_type": "code",
   "execution_count": 73,
   "id": "f2846a02",
   "metadata": {},
   "outputs": [
    {
     "name": "stdout",
     "output_type": "stream",
     "text": [
      "Even numbers: [2, 334, 54, 66, 6]\n",
      "Odd numbers: [1, 75, 7]\n"
     ]
    }
   ],
   "source": [
    "# find even and odd numbers by given list\n",
    "list1 = [2, 1, 334, 54, 66, 75, 6, 7]\n",
    "even = []\n",
    "odd = []\n",
    "\n",
    "for num in list1:  # Iterate over the elements in the list, not indices\n",
    "    if num % 2 == 0:\n",
    "        even.append(num)\n",
    "    else:\n",
    "        odd.append(num)\n",
    "\n",
    "print(\"Even numbers:\", even)\n",
    "print(\"Odd numbers:\", odd)\n"
   ]
  },
  {
   "cell_type": "code",
   "execution_count": 75,
   "id": "45dc86bf",
   "metadata": {},
   "outputs": [
    {
     "data": {
      "text/plain": [
       "3"
      ]
     },
     "execution_count": 75,
     "metadata": {},
     "output_type": "execute_result"
    }
   ],
   "source": [
    "lst1 = [16, 25, 36, 77777, 3, 4, 77777, 5, 6]\n",
    "lst1.index(77777) # first occurence"
   ]
  },
  {
   "cell_type": "code",
   "execution_count": 80,
   "id": "2982887c",
   "metadata": {},
   "outputs": [
    {
     "data": {
      "text/plain": [
       "6"
      ]
     },
     "execution_count": 80,
     "metadata": {},
     "output_type": "execute_result"
    }
   ],
   "source": [
    "lst1 = [16, 25, 36, 77777, 3, 4, 77777, 5, 6]\n",
    "lst1.index(77777,lst1.index(77777)+1) # second occurence"
   ]
  },
  {
   "cell_type": "code",
   "execution_count": 140,
   "id": "73ce8d16",
   "metadata": {},
   "outputs": [
    {
     "name": "stdout",
     "output_type": "stream",
     "text": [
      "2\n"
     ]
    }
   ],
   "source": [
    "def longest_valid_parentheses1(s):\n",
    "    lst=list(s)\n",
    "    index1=[]\n",
    "    for i in range(int(len(lst)/2)):\n",
    "        if lst[0]==\"(\":\n",
    "            index1.append(0)\n",
    "            break\n",
    "        else:\n",
    "            lst.remove(lst[0])\n",
    "    for i in range(int(len(lst)/2)):\n",
    "        if lst[-1]==\")\":\n",
    "            index1.append(len(lst))\n",
    "            break\n",
    "        else:\n",
    "            lst.remove(lst[-1])\n",
    "    if len(s)==0:\n",
    "        print(0)\n",
    "    else:\n",
    "        print(len(lst)-1) \n",
    "    \n",
    "s = \"(()\"\n",
    "longest_valid_parentheses1(s)"
   ]
  },
  {
   "cell_type": "code",
   "execution_count": 142,
   "id": "2ed80427",
   "metadata": {},
   "outputs": [
    {
     "name": "stdout",
     "output_type": "stream",
     "text": [
      "2\n",
      "4\n",
      "0\n"
     ]
    }
   ],
   "source": [
    "\n",
    "# Examples:\n",
    "s1 = \"(()\"\n",
    "longest_valid_parentheses1(s1) # Output: 2\n",
    "\n",
    "s2 = \")()())\"\n",
    "longest_valid_parentheses1(s2)  # Output: 4\n",
    "\n",
    "s3 = \"\"\n",
    "longest_valid_parentheses1(s3)  # Output: 0\n"
   ]
  },
  {
   "cell_type": "code",
   "execution_count": 10,
   "id": "1dd7bb81",
   "metadata": {},
   "outputs": [
    {
     "name": "stdout",
     "output_type": "stream",
     "text": [
      "lst is [12, 3, 4, 5, 6]\n",
      "1954409872640\n",
      "[3, 4, 5, 6, 12]\n",
      "1954409872640\n"
     ]
    }
   ],
   "source": [
    "lst=[12,3,4,5,6]\n",
    "print(f'lst is {lst}')\n",
    "print(id(lst))\n",
    "lst.sort()\n",
    "print(lst)\n",
    "print(id(lst))"
   ]
  },
  {
   "cell_type": "code",
   "execution_count": 13,
   "id": "f2bd6f39",
   "metadata": {},
   "outputs": [
    {
     "name": "stdout",
     "output_type": "stream",
     "text": [
      "enter your number :78\n",
      "index of 78 is present and index is : 4\n"
     ]
    }
   ],
   "source": [
    "lst=[2,3,4,56,78,90]\n",
    "ipt=int(input('enter your number :'))\n",
    "if ipt in lst:\n",
    "    print(\"index of\", ipt, \"is present and index is :\", lst.index(ipt))\n",
    "else:\n",
    "    print(\"index of\", ipt, \"is not present\")\n"
   ]
  },
  {
   "cell_type": "code",
   "execution_count": 22,
   "id": "dc905299",
   "metadata": {},
   "outputs": [
    {
     "name": "stdout",
     "output_type": "stream",
     "text": [
      "1\n",
      "2\n",
      "3\n",
      "5\n",
      "8\n",
      "13\n",
      "21\n",
      "34\n",
      "55\n",
      "89\n",
      "144\n",
      "233\n",
      "377\n"
     ]
    }
   ],
   "source": [
    "# fibonacci of number 12\n",
    "num=12\n",
    "first=0\n",
    "second=1\n",
    "for i in range(num+1):\n",
    "    new=first+second\n",
    "    first=second\n",
    "    second=new\n",
    "    print(new)\n"
   ]
  },
  {
   "cell_type": "code",
   "execution_count": 12,
   "id": "00c8f48e",
   "metadata": {},
   "outputs": [
    {
     "name": "stdout",
     "output_type": "stream",
     "text": [
      "4\n"
     ]
    }
   ],
   "source": [
    "# check longest valid paranthesis\n",
    "\n",
    "# Given a string containing just the characters '(' and ')', return the length of the longest valid (well-formed) parentheses \n",
    "# substring.\n",
    "# Example 1:\n",
    "# ==========\n",
    "# Input: s = \"(()\"\n",
    "# Output: 2\n",
    "# Explanation: The longest valid parentheses substring is \"()\".\n",
    "# Example 2:\n",
    "# ==========\n",
    "# Input: s = \")()())\"\n",
    "# Output: 4\n",
    "# Explanation: The longest valid parentheses substring is \"()()\".\n",
    "# Example 3:\n",
    "# =========\n",
    "# Input: s = \"\"\n",
    "# Output: 0\n",
    "\n",
    "\n",
    "def longest_valid_paranthesis(s):\n",
    "    lst=list(s)\n",
    "    index1=[]\n",
    "    for i in range(len(lst)):\n",
    "        if lst[0]==\"(\":\n",
    "            index1.append(lst.index(\"(\"))\n",
    "            break\n",
    "        else:\n",
    "            lst.remove(lst[0])\n",
    "    for i in range(len(lst)):\n",
    "        if lst[-1]==\")\":\n",
    "            index1.append(len(lst))\n",
    "            break\n",
    "        else:\n",
    "            lst.remove(lst[-1])\n",
    "    if len(s)==0:\n",
    "        print(0)\n",
    "    else:\n",
    "        print(len(lst)-1)\n",
    " \n",
    "\n",
    "\n",
    "s=\")()())\"\n",
    "longest_valid_paranthesis(s)   "
   ]
  },
  {
   "cell_type": "code",
   "execution_count": 6,
   "id": "a396b405",
   "metadata": {},
   "outputs": [
    {
     "name": "stdout",
     "output_type": "stream",
     "text": [
      "2\n"
     ]
    }
   ],
   "source": [
    "s = \"(()\"\n",
    "longest_valid_paranthesis(s) "
   ]
  },
  {
   "cell_type": "code",
   "execution_count": 1,
   "id": "170dca40",
   "metadata": {},
   "outputs": [],
   "source": [
    "\n",
    "def longest_valid_paranthesis(s):\n",
    "    lst=list(s)\n",
    "    index1=[]\n",
    "    for i in range(len(lst)):\n",
    "        if lst[0]==\"(\":\n",
    "            index1.append(lst.index(\"(\"))\n",
    "            break\n",
    "        else:\n",
    "            lst.remove(lst[0])\n",
    "    for i in range(len(lst)):\n",
    "        if lst[-1]==\")\":\n",
    "            index1.append(len(lst))\n",
    "            break\n",
    "        else:\n",
    "            lst.remove(lst[-1])\n",
    "    if len(s)==0:\n",
    "        print(0)\n",
    "    else:\n",
    "        print(len(lst)-1)\n",
    " "
   ]
  },
  {
   "cell_type": "code",
   "execution_count": 2,
   "id": "e3728eff",
   "metadata": {},
   "outputs": [
    {
     "name": "stdout",
     "output_type": "stream",
     "text": [
      "4\n"
     ]
    }
   ],
   "source": [
    "s=\")()())\"\n",
    "longest_valid_paranthesis(s)   "
   ]
  },
  {
   "cell_type": "code",
   "execution_count": 48,
   "id": "02ae4c38",
   "metadata": {},
   "outputs": [
    {
     "name": "stdout",
     "output_type": "stream",
     "text": [
      "39\n",
      "['ISRO Chandrayaan 3', 'Chandrayaan 3 Moon', '3 Moon Landing', 'Moon Landing Live', 'Landing Live Updates:', 'Live Updates: Isro’s', 'Updates: Isro’s third', 'Isro’s third lunar', 'third lunar mission', 'lunar mission Chandrayaan-3', 'mission Chandrayaan-3 made', 'Chandrayaan-3 made a', 'made a soft-landing', 'a soft-landing on', 'soft-landing on the', 'on the Moon', 'the Moon on', 'Moon on Wednesday.', 'on Wednesday. With', 'Wednesday. With this,', 'With this, India', 'this, India joined', 'India joined the', 'joined the short', 'the short list', 'short list of', 'list of countries', 'of countries in', 'countries in the', 'in the world', 'the world to', 'world to land', 'to land a', 'land a rover', 'a rover on', 'rover on the', 'on the Moon.']\n"
     ]
    }
   ],
   "source": [
    "# python program for trigram\n",
    "str1=\"\"\"ISRO Chandrayaan 3 Moon Landing Live Updates: Isro’s third lunar mission \n",
    "Chandrayaan-3 made a soft-landing on the Moon on Wednesday. With this, \n",
    "India joined the short list of countries in the world to \n",
    "land a rover on the Moon.\"\"\"\n",
    "\n",
    "lst=[]\n",
    "lst1=str1.split()\n",
    "a=len(lst1)\n",
    "print(a)\n",
    "for i in range(len(lst1)-2):\n",
    "    lst.append(lst1[i]+\" \"+lst1[i+1]+\" \"+lst1[i+2])\n",
    "print(lst)\n",
    "    "
   ]
  },
  {
   "cell_type": "code",
   "execution_count": 57,
   "id": "a7c8c6a0",
   "metadata": {},
   "outputs": [
    {
     "name": "stdout",
     "output_type": "stream",
     "text": [
      "['ISRO Chandrayaan 3', 'Chandrayaan 3 Moon', '3 Moon Landing', 'Moon Landing Live', 'Landing Live Updates:', 'Live Updates: Isro’s', 'Updates: Isro’s third', 'Isro’s third lunar', 'third lunar mission', 'lunar mission Chandrayaan-3', 'mission Chandrayaan-3 made', 'Chandrayaan-3 made a', 'made a soft-landing', 'a soft-landing on', 'soft-landing on the', 'on the Moon', 'the Moon on', 'Moon on Wednesday.', 'on Wednesday. With', 'Wednesday. With this,', 'With this, India', 'this, India joined', 'India joined the', 'joined the short', 'the short list', 'short list of', 'list of countries', 'of countries in', 'countries in the', 'in the world', 'the world to', 'world to land', 'to land a', 'land a rover', 'a rover on', 'rover on the', 'on the Moon.']\n"
     ]
    }
   ],
   "source": [
    "str1=\"\"\"ISRO Chandrayaan 3 Moon Landing Live Updates: Isro’s third lunar mission \n",
    "Chandrayaan-3 made a soft-landing on the Moon on Wednesday. With this, \n",
    "India joined the short list of countries in the world to \n",
    "land a rover on the Moon.\"\"\"\n",
    "\n",
    "def tri_gram(str1):\n",
    "    \n",
    "    a=str1.split()\n",
    "    lst=[]\n",
    "    for i in range(len(a)):\n",
    "        if len(a)>=3:\n",
    "            lst.append(' '.join(a[:3]))\n",
    "            a.pop(0)\n",
    "    print(lst)\n",
    "            \n",
    "tri_gram(str1)\n"
   ]
  },
  {
   "cell_type": "code",
   "execution_count": 82,
   "id": "89ad54f1",
   "metadata": {},
   "outputs": [
    {
     "name": "stdout",
     "output_type": "stream",
     "text": [
      "[64]\n"
     ]
    }
   ],
   "source": [
    "# find second highest number\n",
    "lst=[3,4,73,45,5,64,33,5]\n",
    "for i in lst:\n",
    "    lst1=list(sorted(lst,reverse=True))\n",
    "    print(lst1[1:2])\n",
    "    break\n"
   ]
  },
  {
   "cell_type": "code",
   "execution_count": 85,
   "id": "99d45dea",
   "metadata": {},
   "outputs": [],
   "source": [
    "a=20\n",
    "b=30"
   ]
  },
  {
   "cell_type": "code",
   "execution_count": 86,
   "id": "9662cab1",
   "metadata": {},
   "outputs": [
    {
     "name": "stdout",
     "output_type": "stream",
     "text": [
      "1728898493328\n",
      "1728898493648\n"
     ]
    }
   ],
   "source": [
    "print(id(a))\n",
    "print(id(b))"
   ]
  },
  {
   "cell_type": "code",
   "execution_count": 87,
   "id": "7d3f1bb4",
   "metadata": {},
   "outputs": [],
   "source": [
    "a=20\n",
    "b=20"
   ]
  },
  {
   "cell_type": "code",
   "execution_count": 88,
   "id": "820ac4d4",
   "metadata": {},
   "outputs": [
    {
     "name": "stdout",
     "output_type": "stream",
     "text": [
      "1728898493328\n",
      "1728898493328\n"
     ]
    }
   ],
   "source": [
    "print(id(a))\n",
    "print(id(b))"
   ]
  },
  {
   "cell_type": "code",
   "execution_count": 90,
   "id": "2f372b8d",
   "metadata": {},
   "outputs": [],
   "source": [
    "import keyword"
   ]
  },
  {
   "cell_type": "code",
   "execution_count": 91,
   "id": "9925081d",
   "metadata": {},
   "outputs": [
    {
     "data": {
      "text/plain": [
       "36"
      ]
     },
     "execution_count": 91,
     "metadata": {},
     "output_type": "execute_result"
    }
   ],
   "source": [
    "len(keyword.kwlist)"
   ]
  },
  {
   "cell_type": "code",
   "execution_count": 94,
   "id": "8d2a9931",
   "metadata": {},
   "outputs": [
    {
     "name": "stdout",
     "output_type": "stream",
     "text": [
      "enter your marks :40\n",
      "your marks are 40, so you are passed\n"
     ]
    }
   ],
   "source": [
    "marks=int(input(f\"enter your marks :\"))\n",
    "if marks<40:\n",
    "    print(\"Your marks are\",marks,\"so your failed\")\n",
    "else:\n",
    "    print(f\"your marks are {marks}, so you are passed\")"
   ]
  },
  {
   "cell_type": "code",
   "execution_count": 96,
   "id": "a4eccf11",
   "metadata": {},
   "outputs": [
    {
     "name": "stdout",
     "output_type": "stream",
     "text": [
      "1\n",
      "3\n",
      "5\n",
      "7\n",
      "9\n",
      "11\n",
      "13\n",
      "15\n",
      "17\n",
      "19\n",
      "21\n",
      "23\n",
      "25\n"
     ]
    }
   ],
   "source": [
    "x=0\n",
    "while x<25:\n",
    "    x+=1\n",
    "    print(x)\n",
    "    x+=1"
   ]
  },
  {
   "cell_type": "code",
   "execution_count": 101,
   "id": "55718f5e",
   "metadata": {},
   "outputs": [
    {
     "name": "stdout",
     "output_type": "stream",
     "text": [
      "987654321\n"
     ]
    }
   ],
   "source": [
    "# reverse the string\n",
    "a=123456789\n",
    "b=str(a)\n",
    "for i in b:\n",
    "    print(b[::-1])\n",
    "    break"
   ]
  },
  {
   "cell_type": "code",
   "execution_count": 107,
   "id": "9dc21071",
   "metadata": {},
   "outputs": [
    {
     "data": {
      "text/plain": [
       "'987654321'"
      ]
     },
     "execution_count": 107,
     "metadata": {},
     "output_type": "execute_result"
    }
   ],
   "source": [
    "b[::-1]"
   ]
  },
  {
   "cell_type": "code",
   "execution_count": 109,
   "id": "9156fe3c",
   "metadata": {
    "scrolled": true
   },
   "outputs": [
    {
     "data": {
      "text/plain": [
       "9"
      ]
     },
     "execution_count": 109,
     "metadata": {},
     "output_type": "execute_result"
    }
   ],
   "source": [
    "123456789%10"
   ]
  },
  {
   "cell_type": "code",
   "execution_count": 110,
   "id": "4f4de344",
   "metadata": {},
   "outputs": [
    {
     "data": {
      "text/plain": [
       "12345678"
      ]
     },
     "execution_count": 110,
     "metadata": {},
     "output_type": "execute_result"
    }
   ],
   "source": [
    "123456789//10"
   ]
  },
  {
   "cell_type": "code",
   "execution_count": 147,
   "id": "0ad4da2a",
   "metadata": {},
   "outputs": [
    {
     "name": "stdout",
     "output_type": "stream",
     "text": [
      "list of reverse number is [9, 8, 7, 6, 5, 4, 3, 2, 1]\n",
      "inter reverse numbers are 987654321\n"
     ]
    }
   ],
   "source": [
    "# reverse the string without reverse function\n",
    "s=123456789\n",
    "lst=[]\n",
    "for i in range(len(str(s))):\n",
    "    lst.append(s%10)\n",
    "    s//=10\n",
    "print(f'list of reverse number is {lst}') \n",
    "\n",
    "b=''\n",
    "for j in lst:\n",
    "    b+=str(j)\n",
    "print('inter reverse numbers are',int(b))\n",
    "       "
   ]
  },
  {
   "cell_type": "code",
   "execution_count": 24,
   "id": "f6e502c2",
   "metadata": {},
   "outputs": [
    {
     "name": "stdout",
     "output_type": "stream",
     "text": [
      "list of reverse number is 987654321\n"
     ]
    }
   ],
   "source": [
    "# reverse the number without reverse function\n",
    "s=123456789\n",
    "reverse=0\n",
    "for i in range(len(str(s))):\n",
    "    reverse=reverse*10+s%10 \n",
    "    s//=10\n",
    "print(f'list of reverse number is',reverse)"
   ]
  },
  {
   "cell_type": "code",
   "execution_count": 159,
   "id": "2eb1fd50",
   "metadata": {},
   "outputs": [
    {
     "name": "stdout",
     "output_type": "stream",
     "text": [
      "enter your number 21\n",
      "number is not prime\n"
     ]
    }
   ],
   "source": [
    "# prime number or not\n",
    "a=int(input('enter your number '))\n",
    "if a<=1:\n",
    "    print('enter valid number')\n",
    "\n",
    "for i in range(2,a):\n",
    "    if a%i==0:\n",
    "        print('number is not prime')\n",
    "        break\n",
    "else:\n",
    "    print('number is prime')"
   ]
  },
  {
   "cell_type": "code",
   "execution_count": 161,
   "id": "f81e6868",
   "metadata": {},
   "outputs": [
    {
     "name": "stdout",
     "output_type": "stream",
     "text": [
      "list of even number is [4, 64]\n",
      "list of odd number is [3, 73, 45, 5, 33, 5]\n"
     ]
    }
   ],
   "source": [
    "# even and odd numbers\n",
    "lst=[3,4,73,45,5,64,33,5]\n",
    "even=[]\n",
    "odd=[]\n",
    "\n",
    "for i in lst:\n",
    "    if i%2==0:\n",
    "        even.append(i)\n",
    "    else:\n",
    "        odd.append(i)\n",
    "        \n",
    "print('list of even number is',even)\n",
    "print('list of odd number is',odd)\n",
    "\n",
    "    \n",
    "    "
   ]
  },
  {
   "cell_type": "code",
   "execution_count": 6,
   "id": "2c4aa0d7",
   "metadata": {},
   "outputs": [
    {
     "name": "stdout",
     "output_type": "stream",
     "text": [
      "given number is amstrong number\n"
     ]
    }
   ],
   "source": [
    "# Amstrong number means suppose we taken 153 so length of 153 is 3 so that 3 will be power  of every value like 1**3,5**3,3**3\n",
    "# and we do addition of it and that addition will  be 153 so we can say its armstrong number.\n",
    "\n",
    "# check number is a amstrong or not \n",
    "num=153\n",
    "j=num\n",
    "num1=len(str(num))\n",
    "sum1=0\n",
    "for i in range(num1):\n",
    "    dig=num%10\n",
    "    sum1+=dig**num1\n",
    "    num//=10\n",
    "if j==sum1:\n",
    "    print('given number is amstrong number')\n",
    "else:\n",
    "    print('given number is not amstrong number')"
   ]
  },
  {
   "cell_type": "code",
   "execution_count": 10,
   "id": "823b618d",
   "metadata": {},
   "outputs": [
    {
     "name": "stdout",
     "output_type": "stream",
     "text": [
      "given number is not palindrome\n"
     ]
    }
   ],
   "source": [
    "# palindrome number is that number if we read that number at left to right or right to left it will come same output like 121.\n",
    "\n",
    "# python program to check the given number is a palindrome or not by using iterative method\n",
    "\n",
    "num=121\n",
    "reverse,temp=0,num\n",
    "for i in range(len(str(num))):\n",
    "    reverse=reverse*10+num%10\n",
    "    num//10\n",
    "if reverse==num:\n",
    "    print('given number is palindrome')\n",
    "else:\n",
    "    print(f'given number is not palindrome')"
   ]
  },
  {
   "cell_type": "code",
   "execution_count": 6,
   "id": "d8594686",
   "metadata": {},
   "outputs": [
    {
     "data": {
      "text/plain": [
       "12"
      ]
     },
     "execution_count": 6,
     "metadata": {},
     "output_type": "execute_result"
    }
   ],
   "source": [
    "121//10"
   ]
  },
  {
   "cell_type": "code",
   "execution_count": 7,
   "id": "3d9f4c0c",
   "metadata": {},
   "outputs": [
    {
     "data": {
      "text/plain": [
       "1"
      ]
     },
     "execution_count": 7,
     "metadata": {},
     "output_type": "execute_result"
    }
   ],
   "source": [
    "121%10"
   ]
  },
  {
   "cell_type": "code",
   "execution_count": 33,
   "id": "b4a5d272",
   "metadata": {},
   "outputs": [
    {
     "data": {
      "text/plain": [
       "True"
      ]
     },
     "execution_count": 33,
     "metadata": {},
     "output_type": "execute_result"
    }
   ],
   "source": [
    "# if we have 2 strings and if those 2 strings after sorted those string output comes same then it will b anagram it means same\n",
    "# characters should be in those 2 strings.\n",
    "\n",
    "# python code for to check anagram\n",
    "\n",
    "a1='python'\n",
    "a2='nothyp'\n",
    "def check_anagram(a1,a2):\n",
    "    if (sorted(a1))==sorted(a2):\n",
    "        return True\n",
    "    else:\n",
    "        return False\n",
    "check_anagram(a1,a2)   "
   ]
  },
  {
   "cell_type": "code",
   "execution_count": 51,
   "id": "a41a8b76",
   "metadata": {},
   "outputs": [
    {
     "name": "stdout",
     "output_type": "stream",
     "text": [
      "['ISRO Chandrayaan 3', 'Chandrayaan 3 Moon', '3 Moon Landing', 'Moon Landing Live', 'Landing Live Updates:', 'Live Updates: Isro’s', 'Updates: Isro’s third', 'Isro’s third lunar', 'third lunar mission', 'lunar mission Chandrayaan-3', 'mission Chandrayaan-3 made', 'Chandrayaan-3 made a', 'made a soft-landing', 'a soft-landing on', 'soft-landing on the', 'on the Moon', 'the Moon on', 'Moon on Wednesday.', 'on Wednesday. With', 'Wednesday. With this,', 'With this, India', 'this, India joined', 'India joined the', 'joined the short', 'the short list', 'short list of', 'list of countries', 'of countries in', 'countries in the', 'in the world', 'the world to', 'world to land', 'to land a', 'land a rover', 'a rover on', 'rover on the', 'on the Moon.']\n",
      "\n",
      "***********************************\n",
      "\n",
      "trigram string is >>  ISRO Chandrayaan 3Chandrayaan 3 Moon3 Moon LandingMoon Landing LiveLanding Live Updates:Live Updates: Isro’sUpdates: Isro’s thirdIsro’s third lunarthird lunar missionlunar mission Chandrayaan-3mission Chandrayaan-3 madeChandrayaan-3 made amade a soft-landinga soft-landing onsoft-landing on theon the Moonthe Moon onMoon on Wednesday.on Wednesday. WithWednesday. With this,With this, Indiathis, India joinedIndia joined thejoined the shortthe short listshort list oflist of countriesof countries incountries in thein the worldthe world toworld to landto land aland a rovera rover onrover on theon the Moon.\n"
     ]
    }
   ],
   "source": [
    "# python program for trigram\n",
    "str1=\"\"\"ISRO Chandrayaan 3 Moon Landing Live Updates: Isro’s third lunar mission \n",
    "Chandrayaan-3 made a soft-landing on the Moon on Wednesday. With this, \n",
    "India joined the short list of countries in the world to \n",
    "land a rover on the Moon.\"\"\"\n",
    "a=str1.split()\n",
    "b=[]\n",
    "for i in range(len(a)):\n",
    "    if len(a)>=3:\n",
    "        b.append(' '.join(a[:3]))\n",
    "        a.pop(0)\n",
    "print(b)\n",
    "print()\n",
    "print('***********************************')\n",
    "print()\n",
    "c=''\n",
    "for j in b:\n",
    "    c+=j\n",
    "print('trigram string is >> ',c)\n",
    "       "
   ]
  },
  {
   "cell_type": "code",
   "execution_count": null,
   "id": "a87ba94f",
   "metadata": {},
   "outputs": [],
   "source": []
  }
 ],
 "metadata": {
  "kernelspec": {
   "display_name": "Python 3 (ipykernel)",
   "language": "python",
   "name": "python3"
  },
  "language_info": {
   "codemirror_mode": {
    "name": "ipython",
    "version": 3
   },
   "file_extension": ".py",
   "mimetype": "text/x-python",
   "name": "python",
   "nbconvert_exporter": "python",
   "pygments_lexer": "ipython3",
   "version": "3.9.12"
  }
 },
 "nbformat": 4,
 "nbformat_minor": 5
}
