{
 "cells": [
  {
   "cell_type": "code",
   "execution_count": 1,
   "id": "5f3f9e9a-c935-4f4e-b692-48875dbfdefe",
   "metadata": {},
   "outputs": [
    {
     "name": "stdout",
     "output_type": "stream",
     "text": [
      "[1, 12]\n"
     ]
    }
   ],
   "source": [
    "# find given sum from the list of numbers (pair)\n",
    "# lst=[2,4,6,18,7,19,21]\n",
    "# sum=13\n",
    "\n",
    "lst=[2,3,10,12,1,19,21]\n",
    "target=13\n",
    "b=sorted(lst)   # [2,4,6,7,18,19,21]  # 2+21>target  remove (large value) \n",
    "                                      # 2+21<target  remove (small value)\n",
    "for i in range(len(b)+1):\n",
    "    if (b[0]+b[-1])>target:\n",
    "        b.remove(b[-1])\n",
    "    if (b[0]+b[-1])<target:\n",
    "        b.remove(b[0])\n",
    "    if (b[0]+b[-1])==target:\n",
    "        print([b[0],b[-1]])\n",
    "        break\n",
    "    "
   ]
  },
  {
   "cell_type": "code",
   "execution_count": 12,
   "id": "668350f4",
   "metadata": {},
   "outputs": [
    {
     "name": "stdout",
     "output_type": "stream",
     "text": [
      "3 10\n"
     ]
    }
   ],
   "source": [
    "lst = [2, 3, 10, 12, 1, 19, 21]\n",
    "target = 13\n",
    "found = False  # Flag to track if a pair is found\n",
    "\n",
    "for i in lst:\n",
    "    for j in lst:\n",
    "        if j >= i and i + j == target:\n",
    "            print(i, j)\n",
    "            found = True\n",
    "            break  # Exit the inner loop\n",
    "    if found:\n",
    "        break  # Exit the outer loop if a pair is found\n"
   ]
  },
  {
   "cell_type": "code",
   "execution_count": 10,
   "id": "4674152d-b42f-4d5d-a7d7-e01305cfd1f7",
   "metadata": {},
   "outputs": [
    {
     "name": "stdout",
     "output_type": "stream",
     "text": [
      "[-2, -1, 2, 3, 5]\n",
      "length of subarray :  5\n"
     ]
    }
   ],
   "source": [
    "#given a list of integer , find largest subarray with fixed sum\n",
    "nums=[5,8,-4,-2,6,-1,3,2]\n",
    "target=7\n",
    "b=sorted(nums)\n",
    "for i in range(len(b)):\n",
    "    total_sum=sum(b)\n",
    "    if total_sum>target:\n",
    "        b.remove(b[-1])\n",
    "    if total_sum<target:\n",
    "        b.remove(b[0])\n",
    "    if total_sum==target:\n",
    "        print(b)\n",
    "        print(\"length of subarray : \",len(b))\n",
    "        break"
   ]
  },
  {
   "cell_type": "code",
   "execution_count": 11,
   "id": "853c7959-f890-4cf1-92fe-536000501af7",
   "metadata": {},
   "outputs": [
    {
     "name": "stdout",
     "output_type": "stream",
     "text": [
      "[0, 4, 10, 15, 23]\n"
     ]
    }
   ],
   "source": [
    "# sort the given list\n",
    "lst=[10,15,4,23,0]\n",
    "for i in range(len(lst)):\n",
    "    for j in range(len(lst)-i-1):\n",
    "        if lst[j]>lst[j+1]:\n",
    "            lst[j],lst[j+1]=lst[j+1],lst[j]\n",
    "print(lst)"
   ]
  },
  {
   "cell_type": "code",
   "execution_count": 13,
   "id": "3bea1099",
   "metadata": {},
   "outputs": [
    {
     "name": "stdout",
     "output_type": "stream",
     "text": [
      "0 10\n",
      "1 15\n",
      "2 4\n",
      "3 23\n",
      "4 0\n"
     ]
    }
   ],
   "source": [
    "# number with its index and value without e numerate function\n",
    "lst=[10,15,4,23,0]\n",
    "for i in range(len(lst)):\n",
    "    print(i,end=' ')\n",
    "    print(lst[i])"
   ]
  },
  {
   "cell_type": "code",
   "execution_count": 14,
   "id": "7c46a5bf",
   "metadata": {},
   "outputs": [
    {
     "name": "stdout",
     "output_type": "stream",
     "text": [
      "0 10\n",
      "1 15\n",
      "2 4\n",
      "3 23\n",
      "4 0\n"
     ]
    }
   ],
   "source": [
    "# number with its index and value with e numerate function\n",
    "for index,value in enumerate(lst):\n",
    "    print(index,value)"
   ]
  },
  {
   "cell_type": "code",
   "execution_count": 12,
   "id": "dfae93e4-ef40-49cc-bca3-c7f059e0c9ac",
   "metadata": {},
   "outputs": [],
   "source": [
    "# Dictionary"
   ]
  },
  {
   "cell_type": "code",
   "execution_count": 13,
   "id": "740221d2-80ab-4585-9e06-9fe93ba6967f",
   "metadata": {},
   "outputs": [],
   "source": [
    "# It contains key value pair\n",
    "# it enclosed with curlybracates\n",
    "# mutable and key should be unique \n",
    "# values may be duplicated\n",
    "# key data type should be imutable"
   ]
  },
  {
   "cell_type": "code",
   "execution_count": 14,
   "id": "46763de5-e31b-4c5d-b603-a8de617d7a59",
   "metadata": {},
   "outputs": [],
   "source": [
    "# define dictionary\n",
    "dic={}\n",
    "# syntax\n",
    "dic={\"key\":\"value\"}"
   ]
  },
  {
   "cell_type": "code",
   "execution_count": 15,
   "id": "30725884-2902-4422-970a-c2ea92e992c2",
   "metadata": {},
   "outputs": [
    {
     "data": {
      "text/plain": [
       "{'name': 'rohit', 'game': 'cricket', 'age': 37}"
      ]
     },
     "execution_count": 15,
     "metadata": {},
     "output_type": "execute_result"
    }
   ],
   "source": [
    "# create dictionry\n",
    "dic={\"name\":\"rohit\",\"game\":\"cricket\",\"age\":37}\n",
    "dic"
   ]
  },
  {
   "cell_type": "code",
   "execution_count": 16,
   "id": "e5b37dd8-05fb-4e20-bae3-b9f49a3d74eb",
   "metadata": {},
   "outputs": [
    {
     "data": {
      "text/plain": [
       "'rohit'"
      ]
     },
     "execution_count": 16,
     "metadata": {},
     "output_type": "execute_result"
    }
   ],
   "source": [
    "# access dictionry items\n",
    "dic[\"name\"]"
   ]
  },
  {
   "cell_type": "code",
   "execution_count": 17,
   "id": "31ad7558-0b45-4f3d-996f-56f70ed8aca9",
   "metadata": {},
   "outputs": [
    {
     "data": {
      "text/plain": [
       "{'name': 'Rohit', 'game': 'cricket', 'age': 37}"
      ]
     },
     "execution_count": 17,
     "metadata": {},
     "output_type": "execute_result"
    }
   ],
   "source": [
    "# update dictionary\n",
    "dic[\"name\"]=\"Rohit\"\n",
    "dic"
   ]
  },
  {
   "cell_type": "code",
   "execution_count": 18,
   "id": "4c6c96b8-ff2a-4740-9c19-e6a17e773caa",
   "metadata": {},
   "outputs": [
    {
     "data": {
      "text/plain": [
       "{'name': 'Rohit', 'game': 'cricket', 'age': 37, 'Country': 'India'}"
      ]
     },
     "execution_count": 18,
     "metadata": {},
     "output_type": "execute_result"
    }
   ],
   "source": [
    "# add key value pair in dictionry\n",
    "dic[\"Country\"]=\"India\"\n",
    "dic"
   ]
  },
  {
   "cell_type": "code",
   "execution_count": 20,
   "id": "311cca16-2ea0-414e-96fe-f83d17cf6edd",
   "metadata": {},
   "outputs": [
    {
     "data": {
      "text/plain": [
       "'Rohit'"
      ]
     },
     "execution_count": 20,
     "metadata": {},
     "output_type": "execute_result"
    }
   ],
   "source": [
    "# using get function we can access value from dictionary\n",
    "dic.get(\"name\")"
   ]
  },
  {
   "cell_type": "code",
   "execution_count": 21,
   "id": "eaa3b399-ec4e-4a0f-982a-ee241618051b",
   "metadata": {},
   "outputs": [
    {
     "name": "stdout",
     "output_type": "stream",
     "text": [
      "name ======> Rohit\n",
      "game ======> cricket\n",
      "age ======> 37\n",
      "Country ======> India\n"
     ]
    }
   ],
   "source": [
    "# access key and value from dictionary\n",
    "for key,values in dic.items():\n",
    "    print(key,\"======>\",values)"
   ]
  },
  {
   "cell_type": "code",
   "execution_count": 23,
   "id": "2036a461-7361-432e-bf5f-d01da7d6b3e6",
   "metadata": {},
   "outputs": [
    {
     "name": "stdout",
     "output_type": "stream",
     "text": [
      "{'name': 'Rohit', 'game': 'cricket', 'age': 37, 'Country': 'India'}\n",
      "{'salary': 27000}\n",
      "updated dictionary :  {'name': 'Rohit', 'game': 'cricket', 'age': 37, 'Country': 'India', 'salary': 27000}\n"
     ]
    }
   ],
   "source": [
    "# update dictionary\n",
    "print(dic)\n",
    "dic1={\"salary\":27000}\n",
    "print(dic1)\n",
    "dic.update(dic1)\n",
    "print(\"updated dictionary : \",dic)"
   ]
  },
  {
   "cell_type": "code",
   "execution_count": 24,
   "id": "41e1c027-d6a0-45d5-b58a-616f43008e6b",
   "metadata": {},
   "outputs": [
    {
     "name": "stdout",
     "output_type": "stream",
     "text": [
      "{2: 4, 3: 9, 4: 16, 5: 25}\n"
     ]
    }
   ],
   "source": [
    "lst=[2,3,4,5]\n",
    "dic={}\n",
    "for i in lst:\n",
    "    dic.update({i:i*i})\n",
    "print(dic)"
   ]
  },
  {
   "cell_type": "code",
   "execution_count": 25,
   "id": "a3a49e57-999a-46d3-997a-995ef258aa1d",
   "metadata": {},
   "outputs": [
    {
     "name": "stdout",
     "output_type": "stream",
     "text": [
      "{2: 4, 3: 9, 4: 16, 5: 25}\n"
     ]
    }
   ],
   "source": [
    "lst=[2,3,4,5]\n",
    "lst1=[4,9,16,25]\n",
    "dic={}\n",
    "for index,key in enumerate(lst):\n",
    "    dic[key]=lst1[index]\n",
    "print(dic)"
   ]
  },
  {
   "cell_type": "code",
   "execution_count": 26,
   "id": "a90f7d61-a895-49fc-a075-4d409551bab5",
   "metadata": {},
   "outputs": [
    {
     "data": {
      "text/plain": [
       "{2: 4, 3: 9, 4: 16, 5: 25}"
      ]
     },
     "execution_count": 26,
     "metadata": {},
     "output_type": "execute_result"
    }
   ],
   "source": [
    "lst=[2,3,4,5]\n",
    "lst1=[4,9,16,25]\n",
    "dict(zip(lst,lst1))"
   ]
  },
  {
   "cell_type": "code",
   "execution_count": 27,
   "id": "3fbafe59-4ddf-4d1b-a4da-9c7215f6baac",
   "metadata": {},
   "outputs": [],
   "source": [
    "dic={'name': 'Rohit', 'game': 'cricket', 'age': 37, 'Country': 'India', 'salary': 27000}"
   ]
  },
  {
   "cell_type": "code",
   "execution_count": 28,
   "id": "6589d984-95ef-4336-afe2-86798f558923",
   "metadata": {},
   "outputs": [
    {
     "data": {
      "text/plain": [
       "{'name': 'Rohit',\n",
       " 'game': 'cricket',\n",
       " 'age': 37,\n",
       " 'Country': 'India',\n",
       " 'salary': 27000}"
      ]
     },
     "execution_count": 28,
     "metadata": {},
     "output_type": "execute_result"
    }
   ],
   "source": [
    "dic"
   ]
  },
  {
   "cell_type": "code",
   "execution_count": 29,
   "id": "d009d8e9-8b3f-480b-bc5c-784ac5e64631",
   "metadata": {},
   "outputs": [
    {
     "data": {
      "text/plain": [
       "{'name': 'Rohit', 'game': 'cricket', 'age': 37, 'Country': 'India'}"
      ]
     },
     "execution_count": 29,
     "metadata": {},
     "output_type": "execute_result"
    }
   ],
   "source": [
    "# by using pop function\n",
    "dic.pop(\"salary\")\n",
    "dic"
   ]
  },
  {
   "cell_type": "code",
   "execution_count": 30,
   "id": "4e85f81e-edfc-4770-954f-737fd0136dfe",
   "metadata": {},
   "outputs": [
    {
     "data": {
      "text/plain": [
       "('Country', 'India')"
      ]
     },
     "execution_count": 30,
     "metadata": {},
     "output_type": "execute_result"
    }
   ],
   "source": [
    "dic.popitem()\n"
   ]
  },
  {
   "cell_type": "code",
   "execution_count": 31,
   "id": "08086556-2d5a-4e13-a828-588938e354bd",
   "metadata": {},
   "outputs": [
    {
     "data": {
      "text/plain": [
       "{'name': 'Rohit', 'game': 'cricket', 'age': 37}"
      ]
     },
     "execution_count": 31,
     "metadata": {},
     "output_type": "execute_result"
    }
   ],
   "source": [
    "dic"
   ]
  },
  {
   "cell_type": "code",
   "execution_count": 32,
   "id": "de049e22-574f-404d-b413-a0abacf5b91c",
   "metadata": {},
   "outputs": [],
   "source": [
    "dic.clear()"
   ]
  },
  {
   "cell_type": "code",
   "execution_count": 33,
   "id": "f0e72a97-cc3b-434a-8234-c50370a29659",
   "metadata": {},
   "outputs": [
    {
     "data": {
      "text/plain": [
       "{}"
      ]
     },
     "execution_count": 33,
     "metadata": {},
     "output_type": "execute_result"
    }
   ],
   "source": [
    "dic"
   ]
  },
  {
   "cell_type": "code",
   "execution_count": 34,
   "id": "b447a4eb-38f1-4fb8-8545-a2cadf90700d",
   "metadata": {},
   "outputs": [],
   "source": [
    "del dic"
   ]
  },
  {
   "cell_type": "code",
   "execution_count": 35,
   "id": "429db99f-c4be-4431-8ea7-126eade0b84b",
   "metadata": {},
   "outputs": [
    {
     "ename": "NameError",
     "evalue": "name 'dic' is not defined",
     "output_type": "error",
     "traceback": [
      "\u001b[1;31m---------------------------------------------------------------------------\u001b[0m",
      "\u001b[1;31mNameError\u001b[0m                                 Traceback (most recent call last)",
      "Input \u001b[1;32mIn [35]\u001b[0m, in \u001b[0;36m<cell line: 1>\u001b[1;34m()\u001b[0m\n\u001b[1;32m----> 1\u001b[0m \u001b[43mdic\u001b[49m\n",
      "\u001b[1;31mNameError\u001b[0m: name 'dic' is not defined"
     ]
    }
   ],
   "source": [
    "dic"
   ]
  },
  {
   "cell_type": "code",
   "execution_count": 36,
   "id": "b283c882-d0ab-4151-968b-2397f41a96c5",
   "metadata": {},
   "outputs": [],
   "source": [
    "dic={'name': 'Rohit', 'game': 'cricket', 'age': 37, 'Country': 'India', 'salary': 27000}"
   ]
  },
  {
   "cell_type": "code",
   "execution_count": 37,
   "id": "7ab2c17c-df1f-40dc-947c-b69af13e9d19",
   "metadata": {},
   "outputs": [
    {
     "data": {
      "text/plain": [
       "{'name': 'Rohit',\n",
       " 'game': 'cricket',\n",
       " 'age': 37,\n",
       " 'Country': 'India',\n",
       " 'salary': 27000}"
      ]
     },
     "execution_count": 37,
     "metadata": {},
     "output_type": "execute_result"
    }
   ],
   "source": [
    "dic"
   ]
  },
  {
   "cell_type": "code",
   "execution_count": 15,
   "id": "262024e4-e5f5-4839-bc28-130545bab2e2",
   "metadata": {},
   "outputs": [
    {
     "name": "stdout",
     "output_type": "stream",
     "text": [
      "['f', 'i', 'n', 'd', ' ', 'o', 'c', 'c', 'u', 'r', 'a', 'n', 'c', 'e', ' ', 'o', 'f', ' ', 'e', 'a', 'c', 'h', ' ', 'a', 'l', 'p', 'h', 'a', 'b', 'e', 't', ' ', 'i', 'n', ' ', 's', 't', 'r', 'i', 'n', 'g']\n",
      "{'f': 2, 'i': 3, 'n': 4, 'd': 1, ' ': 6, 'o': 2, 'c': 4, 'u': 1, 'r': 2, 'a': 4, 'e': 3, 'h': 2, 'l': 1, 'p': 1, 'b': 1, 't': 2, 's': 1, 'g': 1}\n"
     ]
    }
   ],
   "source": [
    "# find occurance of each alphabet in string\n",
    "str1=\"find occurance of each alphabet in string\"\n",
    "lst=list(str1)\n",
    "print(lst)\n",
    "dic={}\n",
    "for i in lst:\n",
    "    dic[i]=lst.count(i)\n",
    "print(dic)"
   ]
  },
  {
   "cell_type": "code",
   "execution_count": 42,
   "id": "266e334d-9443-4112-8c89-88e0ed56fda0",
   "metadata": {},
   "outputs": [
    {
     "name": "stdout",
     "output_type": "stream",
     "text": [
      "{'f': 2, 'i': 3, 'n': 4, 'd': 1, 'o': 2, 'c': 4, 'u': 1, 'r': 2, 'a': 4, 'e': 3, 'h': 2, 'l': 1, 'p': 1, 'b': 1, 't': 2, 's': 1, 'g': 1}\n"
     ]
    }
   ],
   "source": [
    "# find occurance of each alphabet in string\n",
    "str1=\"find occurance of each $%$ 566273 alphabet in string\"\n",
    "lst=list(str1)\n",
    "# print(lst)\n",
    "dic={}\n",
    "for i in lst:\n",
    "    if i.isalpha()==True:\n",
    "        dic[i]=lst.count(i)\n",
    "print(dic)"
   ]
  },
  {
   "cell_type": "code",
   "execution_count": 43,
   "id": "9467ed77-bec8-4624-a1d2-08d8a1aa6b17",
   "metadata": {},
   "outputs": [
    {
     "data": {
      "text/plain": [
       "{2: 8, 3: 27, 4: 64, 5: 125}"
      ]
     },
     "execution_count": 43,
     "metadata": {},
     "output_type": "execute_result"
    }
   ],
   "source": [
    "lst=[2,3,4,5]\n",
    "cube={i:i**3 for i in lst}\n",
    "cube"
   ]
  },
  {
   "cell_type": "code",
   "execution_count": 44,
   "id": "9c25c03b-a5bc-4804-aaca-ddd677dfad09",
   "metadata": {},
   "outputs": [
    {
     "name": "stdout",
     "output_type": "stream",
     "text": [
      "{2: 8, 3: 27, 4: 64, 5: 125}\n"
     ]
    }
   ],
   "source": [
    "lst=[2,3,4,5]\n",
    "cube={}\n",
    "for i in lst:\n",
    "    cube.update({i:i**3})\n",
    "print(cube)"
   ]
  },
  {
   "cell_type": "code",
   "execution_count": 45,
   "id": "00423089-1813-4e48-b3ce-26707469b06c",
   "metadata": {},
   "outputs": [
    {
     "data": {
      "text/plain": [
       "{2: 8, 4: 64}"
      ]
     },
     "execution_count": 45,
     "metadata": {},
     "output_type": "execute_result"
    }
   ],
   "source": [
    "lst=[2,3,4,5]\n",
    "cube={i:i**3 for i in lst if i%2==0}\n",
    "cube"
   ]
  },
  {
   "cell_type": "code",
   "execution_count": 51,
   "id": "d69c267d-3d48-4191-82ed-029fed540184",
   "metadata": {},
   "outputs": [
    {
     "name": "stdout",
     "output_type": "stream",
     "text": [
      "qart\n"
     ]
    }
   ],
   "source": [
    "# longest substring without repeating alphabet\n",
    "def longest_substring(s):\n",
    "    s1=\"\"\n",
    "    for i in s:\n",
    "        if i not in s1:\n",
    "            s1+=i\n",
    "    print(s1)\n",
    "            \n",
    "            \n",
    "s=\"qaart\"\n",
    "longest_substring(s)"
   ]
  },
  {
   "cell_type": "code",
   "execution_count": 48,
   "id": "4d4026da-9f23-4b7e-96ff-277be492efa2",
   "metadata": {},
   "outputs": [
    {
     "name": "stdin",
     "output_type": "stream",
     "text": [
      "enter the company name :  Kia\n"
     ]
    },
    {
     "name": "stdout",
     "output_type": "stream",
     "text": [
      "Kia is not found in database.\n"
     ]
    }
   ],
   "source": [
    "sales_data={\"Tata\":{\"jan\":100,\n",
    "                   \"feb\":150,\n",
    "                   \"mar\":265},\n",
    "            \"Mahindra\":{\"jan\":200,\n",
    "                   \"feb\":50,\n",
    "                   \"mar\":234},\n",
    "            \"Scoda\":{\"jan\":60,\n",
    "                   \"feb\":130,\n",
    "                   \"mar\":165}}\n",
    "def calculate_total_sales(company):\n",
    "    if company in sales_data:\n",
    "        total_sales=sum(sales_data[company].values())\n",
    "        print(f\"Total sales of {company} : {total_sales}\")\n",
    "    else:\n",
    "        print(f\"{company} is not found in database.\")\n",
    "        \n",
    "def main():\n",
    "    company=input(\"enter the company name : \")\n",
    "    calculate_total_sales(company)\n",
    "    \n",
    "if __name__==\"__main__\":\n",
    "    main()"
   ]
  },
  {
   "cell_type": "code",
   "execution_count": null,
   "id": "9f1f535e-f6bc-44f7-a767-22478296347d",
   "metadata": {},
   "outputs": [],
   "source": []
  }
 ],
 "metadata": {
  "kernelspec": {
   "display_name": "Python 3 (ipykernel)",
   "language": "python",
   "name": "python3"
  },
  "language_info": {
   "codemirror_mode": {
    "name": "ipython",
    "version": 3
   },
   "file_extension": ".py",
   "mimetype": "text/x-python",
   "name": "python",
   "nbconvert_exporter": "python",
   "pygments_lexer": "ipython3",
   "version": "3.9.12"
  }
 },
 "nbformat": 4,
 "nbformat_minor": 5
}
