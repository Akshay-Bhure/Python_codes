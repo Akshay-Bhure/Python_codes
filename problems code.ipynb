{
 "cells": [
  {
   "cell_type": "code",
   "execution_count": 1,
   "id": "ccba5e89-08c4-420e-8c46-52de7a13f268",
   "metadata": {},
   "outputs": [
    {
     "name": "stdin",
     "output_type": "stream",
     "text": [
      "enter string :  data science\n"
     ]
    },
    {
     "name": "stdout",
     "output_type": "stream",
     "text": [
      "string after removing the vowels :  dt scnc\n"
     ]
    }
   ],
   "source": [
    "# python program to remove vowels from the string \n",
    "# taking the input string from the user.\n",
    "string=input(\"enter string : \")\n",
    "result=\"\"\n",
    "for i in string:\n",
    "    if i in (\"a\",\"e\",\"i\",\"o\",\"u\"):\n",
    "        i=\"\"\n",
    "    result+=i\n",
    "print(\"string after removing the vowels : \",result)"
   ]
  },
  {
   "cell_type": "code",
   "execution_count": 2,
   "id": "698cae07",
   "metadata": {},
   "outputs": [
    {
     "name": "stdout",
     "output_type": "stream",
     "text": [
      "Enter your stringdata science\n",
      "dt scnc\n"
     ]
    }
   ],
   "source": [
    "# python program to remove vowels from the string \n",
    "# taking the input string from the user.\n",
    "\n",
    "s=input('Enter your string')\n",
    "s1=''\n",
    "for i in s:\n",
    "    if i not in 'aeiou':\n",
    "        s1+=i\n",
    "print(s1)"
   ]
  },
  {
   "cell_type": "code",
   "execution_count": 2,
   "id": "40fa4a4a-fb84-413c-8eeb-2dedd9e51178",
   "metadata": {},
   "outputs": [
    {
     "name": "stdin",
     "output_type": "stream",
     "text": [
      "enter string :  data science\n"
     ]
    },
    {
     "name": "stdout",
     "output_type": "stream",
     "text": [
      "d$t$ sc$$nc$\n"
     ]
    }
   ],
   "source": [
    "# python program to replace vowels with special char ($)\n",
    "string=input(\"enter string : \")\n",
    "vowels=list(\"aeiou\")\n",
    "result=\"\"\n",
    "for i in string:\n",
    "    if i in vowels:\n",
    "        i=\"$\"\n",
    "    result+=i\n",
    "print(result)"
   ]
  },
  {
   "cell_type": "code",
   "execution_count": 4,
   "id": "dd026754-18d0-4e36-b8e7-65b5293205de",
   "metadata": {},
   "outputs": [
    {
     "name": "stdin",
     "output_type": "stream",
     "text": [
      "enter string :  data science$%&\n"
     ]
    },
    {
     "name": "stdout",
     "output_type": "stream",
     "text": [
      "vowels :  5 consonents :  6\n"
     ]
    }
   ],
   "source": [
    "# python program to count vowels and consonent in string\n",
    "# taking input from the user\n",
    "string=input(\"enter string : \")\n",
    "vowels=0\n",
    "consonent=0\n",
    "for i in string:\n",
    "    if i in list(\"aeiou\"):\n",
    "        vowels+=1\n",
    "    elif i.isalpha():\n",
    "        consonent+=1\n",
    "print(\"vowels : \",vowels,\"consonents : \",consonent)"
   ]
  },
  {
   "cell_type": "code",
   "execution_count": 4,
   "id": "41598e14",
   "metadata": {},
   "outputs": [
    {
     "name": "stdout",
     "output_type": "stream",
     "text": [
      "Please put string :data science\n",
      "removed characters are ['d', 'a', 't', ' ', 's', 'c', 'i', 'e', 'n']\n",
      "string after removed dat scien\n"
     ]
    }
   ],
   "source": [
    "# python program to remove repeated characters from the string by using list\n",
    "str1=input('Please put string :')\n",
    "lst1=[]\n",
    "str2=''\n",
    "for char in str1:\n",
    "    if char not in lst1:\n",
    "        lst1.append(char)\n",
    "        str2+=char\n",
    "print('removed characters are',lst1)\n",
    "print('string after removed',str2)"
   ]
  },
  {
   "cell_type": "code",
   "execution_count": 6,
   "id": "05fd4bb0",
   "metadata": {},
   "outputs": [
    {
     "name": "stdout",
     "output_type": "stream",
     "text": [
      "Please put string :data science\n",
      "removed characters are ['d', 'a', 't', ' ', 's', 'c', 'i', 'e', 'n']\n",
      "string after removed dat scien\n"
     ]
    }
   ],
   "source": [
    "# python program to remove repeated characters from the string by using list\n",
    "str1=input('Please put string :')\n",
    "lst1=[]\n",
    "str2=''\n",
    "for char in str1:\n",
    "    if char not in lst1:\n",
    "        lst1.append(char)\n",
    "        str2=''.join(lst1)\n",
    "print('removed characters are',lst1)\n",
    "print('string after removed',str2)"
   ]
  },
  {
   "cell_type": "code",
   "execution_count": 3,
   "id": "1207b8a0-ae78-4cd2-8484-f8478473193a",
   "metadata": {},
   "outputs": [
    {
     "name": "stdout",
     "output_type": "stream",
     "text": [
      "enter string : data science\n",
      "dat scien\n"
     ]
    }
   ],
   "source": [
    "# python program to remove repeated characters from the string by using list\n",
    "string=input(\"enter string : \")\n",
    "unique_char=[]\n",
    "for char in string:\n",
    "    if char not in unique_char:\n",
    "        unique_char.append(char)\n",
    "a=\"\".join(unique_char)\n",
    "print(a)"
   ]
  },
  {
   "cell_type": "code",
   "execution_count": 5,
   "id": "15aa42b6",
   "metadata": {},
   "outputs": [
    {
     "name": "stdout",
     "output_type": "stream",
     "text": [
      "Please put string :data science\n",
      "removed characters are {'s', ' ', 'n', 't', 'a', 'd', 'c', 'e', 'i'}\n",
      "string after removed dat scien\n"
     ]
    }
   ],
   "source": [
    "# python program to remove repeated characters from the string by using set\n",
    "str1=input('Please put string :')\n",
    "set1=set()\n",
    "str2=''\n",
    "for char in str1:\n",
    "    if char not in set1:\n",
    "        set1.add(char)\n",
    "        str2+=char\n",
    "print('removed characters are',set1)\n",
    "print('string after removed',str2)"
   ]
  },
  {
   "cell_type": "code",
   "execution_count": 8,
   "id": "5adc04a7",
   "metadata": {},
   "outputs": [
    {
     "name": "stdout",
     "output_type": "stream",
     "text": [
      "Enter your string :madam\n",
      "it is palindrome  madam\n"
     ]
    }
   ],
   "source": [
    "# check string is a palendrome or not\n",
    "str1=input('Enter your string :')\n",
    "s=str1.lower()\n",
    "for i in str1:\n",
    "    if s==s[::-1]:\n",
    "        print('it is palindrome ',s)\n",
    "        break\n",
    "    else:\n",
    "        print('it is not a palindrome ',s)\n",
    "        break"
   ]
  },
  {
   "cell_type": "code",
   "execution_count": 9,
   "id": "fb0220bf",
   "metadata": {},
   "outputs": [
    {
     "name": "stdout",
     "output_type": "stream",
     "text": [
      "Enter your string :madam\n",
      "True\n"
     ]
    }
   ],
   "source": [
    "# check string is a palendrome or not and give output as true or false\n",
    "str1=input('Enter your string :')\n",
    "s=str1.lower()\n",
    "for i in str1:\n",
    "    if i.isalnum():\n",
    "        print(s==s[::-1])\n",
    "        break\n",
    "        \n",
    "        "
   ]
  },
  {
   "cell_type": "code",
   "execution_count": 55,
   "id": "25d005e5-6249-4184-9479-5cdca216beb8",
   "metadata": {},
   "outputs": [
    {
     "name": "stdin",
     "output_type": "stream",
     "text": [
      "enter string :  rohit\n"
     ]
    },
    {
     "name": "stdout",
     "output_type": "stream",
     "text": [
      "tihor\n"
     ]
    }
   ],
   "source": [
    "# python program to reverse the string\n",
    "string=input(\"enter string : \")\n",
    "s=\"\"\n",
    "for i in string:\n",
    "    s=i+s\n",
    "print(s)"
   ]
  },
  {
   "cell_type": "code",
   "execution_count": 56,
   "id": "b6450f12-02a4-486b-a214-0db1a8f70e3c",
   "metadata": {},
   "outputs": [
    {
     "name": "stdin",
     "output_type": "stream",
     "text": [
      "enter string :  rohit\n"
     ]
    },
    {
     "name": "stdout",
     "output_type": "stream",
     "text": [
      "tihor"
     ]
    }
   ],
   "source": [
    "string=input(\"enter string : \")\n",
    "count=-1\n",
    "for i in string:\n",
    "    print(string[count],end=\"\")\n",
    "    count-=1\n"
   ]
  },
  {
   "cell_type": "code",
   "execution_count": 58,
   "id": "77b461f3-56e3-4566-8a4c-f9e28c0eef25",
   "metadata": {},
   "outputs": [
    {
     "name": "stdout",
     "output_type": "stream",
     "text": [
      "gnirts"
     ]
    }
   ],
   "source": [
    "s='string'\n",
    "for i in range(len(s)-1,-1,-1):\n",
    "    print(s[i],end=\"\")"
   ]
  },
  {
   "cell_type": "code",
   "execution_count": 66,
   "id": "1c9c18ff-21d4-4d79-a598-9f7f2c369872",
   "metadata": {},
   "outputs": [],
   "source": [
    "# List"
   ]
  },
  {
   "cell_type": "code",
   "execution_count": 67,
   "id": "94a268d2-2a02-4bda-9e2e-263def516070",
   "metadata": {},
   "outputs": [],
   "source": [
    "# list is mutable datatype\n",
    "# slower than tuple\n",
    "# duplicate items are allowed\n",
    "# ordered datatype\n",
    "# more functional than tuple\n",
    "# list are enclosed by []\n",
    "# separeted by ,\n",
    "# required more memory\n",
    "# it allowed duplicate values\n",
    "# it can hold different datatypes data"
   ]
  },
  {
   "cell_type": "code",
   "execution_count": 68,
   "id": "367a5e81-c709-44e9-8ea3-1f1f60162312",
   "metadata": {},
   "outputs": [],
   "source": [
    "# empty list\n",
    "a=[]\n",
    "# mixed datatype\n",
    "a=[1,1.2,\"rohit\",True]\n"
   ]
  },
  {
   "cell_type": "code",
   "execution_count": 69,
   "id": "1a43035a-5790-4093-ab71-18cb54ecbf7f",
   "metadata": {},
   "outputs": [
    {
     "data": {
      "text/plain": [
       "1.2"
      ]
     },
     "execution_count": 69,
     "metadata": {},
     "output_type": "execute_result"
    }
   ],
   "source": [
    "# Indexing\n",
    "a[1]"
   ]
  },
  {
   "cell_type": "code",
   "execution_count": 70,
   "id": "3b96342f-e172-46c4-8741-5a2c717f75e0",
   "metadata": {},
   "outputs": [
    {
     "ename": "IndexError",
     "evalue": "list index out of range",
     "output_type": "error",
     "traceback": [
      "\u001b[1;31m---------------------------------------------------------------------------\u001b[0m",
      "\u001b[1;31mIndexError\u001b[0m                                Traceback (most recent call last)",
      "Input \u001b[1;32mIn [70]\u001b[0m, in \u001b[0;36m<cell line: 1>\u001b[1;34m()\u001b[0m\n\u001b[1;32m----> 1\u001b[0m \u001b[43ma\u001b[49m\u001b[43m[\u001b[49m\u001b[38;5;241;43m10\u001b[39;49m\u001b[43m]\u001b[49m\n",
      "\u001b[1;31mIndexError\u001b[0m: list index out of range"
     ]
    }
   ],
   "source": [
    "a[10]"
   ]
  },
  {
   "cell_type": "code",
   "execution_count": 71,
   "id": "4bb41ade-1017-40a0-9033-e5bfef81ec7d",
   "metadata": {},
   "outputs": [
    {
     "data": {
      "text/plain": [
       "True"
      ]
     },
     "execution_count": 71,
     "metadata": {},
     "output_type": "execute_result"
    }
   ],
   "source": [
    "a[-1]"
   ]
  },
  {
   "cell_type": "code",
   "execution_count": 72,
   "id": "db7b6c67-ba64-40ac-9496-bf73374bca58",
   "metadata": {},
   "outputs": [],
   "source": [
    "# slicing \n",
    "# [start_ibex(include): end_index(exclude):step_size]"
   ]
  },
  {
   "cell_type": "code",
   "execution_count": 73,
   "id": "c5530772-a88e-4f64-b4ad-00a3cee07b2d",
   "metadata": {},
   "outputs": [
    {
     "data": {
      "text/plain": [
       "[4, 5, 6]"
      ]
     },
     "execution_count": 73,
     "metadata": {},
     "output_type": "execute_result"
    }
   ],
   "source": [
    "lst=[2,3,4,5,6]\n",
    "lst[2:]"
   ]
  },
  {
   "cell_type": "code",
   "execution_count": 74,
   "id": "266bb829-23ed-4e22-bb4e-34b612fae1ee",
   "metadata": {},
   "outputs": [
    {
     "data": {
      "text/plain": [
       "[6, 5, 4, 3, 2]"
      ]
     },
     "execution_count": 74,
     "metadata": {},
     "output_type": "execute_result"
    }
   ],
   "source": [
    "lst[::-1]"
   ]
  },
  {
   "cell_type": "code",
   "execution_count": 76,
   "id": "71d5bc54-d5bf-46a1-b9eb-41e87320c9af",
   "metadata": {},
   "outputs": [
    {
     "data": {
      "text/plain": [
       "[4, 5, 6]"
      ]
     },
     "execution_count": 76,
     "metadata": {},
     "output_type": "execute_result"
    }
   ],
   "source": [
    "lst[-3:]"
   ]
  },
  {
   "cell_type": "code",
   "execution_count": 78,
   "id": "7f9f63a4-ee9e-4783-9848-ec492d571a49",
   "metadata": {},
   "outputs": [
    {
     "name": "stdout",
     "output_type": "stream",
     "text": [
      "2,3,4,5,6,"
     ]
    }
   ],
   "source": [
    "lst=[2,3,4,5,6]\n",
    "for i in lst:\n",
    "    print(i,end=\",\")"
   ]
  },
  {
   "cell_type": "code",
   "execution_count": 79,
   "id": "8032c37b-66ed-4f00-9149-0d6936204e04",
   "metadata": {},
   "outputs": [
    {
     "name": "stdout",
     "output_type": "stream",
     "text": [
      "ROHIT\n",
      "VIRAT\n",
      "SACHIN\n"
     ]
    }
   ],
   "source": [
    "lst=[\"rohit\",\"virat\",\"sachin\"]\n",
    "for i in lst:\n",
    "    print(i.upper())"
   ]
  },
  {
   "cell_type": "code",
   "execution_count": 80,
   "id": "ae0c2e86-ff46-49ba-ae60-9bd9094f006b",
   "metadata": {},
   "outputs": [
    {
     "name": "stdout",
     "output_type": "stream",
     "text": [
      "rohit\n",
      "virat\n",
      "sachin\n"
     ]
    }
   ],
   "source": [
    "lst=[\"rohit\",\"VIrat\",\"sachIN\"]\n",
    "for i in lst:\n",
    "    print(i.lower())"
   ]
  },
  {
   "cell_type": "code",
   "execution_count": 82,
   "id": "f0b45f2a-9aa1-4bb2-914e-de679f1ae758",
   "metadata": {},
   "outputs": [
    {
     "name": "stdout",
     "output_type": "stream",
     "text": [
      "rohit\n",
      "VIRAT\n"
     ]
    }
   ],
   "source": [
    "lst=[\"rohit\",\"VIRAT\",\"sachIN\"]\n",
    "for i in lst:\n",
    "    if i.islower() | i.isupper():\n",
    "        print(i)"
   ]
  },
  {
   "cell_type": "code",
   "execution_count": 83,
   "id": "3d8b42f0-5fbb-428a-a074-99510e4f537e",
   "metadata": {},
   "outputs": [
    {
     "name": "stdout",
     "output_type": "stream",
     "text": [
      "0 =====> rohit\n",
      "1 =====> VIRAT\n",
      "2 =====> sachIN\n"
     ]
    }
   ],
   "source": [
    "lst=[\"rohit\",\"VIRAT\",\"sachIN\"]\n",
    "for index,value in enumerate(lst):\n",
    "    print(index,\"=====>\",value)"
   ]
  },
  {
   "cell_type": "code",
   "execution_count": 13,
   "id": "ceabb470-dc3f-450c-bb0b-49c0480c1f77",
   "metadata": {},
   "outputs": [
    {
     "name": "stdout",
     "output_type": "stream",
     "text": [
      "rohit ======> 0\n",
      "VIRAT ======> 1\n",
      "sachIN ======> 2\n",
      "length of list 3\n"
     ]
    }
   ],
   "source": [
    "# find length of list by using for loop\n",
    "lst=[\"rohit\",\"VIRAT\",\"sachIN\"]\n",
    "count=0\n",
    "for i in lst:\n",
    "    print(i,\"======>\",count)\n",
    "    count+=1\n",
    "print(\"length of list\",count)"
   ]
  },
  {
   "cell_type": "code",
   "execution_count": 14,
   "id": "bbba1164",
   "metadata": {},
   "outputs": [
    {
     "name": "stdout",
     "output_type": "stream",
     "text": [
      "enter start number : 12\n",
      "enter end number : 100\n",
      "number of even numbers :  [12, 14, 16, 18, 20, 22, 24, 26, 28, 30, 32, 34, 36, 38, 40, 42, 44, 46, 48, 50, 52, 54, 56, 58, 60, 62, 64, 66, 68, 70, 72, 74, 76, 78, 80, 82, 84, 86, 88, 90, 92, 94, 96, 98]\n",
      "number of odd numbers :  [13, 15, 17, 19, 21, 23, 25, 27, 29, 31, 33, 35, 37, 39, 41, 43, 45, 47, 49, 51, 53, 55, 57, 59, 61, 63, 65, 67, 69, 71, 73, 75, 77, 79, 81, 83, 85, 87, 89, 91, 93, 95, 97, 99]\n"
     ]
    }
   ],
   "source": [
    "# find even and odd numbers by given user input\n",
    "even=[]\n",
    "odd=[]\n",
    "start=int(input(\"enter start number : \"))\n",
    "end=int(input(\"enter end number : \"))\n",
    "for i in range(start,end):\n",
    "    if i%2==0:\n",
    "        even.append(i)\n",
    "    else:\n",
    "        odd.append(i)\n",
    "print(\"number of even numbers : \",even)\n",
    "print(\"number of odd numbers : \",odd)"
   ]
  },
  {
   "cell_type": "code",
   "execution_count": 15,
   "id": "dc2858da",
   "metadata": {},
   "outputs": [
    {
     "name": "stdout",
     "output_type": "stream",
     "text": [
      "Even numbers: [2, 334, 54, 66, 6]\n",
      "Odd numbers: [1, 75, 7]\n"
     ]
    }
   ],
   "source": [
    "# find even and odd numbers by given list\n",
    "list1 = [2, 1, 334, 54, 66, 75, 6, 7]\n",
    "even = []\n",
    "odd = []\n",
    "\n",
    "for num in list1:  # Iterate over the elements in the list, not indices\n",
    "    if num % 2 == 0:\n",
    "        even.append(num)\n",
    "    else:\n",
    "        odd.append(num)\n",
    "\n",
    "print(\"Even numbers:\", even)\n",
    "print(\"Odd numbers:\", odd)\n"
   ]
  },
  {
   "cell_type": "code",
   "execution_count": 90,
   "id": "09faebcf-f660-47e6-b603-452560fd6abb",
   "metadata": {},
   "outputs": [
    {
     "name": "stdin",
     "output_type": "stream",
     "text": [
      "enter start number :  10\n",
      "enter end number :  21\n"
     ]
    },
    {
     "name": "stdout",
     "output_type": "stream",
     "text": [
      "number of even numbers :  6\n",
      "number of odd numbers :  5\n"
     ]
    }
   ],
   "source": [
    "# find even and odd number count in given range\n",
    "even=[]\n",
    "odd=[]\n",
    "start=int(input(\"enter start number : \"))\n",
    "end=int(input(\"enter end number : \"))\n",
    "for i in range(start,end):\n",
    "    if i%2==0:\n",
    "        even.append(i)\n",
    "    else:\n",
    "        odd.append(i)\n",
    "print(\"number of even numbers : \",len(even))\n",
    "print(\"number of odd numbers : \",len(odd))"
   ]
  },
  {
   "cell_type": "code",
   "execution_count": 91,
   "id": "6020a455-f62b-4b00-afd5-730ac2b77e1a",
   "metadata": {},
   "outputs": [],
   "source": [
    "# Add Items in list\n"
   ]
  },
  {
   "cell_type": "code",
   "execution_count": 92,
   "id": "06cc803e-8ce8-4a7d-9ab8-312bac34164d",
   "metadata": {},
   "outputs": [],
   "source": [
    "# a. append\n",
    "# b. extend\n",
    "# c. insert"
   ]
  },
  {
   "cell_type": "code",
   "execution_count": 93,
   "id": "6363496b-d31e-4faa-aafe-56ab6a4a5b96",
   "metadata": {},
   "outputs": [
    {
     "data": {
      "text/plain": [
       "[3, 4, 5, 6]"
      ]
     },
     "execution_count": 93,
     "metadata": {},
     "output_type": "execute_result"
    }
   ],
   "source": [
    "lst=[3,4,5,6]\n",
    "lst"
   ]
  },
  {
   "cell_type": "code",
   "execution_count": 94,
   "id": "d3b27029-701c-4b59-bf3b-c260816ca77e",
   "metadata": {},
   "outputs": [],
   "source": [
    "lst.append(77777)"
   ]
  },
  {
   "cell_type": "code",
   "execution_count": 95,
   "id": "d12e2142-b656-47de-b565-2e86c833cff5",
   "metadata": {},
   "outputs": [
    {
     "data": {
      "text/plain": [
       "[3, 4, 5, 6, 77777]"
      ]
     },
     "execution_count": 95,
     "metadata": {},
     "output_type": "execute_result"
    }
   ],
   "source": [
    "lst"
   ]
  },
  {
   "cell_type": "code",
   "execution_count": 97,
   "id": "e2618928-6206-46fe-9198-f7251cf00110",
   "metadata": {},
   "outputs": [
    {
     "name": "stdout",
     "output_type": "stream",
     "text": [
      "[16, 25, 36]\n"
     ]
    }
   ],
   "source": [
    "lst=[]\n",
    "for i in range(4,7):\n",
    "    lst.append(i**2)\n",
    "print(lst)"
   ]
  },
  {
   "cell_type": "code",
   "execution_count": 98,
   "id": "9ef58e7f-7625-4f56-b46f-112552422663",
   "metadata": {},
   "outputs": [
    {
     "data": {
      "text/plain": [
       "[16, 25, 36, 3, 4, 5, 6]"
      ]
     },
     "execution_count": 98,
     "metadata": {},
     "output_type": "execute_result"
    }
   ],
   "source": [
    "a=[16, 25, 36]\n",
    "b=[3, 4, 5, 6]\n",
    "a+b"
   ]
  },
  {
   "cell_type": "code",
   "execution_count": 99,
   "id": "3728f9f7-66d8-4277-b680-09524b379619",
   "metadata": {},
   "outputs": [],
   "source": [
    "# join two list by using extend function\n",
    "a.extend(b)"
   ]
  },
  {
   "cell_type": "code",
   "execution_count": 100,
   "id": "7e6c9908-525a-4643-9599-1be3b39e0bc7",
   "metadata": {},
   "outputs": [
    {
     "data": {
      "text/plain": [
       "[16, 25, 36, 3, 4, 5, 6]"
      ]
     },
     "execution_count": 100,
     "metadata": {},
     "output_type": "execute_result"
    }
   ],
   "source": [
    "a"
   ]
  },
  {
   "cell_type": "code",
   "execution_count": 101,
   "id": "114b18ed-205e-489c-b99a-41c1f00bf592",
   "metadata": {},
   "outputs": [],
   "source": [
    "# insert\n",
    "lst=[16, 25, 36, 3, 4, 5, 6]\n",
    "lst.insert(3,77777)"
   ]
  },
  {
   "cell_type": "code",
   "execution_count": 102,
   "id": "b95504c7-b77a-4bd4-8112-ac4f602781de",
   "metadata": {},
   "outputs": [
    {
     "data": {
      "text/plain": [
       "[16, 25, 36, 77777, 3, 4, 5, 6]"
      ]
     },
     "execution_count": 102,
     "metadata": {},
     "output_type": "execute_result"
    }
   ],
   "source": [
    "lst"
   ]
  },
  {
   "cell_type": "code",
   "execution_count": 16,
   "id": "2666efc3-7632-4fde-9dbd-999d637c77d9",
   "metadata": {},
   "outputs": [],
   "source": [
    "# Remove\n",
    "lst=[16, 25, 36, 77777, 3, 4,77777, 5, 6]\n",
    "b=lst[5:].remove(77777)\n",
    "b"
   ]
  },
  {
   "cell_type": "code",
   "execution_count": 17,
   "id": "313555fc-a540-48e6-b786-c71f2433280d",
   "metadata": {},
   "outputs": [
    {
     "data": {
      "text/plain": [
       "[16, 25, 77777, 3, 4, 77777, 5, 6]"
      ]
     },
     "execution_count": 17,
     "metadata": {},
     "output_type": "execute_result"
    }
   ],
   "source": [
    "lst=[16, 25, 36, 77777, 3, 4,77777, 5, 6]\n",
    "lst.remove(36)\n",
    "lst"
   ]
  },
  {
   "cell_type": "code",
   "execution_count": 107,
   "id": "a626d1fb-bb56-4c2d-9c1f-5a121e3cda51",
   "metadata": {},
   "outputs": [],
   "source": [
    "# remove element from list by using pop   [-1]"
   ]
  },
  {
   "cell_type": "code",
   "execution_count": 117,
   "id": "282727ed-ff9b-4eb5-8674-9ca2b6ad52bb",
   "metadata": {},
   "outputs": [
    {
     "data": {
      "text/plain": [
       "[16, 25, 36, 77777, 3, 4, 5, 6]"
      ]
     },
     "execution_count": 117,
     "metadata": {},
     "output_type": "execute_result"
    }
   ],
   "source": [
    "lst=[16, 25, 36, 77777, 3, 4,77777, 5, 6]\n",
    "lst.pop(-3)   # by default -1 index\n",
    "lst"
   ]
  },
  {
   "cell_type": "code",
   "execution_count": 109,
   "id": "db465452-158f-49eb-bbb6-73245926e912",
   "metadata": {},
   "outputs": [],
   "source": [
    "lst.clear()"
   ]
  },
  {
   "cell_type": "code",
   "execution_count": 110,
   "id": "4d18909b-19e2-4731-b62c-b23713646281",
   "metadata": {},
   "outputs": [
    {
     "data": {
      "text/plain": [
       "[]"
      ]
     },
     "execution_count": 110,
     "metadata": {},
     "output_type": "execute_result"
    }
   ],
   "source": [
    "lst"
   ]
  },
  {
   "cell_type": "code",
   "execution_count": 111,
   "id": "cc5a46a0-2a4d-4822-95f4-9b54036223cc",
   "metadata": {},
   "outputs": [],
   "source": [
    "del lst"
   ]
  },
  {
   "cell_type": "code",
   "execution_count": 112,
   "id": "11bffc94-4897-4506-973b-4fac73ed8830",
   "metadata": {
    "scrolled": true
   },
   "outputs": [
    {
     "ename": "NameError",
     "evalue": "name 'lst' is not defined",
     "output_type": "error",
     "traceback": [
      "\u001b[1;31m---------------------------------------------------------------------------\u001b[0m",
      "\u001b[1;31mNameError\u001b[0m                                 Traceback (most recent call last)",
      "Input \u001b[1;32mIn [112]\u001b[0m, in \u001b[0;36m<cell line: 1>\u001b[1;34m()\u001b[0m\n\u001b[1;32m----> 1\u001b[0m \u001b[43mlst\u001b[49m\n",
      "\u001b[1;31mNameError\u001b[0m: name 'lst' is not defined"
     ]
    }
   ],
   "source": [
    "lst"
   ]
  },
  {
   "cell_type": "code",
   "execution_count": 18,
   "id": "4b266a03",
   "metadata": {},
   "outputs": [
    {
     "data": {
      "text/plain": [
       "3"
      ]
     },
     "execution_count": 18,
     "metadata": {},
     "output_type": "execute_result"
    }
   ],
   "source": [
    "lst1 = [16, 25, 36, 77777, 3, 4, 77777, 5, 6]\n",
    "lst1.index(77777) # first occurence"
   ]
  },
  {
   "cell_type": "code",
   "execution_count": 19,
   "id": "5e040be5",
   "metadata": {},
   "outputs": [
    {
     "data": {
      "text/plain": [
       "6"
      ]
     },
     "execution_count": 19,
     "metadata": {},
     "output_type": "execute_result"
    }
   ],
   "source": [
    "lst1 = [16, 25, 36, 77777, 3, 4, 77777, 5, 6]\n",
    "lst1.index(77777,lst1.index(77777)+1) # second occurence"
   ]
  },
  {
   "cell_type": "code",
   "execution_count": 20,
   "id": "a1109660",
   "metadata": {},
   "outputs": [
    {
     "name": "stdout",
     "output_type": "stream",
     "text": [
      "[16, 25, 36, 77777, 3, 4, 5, 6]\n"
     ]
    }
   ],
   "source": [
    "lst1 = [16, 25, 36, 77777, 3, 4, 77777, 5, 6]\n",
    "\n",
    "# Find the index of the second occurrence of 77777\n",
    "second_index = lst1.index(77777, lst1.index(77777) + 1)\n",
    "\n",
    "# Remove the element at the found index\n",
    "lst1.pop(second_index)\n",
    "\n",
    "print(lst1)\n"
   ]
  },
  {
   "cell_type": "code",
   "execution_count": 125,
   "id": "b19ebe7c-3d5c-4126-af09-fea3ecce4695",
   "metadata": {},
   "outputs": [
    {
     "data": {
      "text/plain": [
       "[16, 25, 36, 77777, 3, 4, 77777, 5, 6]"
      ]
     },
     "execution_count": 125,
     "metadata": {},
     "output_type": "execute_result"
    }
   ],
   "source": [
    "# Remove\n",
    "lst1=[16, 25, 36, 77777, 3, 4,77777, 5, 6]\n",
    "# lst1[5:].remove(77777)\n",
    "lst1"
   ]
  },
  {
   "cell_type": "code",
   "execution_count": 51,
   "id": "e02e3726-5958-45f4-88ee-878a3c8ce317",
   "metadata": {},
   "outputs": [
    {
     "name": "stdout",
     "output_type": "stream",
     "text": [
      "=================> [-1, 0] (\n",
      "=================> [-1, 0, 1] (\n",
      "##############################> [-1, 0] )\n",
      "Example 1: 2\n",
      "##############################> [] )\n",
      "=================> [0, 1] (\n",
      "##############################> [0] )\n",
      "=================> [0, 3] (\n",
      "##############################> [0] )\n",
      "##############################> [] )\n",
      "Example 2: 4\n",
      "Example 3: 0\n",
      "=================> [-1, 0] (\n",
      "##############################> [-1] )\n",
      "=================> [-1, 2] (\n",
      "##############################> [-1] )\n",
      "=================> [-1, 4] (\n",
      "##############################> [-1] )\n",
      "##############################> [] )\n"
     ]
    },
    {
     "data": {
      "text/plain": [
       "6"
      ]
     },
     "execution_count": 51,
     "metadata": {},
     "output_type": "execute_result"
    }
   ],
   "source": [
    "def longest_valid_parentheses(s):\n",
    "    stack = []  # Initialize an empty stack to track indices of opening parentheses\n",
    "    max_length = 0  # Initialize the maximum length of valid substring\n",
    "    stack.append(-1)  # Initialize stack with a dummy index to handle special cases\n",
    "\n",
    "    # Iterate through each character in the input string\n",
    "    for i in range(len(s)):\n",
    "        if s[i] == '(':  # If the character is an opening parenthesis\n",
    "            stack.append(i)  # Push the index onto the stack\n",
    "            print(\"=================>\",stack,s[i])   \n",
    "        else:  # If the character is a closing parenthesis\n",
    "            stack.pop()  # Pop an index from the stack (matching opening parenthesis)\n",
    "            print(\"##############################>\",stack,s[i]) \n",
    "            if len(stack) == 0:  # If stack becomes empty (no unmatched opening parenthesis)\n",
    "                stack.append(i)  # Push current index onto stack for next valid substring\n",
    "            else:  # If stack is not empty (matched opening parenthesis found)\n",
    "                # Calculate the length of the valid substring\n",
    "                # by subtracting the index at the top of the stack from the current index\n",
    "                max_length = max(max_length, i - stack[-1])\n",
    "    \n",
    "    return max_length  # Return the maximum length of the valid substring\n",
    "\n",
    "# Examples:\n",
    "s1 = \"(()\"\n",
    "print(\"Example 1:\", longest_valid_parentheses(s1))  # Output: 2\n",
    "\n",
    "s2 = \")()())\"\n",
    "print(\"Example 2:\", longest_valid_parentheses(s2))  # Output: 4\n",
    "\n",
    "s3 = \"\"\n",
    "print(\"Example 3:\", longest_valid_parentheses(s3))  # Output: 0\n",
    "s = \"()()())\"\n",
    "longest_valid_parentheses(s)"
   ]
  },
  {
   "cell_type": "code",
   "execution_count": 46,
   "id": "45496ad2-1047-4d9d-a0ad-5de4b1f90b57",
   "metadata": {},
   "outputs": [],
   "source": [
    "def longest_valid_parentheses1(s):\n",
    "    lst=list(s)\n",
    "    index1=[]\n",
    "    for i in range(int(len(lst)/2)):\n",
    "        if lst[0]==\"(\":\n",
    "            index1.append(0)\n",
    "            break\n",
    "        else:\n",
    "            lst.remove(lst[0])\n",
    "    for i in range(int(len(lst)/2)):\n",
    "        if lst[-1]==\")\":\n",
    "            index1.append(len(lst))\n",
    "            break\n",
    "        else:\n",
    "            lst.remove(lst[-1])\n",
    "    if len(s)==0:\n",
    "        print(0)\n",
    "    else:\n",
    "        print(len(lst)-1) \n",
    "    \n"
   ]
  },
  {
   "cell_type": "code",
   "execution_count": 55,
   "id": "37f80a47-5688-42a4-9571-a3d8f31c969b",
   "metadata": {},
   "outputs": [
    {
     "name": "stdout",
     "output_type": "stream",
     "text": [
      "43\n"
     ]
    }
   ],
   "source": [
    "s = \"()()()()()()()()()())))((()()()()()((()))))\"\n",
    "# s = \"()()())\"\n",
    "print(len(s))\n",
    "# longest_valid_parentheses(s)"
   ]
  },
  {
   "cell_type": "code",
   "execution_count": 48,
   "id": "163cef85-1f12-41bd-81f6-19433a5fb18c",
   "metadata": {},
   "outputs": [
    {
     "name": "stdout",
     "output_type": "stream",
     "text": [
      "2\n"
     ]
    }
   ],
   "source": [
    "s=\"(()\"\n",
    "longest_valid_parentheses1(s)"
   ]
  },
  {
   "cell_type": "code",
   "execution_count": 49,
   "id": "7ef257ce-c089-4be3-9662-c65e7e316c66",
   "metadata": {},
   "outputs": [
    {
     "name": "stdout",
     "output_type": "stream",
     "text": [
      "0\n"
     ]
    }
   ],
   "source": [
    "s=\"\"\n",
    "longest_valid_parentheses1(s)"
   ]
  },
  {
   "cell_type": "code",
   "execution_count": null,
   "id": "a2de2966-399e-4252-8edd-fafead815577",
   "metadata": {},
   "outputs": [],
   "source": []
  }
 ],
 "metadata": {
  "kernelspec": {
   "display_name": "Python 3 (ipykernel)",
   "language": "python",
   "name": "python3"
  },
  "language_info": {
   "codemirror_mode": {
    "name": "ipython",
    "version": 3
   },
   "file_extension": ".py",
   "mimetype": "text/x-python",
   "name": "python",
   "nbconvert_exporter": "python",
   "pygments_lexer": "ipython3",
   "version": "3.9.12"
  }
 },
 "nbformat": 4,
 "nbformat_minor": 5
}
